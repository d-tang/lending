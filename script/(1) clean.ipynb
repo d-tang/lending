{
 "cells": [
  {
   "cell_type": "code",
   "execution_count": 1,
   "metadata": {
    "collapsed": true
   },
   "outputs": [],
   "source": [
    "import pandas as pd\n",
    "import numpy as np\n",
    "import matplotlib.pyplot as plt\n",
    "%matplotlib inline"
   ]
  },
  {
   "cell_type": "code",
   "execution_count": 2,
   "metadata": {
    "collapsed": false
   },
   "outputs": [
    {
     "name": "stderr",
     "output_type": "stream",
     "text": [
      "C:\\Users\\Daniel\\Anaconda2\\lib\\site-packages\\ipykernel\\__main__.py:1: FutureWarning: The 'skip_footer' argument has been deprecated and will be removed in a future version. Please use the 'skipfooter' argument instead.\n",
      "  if __name__ == '__main__':\n",
      "C:\\Users\\Daniel\\Anaconda2\\lib\\site-packages\\ipykernel\\__main__.py:1: ParserWarning: Falling back to the 'python' engine because the 'c' engine does not support skipfooter; you can avoid this warning by specifying engine='python'.\n",
      "  if __name__ == '__main__':\n"
     ]
    }
   ],
   "source": [
    "df_full = pd.read_csv('../data/LoanStats2014.csv', header=1, skip_footer=2)"
   ]
  },
  {
   "cell_type": "code",
   "execution_count": 3,
   "metadata": {
    "collapsed": true
   },
   "outputs": [],
   "source": [
    "df = df_full.copy()"
   ]
  },
  {
   "cell_type": "code",
   "execution_count": 4,
   "metadata": {
    "collapsed": false
   },
   "outputs": [
    {
     "name": "stdout",
     "output_type": "stream",
     "text": [
      "<class 'pandas.core.frame.DataFrame'>\n",
      "RangeIndex: 235629 entries, 0 to 235628\n",
      "Columns: 111 entries, id to total_il_high_credit_limit\n",
      "dtypes: float64(44), int64(43), object(24)\n",
      "memory usage: 199.5+ MB\n"
     ]
    }
   ],
   "source": [
    "df.info()"
   ]
  },
  {
   "cell_type": "markdown",
   "metadata": {},
   "source": [
    "### Define targets"
   ]
  },
  {
   "cell_type": "markdown",
   "metadata": {},
   "source": [
    "</br> Initially, try a binary target... <br />1 if total payment received is >= 1.05% of amount funded<br />0 if loan status is 'charged off', 'default', '31-120 days late', or is fully paid, but not >= 1.05% of funded"
   ]
  },
  {
   "cell_type": "code",
   "execution_count": 5,
   "metadata": {
    "collapsed": false
   },
   "outputs": [],
   "source": [
    "def final_status(status, funded_amnt, total_pymnt):\n",
    "    #define list to drop\n",
    "    drop_status = ['In Grace Period', 'Late (16-30 days)']\n",
    "    neg_status = ['Late (31-120 days)', 'Charged Off', 'Default']\n",
    "    \n",
    "    if status in drop_status:\n",
    "        return 99\n",
    "    elif status in neg_status:\n",
    "        return 0\n",
    "    elif status == 'Fully Paid':\n",
    "        if total_pymnt>funded_amnt*1.05:\n",
    "            return 1\n",
    "        else:\n",
    "            return 0\n",
    "    elif status == 'Current':\n",
    "        if total_pymnt>funded_amnt*1.05:\n",
    "            return 1\n",
    "        else:\n",
    "            return 99     "
   ]
  },
  {
   "cell_type": "code",
   "execution_count": 6,
   "metadata": {
    "collapsed": false
   },
   "outputs": [],
   "source": [
    "df['target'] = df.apply(lambda x: final_status(x['loan_status'], x['funded_amnt_inv'], x['total_pymnt_inv']), axis=1)"
   ]
  },
  {
   "cell_type": "code",
   "execution_count": 7,
   "metadata": {
    "collapsed": false
   },
   "outputs": [
    {
     "data": {
      "text/plain": [
       "99    100850\n",
       "1      93301\n",
       "0      41478\n",
       "Name: target, dtype: int64"
      ]
     },
     "execution_count": 7,
     "metadata": {},
     "output_type": "execute_result"
    }
   ],
   "source": [
    "df['target'].value_counts()"
   ]
  },
  {
   "cell_type": "code",
   "execution_count": 8,
   "metadata": {
    "collapsed": true
   },
   "outputs": [],
   "source": [
    "df.drop(df[df['target']==99].index, inplace=True)"
   ]
  },
  {
   "cell_type": "code",
   "execution_count": 9,
   "metadata": {
    "collapsed": true
   },
   "outputs": [],
   "source": [
    "df.reset_index(inplace=True, drop=True)"
   ]
  },
  {
   "cell_type": "code",
   "execution_count": 11,
   "metadata": {
    "collapsed": true
   },
   "outputs": [],
   "source": [
    "df.set_index(['id'], inplace=True)"
   ]
  },
  {
   "cell_type": "code",
   "execution_count": 13,
   "metadata": {
    "collapsed": false
   },
   "outputs": [
    {
     "data": {
      "text/html": [
       "<div>\n",
       "<table border=\"1\" class=\"dataframe\">\n",
       "  <thead>\n",
       "    <tr style=\"text-align: right;\">\n",
       "      <th></th>\n",
       "      <th>member_id</th>\n",
       "      <th>loan_amnt</th>\n",
       "      <th>funded_amnt</th>\n",
       "      <th>funded_amnt_inv</th>\n",
       "      <th>term</th>\n",
       "      <th>int_rate</th>\n",
       "      <th>installment</th>\n",
       "      <th>grade</th>\n",
       "      <th>sub_grade</th>\n",
       "      <th>emp_title</th>\n",
       "      <th>...</th>\n",
       "      <th>num_tl_op_past_12m</th>\n",
       "      <th>pct_tl_nvr_dlq</th>\n",
       "      <th>percent_bc_gt_75</th>\n",
       "      <th>pub_rec_bankruptcies</th>\n",
       "      <th>tax_liens</th>\n",
       "      <th>tot_hi_cred_lim</th>\n",
       "      <th>total_bal_ex_mort</th>\n",
       "      <th>total_bc_limit</th>\n",
       "      <th>total_il_high_credit_limit</th>\n",
       "      <th>target</th>\n",
       "    </tr>\n",
       "    <tr>\n",
       "      <th>id</th>\n",
       "      <th></th>\n",
       "      <th></th>\n",
       "      <th></th>\n",
       "      <th></th>\n",
       "      <th></th>\n",
       "      <th></th>\n",
       "      <th></th>\n",
       "      <th></th>\n",
       "      <th></th>\n",
       "      <th></th>\n",
       "      <th></th>\n",
       "      <th></th>\n",
       "      <th></th>\n",
       "      <th></th>\n",
       "      <th></th>\n",
       "      <th></th>\n",
       "      <th></th>\n",
       "      <th></th>\n",
       "      <th></th>\n",
       "      <th></th>\n",
       "      <th></th>\n",
       "    </tr>\n",
       "  </thead>\n",
       "  <tbody>\n",
       "    <tr>\n",
       "      <th>36805548</th>\n",
       "      <td>39558264</td>\n",
       "      <td>10400</td>\n",
       "      <td>10400</td>\n",
       "      <td>10400</td>\n",
       "      <td>36 months</td>\n",
       "      <td>6.99%</td>\n",
       "      <td>321.08</td>\n",
       "      <td>A</td>\n",
       "      <td>A3</td>\n",
       "      <td>Truck Driver Delivery Personel</td>\n",
       "      <td>...</td>\n",
       "      <td>4</td>\n",
       "      <td>83.3</td>\n",
       "      <td>14.3</td>\n",
       "      <td>0</td>\n",
       "      <td>0</td>\n",
       "      <td>179407</td>\n",
       "      <td>15030</td>\n",
       "      <td>13000</td>\n",
       "      <td>11325</td>\n",
       "      <td>0</td>\n",
       "    </tr>\n",
       "    <tr>\n",
       "      <th>38098114</th>\n",
       "      <td>40860827</td>\n",
       "      <td>15000</td>\n",
       "      <td>15000</td>\n",
       "      <td>15000</td>\n",
       "      <td>60 months</td>\n",
       "      <td>12.39%</td>\n",
       "      <td>336.64</td>\n",
       "      <td>C</td>\n",
       "      <td>C1</td>\n",
       "      <td>MANAGEMENT</td>\n",
       "      <td>...</td>\n",
       "      <td>4</td>\n",
       "      <td>100.0</td>\n",
       "      <td>0.0</td>\n",
       "      <td>0</td>\n",
       "      <td>0</td>\n",
       "      <td>196500</td>\n",
       "      <td>149140</td>\n",
       "      <td>10000</td>\n",
       "      <td>12000</td>\n",
       "      <td>1</td>\n",
       "    </tr>\n",
       "    <tr>\n",
       "      <th>37822187</th>\n",
       "      <td>40585251</td>\n",
       "      <td>9600</td>\n",
       "      <td>9600</td>\n",
       "      <td>9600</td>\n",
       "      <td>36 months</td>\n",
       "      <td>13.66%</td>\n",
       "      <td>326.53</td>\n",
       "      <td>C</td>\n",
       "      <td>C3</td>\n",
       "      <td>Admin Specialist</td>\n",
       "      <td>...</td>\n",
       "      <td>3</td>\n",
       "      <td>100.0</td>\n",
       "      <td>60.0</td>\n",
       "      <td>0</td>\n",
       "      <td>0</td>\n",
       "      <td>52490</td>\n",
       "      <td>38566</td>\n",
       "      <td>21100</td>\n",
       "      <td>24890</td>\n",
       "      <td>0</td>\n",
       "    </tr>\n",
       "    <tr>\n",
       "      <th>37662224</th>\n",
       "      <td>40425321</td>\n",
       "      <td>7650</td>\n",
       "      <td>7650</td>\n",
       "      <td>7650</td>\n",
       "      <td>36 months</td>\n",
       "      <td>13.66%</td>\n",
       "      <td>260.20</td>\n",
       "      <td>C</td>\n",
       "      <td>C3</td>\n",
       "      <td>Technical Specialist</td>\n",
       "      <td>...</td>\n",
       "      <td>2</td>\n",
       "      <td>100.0</td>\n",
       "      <td>100.0</td>\n",
       "      <td>0</td>\n",
       "      <td>0</td>\n",
       "      <td>82331</td>\n",
       "      <td>64426</td>\n",
       "      <td>4900</td>\n",
       "      <td>64031</td>\n",
       "      <td>0</td>\n",
       "    </tr>\n",
       "    <tr>\n",
       "      <th>37842129</th>\n",
       "      <td>40605224</td>\n",
       "      <td>21425</td>\n",
       "      <td>21425</td>\n",
       "      <td>21425</td>\n",
       "      <td>60 months</td>\n",
       "      <td>15.59%</td>\n",
       "      <td>516.36</td>\n",
       "      <td>D</td>\n",
       "      <td>D1</td>\n",
       "      <td>Programming Analysis Supervisor</td>\n",
       "      <td>...</td>\n",
       "      <td>2</td>\n",
       "      <td>91.4</td>\n",
       "      <td>100.0</td>\n",
       "      <td>0</td>\n",
       "      <td>0</td>\n",
       "      <td>57073</td>\n",
       "      <td>42315</td>\n",
       "      <td>15000</td>\n",
       "      <td>35573</td>\n",
       "      <td>1</td>\n",
       "    </tr>\n",
       "  </tbody>\n",
       "</table>\n",
       "<p>5 rows × 111 columns</p>\n",
       "</div>"
      ],
      "text/plain": [
       "          member_id  loan_amnt  funded_amnt  funded_amnt_inv        term  \\\n",
       "id                                                                         \n",
       "36805548   39558264      10400        10400            10400   36 months   \n",
       "38098114   40860827      15000        15000            15000   60 months   \n",
       "37822187   40585251       9600         9600             9600   36 months   \n",
       "37662224   40425321       7650         7650             7650   36 months   \n",
       "37842129   40605224      21425        21425            21425   60 months   \n",
       "\n",
       "         int_rate  installment grade sub_grade  \\\n",
       "id                                               \n",
       "36805548    6.99%       321.08     A        A3   \n",
       "38098114   12.39%       336.64     C        C1   \n",
       "37822187   13.66%       326.53     C        C3   \n",
       "37662224   13.66%       260.20     C        C3   \n",
       "37842129   15.59%       516.36     D        D1   \n",
       "\n",
       "                                emp_title  ...   num_tl_op_past_12m  \\\n",
       "id                                         ...                        \n",
       "36805548   Truck Driver Delivery Personel  ...                    4   \n",
       "38098114                       MANAGEMENT  ...                    4   \n",
       "37822187                 Admin Specialist  ...                    3   \n",
       "37662224             Technical Specialist  ...                    2   \n",
       "37842129  Programming Analysis Supervisor  ...                    2   \n",
       "\n",
       "         pct_tl_nvr_dlq  percent_bc_gt_75 pub_rec_bankruptcies tax_liens  \\\n",
       "id                                                                         \n",
       "36805548           83.3              14.3                    0         0   \n",
       "38098114          100.0               0.0                    0         0   \n",
       "37822187          100.0              60.0                    0         0   \n",
       "37662224          100.0             100.0                    0         0   \n",
       "37842129           91.4             100.0                    0         0   \n",
       "\n",
       "         tot_hi_cred_lim total_bal_ex_mort total_bc_limit  \\\n",
       "id                                                          \n",
       "36805548          179407             15030          13000   \n",
       "38098114          196500            149140          10000   \n",
       "37822187           52490             38566          21100   \n",
       "37662224           82331             64426           4900   \n",
       "37842129           57073             42315          15000   \n",
       "\n",
       "         total_il_high_credit_limit target  \n",
       "id                                          \n",
       "36805548                      11325      0  \n",
       "38098114                      12000      1  \n",
       "37822187                      24890      0  \n",
       "37662224                      64031      0  \n",
       "37842129                      35573      1  \n",
       "\n",
       "[5 rows x 111 columns]"
      ]
     },
     "execution_count": 13,
     "metadata": {},
     "output_type": "execute_result"
    }
   ],
   "source": [
    "df.head()"
   ]
  },
  {
   "cell_type": "markdown",
   "metadata": {},
   "source": [
    "## Clean Data"
   ]
  },
  {
   "cell_type": "code",
   "execution_count": 16,
   "metadata": {
    "collapsed": true
   },
   "outputs": [],
   "source": [
    "n_cols = df.shape[1]"
   ]
  },
  {
   "cell_type": "code",
   "execution_count": 17,
   "metadata": {
    "collapsed": true
   },
   "outputs": [],
   "source": [
    "drop_cols = [\n",
    "        'url'\n",
    "        , 'application_type'\n",
    "        , 'policy_code'\n",
    "    ]"
   ]
  },
  {
   "cell_type": "code",
   "execution_count": 18,
   "metadata": {
    "collapsed": true
   },
   "outputs": [],
   "source": [
    "df.drop(drop_cols, axis=1, inplace=True)"
   ]
  },
  {
   "cell_type": "code",
   "execution_count": 19,
   "metadata": {
    "collapsed": false
   },
   "outputs": [],
   "source": [
    "df.dropna(how='all', axis=1, inplace=True)"
   ]
  },
  {
   "cell_type": "markdown",
   "metadata": {},
   "source": [
    "### Choose only columns we will have information for when loan originates"
   ]
  },
  {
   "cell_type": "code",
   "execution_count": 20,
   "metadata": {
    "collapsed": false
   },
   "outputs": [
    {
     "name": "stdout",
     "output_type": "stream",
     "text": [
      ", 'member_id'\n",
      ", 'loan_amnt'\n",
      ", 'funded_amnt'\n",
      ", 'funded_amnt_inv'\n",
      ", 'term'\n",
      ", 'int_rate'\n",
      ", 'installment'\n",
      ", 'grade'\n",
      ", 'sub_grade'\n",
      ", 'emp_title'\n",
      ", 'emp_length'\n",
      ", 'home_ownership'\n",
      ", 'annual_inc'\n",
      ", 'verification_status'\n",
      ", 'issue_d'\n",
      ", 'loan_status'\n",
      ", 'pymnt_plan'\n",
      ", 'desc'\n",
      ", 'purpose'\n",
      ", 'title'\n",
      ", 'zip_code'\n",
      ", 'addr_state'\n",
      ", 'dti'\n",
      ", 'delinq_2yrs'\n",
      ", 'earliest_cr_line'\n",
      ", 'inq_last_6mths'\n",
      ", 'mths_since_last_delinq'\n",
      ", 'mths_since_last_record'\n",
      ", 'open_acc'\n",
      ", 'pub_rec'\n",
      ", 'revol_bal'\n",
      ", 'revol_util'\n",
      ", 'total_acc'\n",
      ", 'initial_list_status'\n",
      ", 'out_prncp'\n",
      ", 'out_prncp_inv'\n",
      ", 'total_pymnt'\n",
      ", 'total_pymnt_inv'\n",
      ", 'total_rec_prncp'\n",
      ", 'total_rec_int'\n",
      ", 'total_rec_late_fee'\n",
      ", 'recoveries'\n",
      ", 'collection_recovery_fee'\n",
      ", 'last_pymnt_d'\n",
      ", 'last_pymnt_amnt'\n",
      ", 'next_pymnt_d'\n",
      ", 'last_credit_pull_d'\n",
      ", 'collections_12_mths_ex_med'\n",
      ", 'mths_since_last_major_derog'\n",
      ", 'acc_now_delinq'\n",
      ", 'tot_coll_amt'\n",
      ", 'tot_cur_bal'\n",
      ", 'total_rev_hi_lim'\n",
      ", 'acc_open_past_24mths'\n",
      ", 'avg_cur_bal'\n",
      ", 'bc_open_to_buy'\n",
      ", 'bc_util'\n",
      ", 'chargeoff_within_12_mths'\n",
      ", 'delinq_amnt'\n",
      ", 'mo_sin_old_il_acct'\n",
      ", 'mo_sin_old_rev_tl_op'\n",
      ", 'mo_sin_rcnt_rev_tl_op'\n",
      ", 'mo_sin_rcnt_tl'\n",
      ", 'mort_acc'\n",
      ", 'mths_since_recent_bc'\n",
      ", 'mths_since_recent_bc_dlq'\n",
      ", 'mths_since_recent_inq'\n",
      ", 'mths_since_recent_revol_delinq'\n",
      ", 'num_accts_ever_120_pd'\n",
      ", 'num_actv_bc_tl'\n",
      ", 'num_actv_rev_tl'\n",
      ", 'num_bc_sats'\n",
      ", 'num_bc_tl'\n",
      ", 'num_il_tl'\n",
      ", 'num_op_rev_tl'\n",
      ", 'num_rev_accts'\n",
      ", 'num_rev_tl_bal_gt_0'\n",
      ", 'num_sats'\n",
      ", 'num_tl_120dpd_2m'\n",
      ", 'num_tl_30dpd'\n",
      ", 'num_tl_90g_dpd_24m'\n",
      ", 'num_tl_op_past_12m'\n",
      ", 'pct_tl_nvr_dlq'\n",
      ", 'percent_bc_gt_75'\n",
      ", 'pub_rec_bankruptcies'\n",
      ", 'tax_liens'\n",
      ", 'tot_hi_cred_lim'\n",
      ", 'total_bal_ex_mort'\n",
      ", 'total_bc_limit'\n",
      ", 'total_il_high_credit_limit'\n",
      ", 'target'\n"
     ]
    }
   ],
   "source": [
    "for i in df.columns:\n",
    "    print \", '{}'\".format(i)"
   ]
  },
  {
   "cell_type": "code",
   "execution_count": 21,
   "metadata": {
    "collapsed": true
   },
   "outputs": [],
   "source": [
    "keep_cols = [\n",
    "            #, 'id'\n",
    "            #, 'member_id'\n",
    "            'loan_amnt'\n",
    "            #, 'funded_amnt'\n",
    "            #, 'funded_amnt_inv'\n",
    "            , 'term'\n",
    "            , 'int_rate'\n",
    "            , 'installment'\n",
    "            , 'grade'\n",
    "            , 'sub_grade'\n",
    "            #, 'emp_title'\n",
    "            , 'emp_length'\n",
    "            , 'home_ownership'\n",
    "            , 'annual_inc'\n",
    "            , 'verification_status'\n",
    "            #, 'issue_d'\n",
    "            #, 'loan_status'\n",
    "            #, 'pymnt_plan'\n",
    "            , 'desc'\n",
    "            , 'purpose'\n",
    "            #, 'title'\n",
    "            #, 'zip_code'\n",
    "            #, 'addr_state'\n",
    "            , 'dti'\n",
    "            , 'delinq_2yrs'\n",
    "            , 'earliest_cr_line'\n",
    "            , 'inq_last_6mths'\n",
    "            , 'mths_since_last_delinq'\n",
    "            , 'mths_since_last_record'\n",
    "            , 'open_acc'\n",
    "            , 'pub_rec'\n",
    "            , 'revol_bal'\n",
    "            , 'revol_util'\n",
    "            , 'total_acc'\n",
    "            #, 'initial_list_status'\n",
    "            #, 'out_prncp'\n",
    "            #, 'out_prncp_inv'\n",
    "            #, 'total_pymnt'\n",
    "            #, 'total_pymnt_inv'\n",
    "            #, 'total_rec_prncp'\n",
    "            #, 'total_rec_int'\n",
    "            #, 'total_rec_late_fee'\n",
    "            #, 'recoveries'\n",
    "            #, 'collection_recovery_fee'\n",
    "            #, 'last_pymnt_d'\n",
    "            #, 'last_pymnt_amnt'\n",
    "            #, 'next_pymnt_d'\n",
    "            #, 'last_credit_pull_d'\n",
    "            , 'collections_12_mths_ex_med'\n",
    "            , 'mths_since_last_major_derog'\n",
    "            , 'acc_now_delinq'\n",
    "            #, 'tot_coll_amt'\n",
    "            #, 'tot_cur_bal'\n",
    "            , 'total_rev_hi_lim'\n",
    "            , 'acc_open_past_24mths'\n",
    "            , 'avg_cur_bal'\n",
    "            , 'bc_open_to_buy'\n",
    "            , 'bc_util'\n",
    "            , 'chargeoff_within_12_mths'\n",
    "            , 'delinq_amnt'\n",
    "            , 'mo_sin_old_il_acct'\n",
    "            , 'mo_sin_old_rev_tl_op'\n",
    "            , 'mo_sin_rcnt_rev_tl_op'\n",
    "            , 'mo_sin_rcnt_tl'\n",
    "            , 'mort_acc'\n",
    "            , 'mths_since_recent_bc'\n",
    "            , 'mths_since_recent_bc_dlq'\n",
    "            , 'mths_since_recent_inq'\n",
    "            , 'mths_since_recent_revol_delinq'\n",
    "            , 'num_accts_ever_120_pd'\n",
    "            , 'num_actv_bc_tl'\n",
    "            , 'num_actv_rev_tl'\n",
    "            , 'num_bc_sats'\n",
    "            , 'num_bc_tl'\n",
    "            , 'num_il_tl'\n",
    "            , 'num_op_rev_tl'\n",
    "            , 'num_rev_accts'\n",
    "            , 'num_rev_tl_bal_gt_0'\n",
    "            , 'num_sats'\n",
    "            , 'num_tl_120dpd_2m'\n",
    "            , 'num_tl_30dpd'\n",
    "            , 'num_tl_90g_dpd_24m'\n",
    "            , 'num_tl_op_past_12m'\n",
    "            , 'pct_tl_nvr_dlq'\n",
    "            , 'percent_bc_gt_75'\n",
    "            , 'pub_rec_bankruptcies'\n",
    "            , 'tax_liens'\n",
    "            , 'tot_hi_cred_lim'\n",
    "            , 'total_bal_ex_mort'\n",
    "            , 'total_bc_limit'\n",
    "            , 'total_il_high_credit_limit'\n",
    "            ]"
   ]
  },
  {
   "cell_type": "code",
   "execution_count": 22,
   "metadata": {
    "collapsed": false
   },
   "outputs": [],
   "source": [
    "df = df[keep_cols]"
   ]
  },
  {
   "cell_type": "markdown",
   "metadata": {},
   "source": [
    "### Turn into correct data type"
   ]
  },
  {
   "cell_type": "code",
   "execution_count": 23,
   "metadata": {
    "collapsed": false,
    "scrolled": true
   },
   "outputs": [
    {
     "data": {
      "text/html": [
       "<div>\n",
       "<table border=\"1\" class=\"dataframe\">\n",
       "  <thead>\n",
       "    <tr style=\"text-align: right;\">\n",
       "      <th>id</th>\n",
       "      <th>36805548</th>\n",
       "      <th>38098114</th>\n",
       "      <th>37822187</th>\n",
       "      <th>37662224</th>\n",
       "      <th>37842129</th>\n",
       "      <th>37682226</th>\n",
       "      <th>36804663</th>\n",
       "      <th>37741884</th>\n",
       "      <th>37800722</th>\n",
       "      <th>37642222</th>\n",
       "      <th>...</th>\n",
       "      <th>9199716</th>\n",
       "      <th>9666300</th>\n",
       "      <th>9715141</th>\n",
       "      <th>9695736</th>\n",
       "      <th>9007579</th>\n",
       "      <th>9745590</th>\n",
       "      <th>9745484</th>\n",
       "      <th>9684700</th>\n",
       "      <th>9604874</th>\n",
       "      <th>9199665</th>\n",
       "    </tr>\n",
       "  </thead>\n",
       "  <tbody>\n",
       "    <tr>\n",
       "      <th>term</th>\n",
       "      <td>36 months</td>\n",
       "      <td>60 months</td>\n",
       "      <td>36 months</td>\n",
       "      <td>36 months</td>\n",
       "      <td>60 months</td>\n",
       "      <td>36 months</td>\n",
       "      <td>36 months</td>\n",
       "      <td>36 months</td>\n",
       "      <td>36 months</td>\n",
       "      <td>36 months</td>\n",
       "      <td>...</td>\n",
       "      <td>36 months</td>\n",
       "      <td>36 months</td>\n",
       "      <td>36 months</td>\n",
       "      <td>60 months</td>\n",
       "      <td>36 months</td>\n",
       "      <td>36 months</td>\n",
       "      <td>36 months</td>\n",
       "      <td>60 months</td>\n",
       "      <td>36 months</td>\n",
       "      <td>36 months</td>\n",
       "    </tr>\n",
       "    <tr>\n",
       "      <th>int_rate</th>\n",
       "      <td>6.99%</td>\n",
       "      <td>12.39%</td>\n",
       "      <td>13.66%</td>\n",
       "      <td>13.66%</td>\n",
       "      <td>15.59%</td>\n",
       "      <td>13.66%</td>\n",
       "      <td>14.31%</td>\n",
       "      <td>11.99%</td>\n",
       "      <td>17.86%</td>\n",
       "      <td>11.44%</td>\n",
       "      <td>...</td>\n",
       "      <td>10.99%</td>\n",
       "      <td>11.99%</td>\n",
       "      <td>15.61%</td>\n",
       "      <td>18.25%</td>\n",
       "      <td>7.90%</td>\n",
       "      <td>18.25%</td>\n",
       "      <td>13.53%</td>\n",
       "      <td>19.97%</td>\n",
       "      <td>7.90%</td>\n",
       "      <td>19.20%</td>\n",
       "    </tr>\n",
       "    <tr>\n",
       "      <th>grade</th>\n",
       "      <td>A</td>\n",
       "      <td>C</td>\n",
       "      <td>C</td>\n",
       "      <td>C</td>\n",
       "      <td>D</td>\n",
       "      <td>C</td>\n",
       "      <td>C</td>\n",
       "      <td>B</td>\n",
       "      <td>D</td>\n",
       "      <td>B</td>\n",
       "      <td>...</td>\n",
       "      <td>B</td>\n",
       "      <td>B</td>\n",
       "      <td>C</td>\n",
       "      <td>D</td>\n",
       "      <td>A</td>\n",
       "      <td>D</td>\n",
       "      <td>B</td>\n",
       "      <td>D</td>\n",
       "      <td>A</td>\n",
       "      <td>D</td>\n",
       "    </tr>\n",
       "    <tr>\n",
       "      <th>sub_grade</th>\n",
       "      <td>A3</td>\n",
       "      <td>C1</td>\n",
       "      <td>C3</td>\n",
       "      <td>C3</td>\n",
       "      <td>D1</td>\n",
       "      <td>C3</td>\n",
       "      <td>C4</td>\n",
       "      <td>B5</td>\n",
       "      <td>D5</td>\n",
       "      <td>B4</td>\n",
       "      <td>...</td>\n",
       "      <td>B2</td>\n",
       "      <td>B3</td>\n",
       "      <td>C4</td>\n",
       "      <td>D3</td>\n",
       "      <td>A4</td>\n",
       "      <td>D3</td>\n",
       "      <td>B5</td>\n",
       "      <td>D5</td>\n",
       "      <td>A4</td>\n",
       "      <td>D3</td>\n",
       "    </tr>\n",
       "    <tr>\n",
       "      <th>emp_length</th>\n",
       "      <td>8 years</td>\n",
       "      <td>10+ years</td>\n",
       "      <td>10+ years</td>\n",
       "      <td>&lt; 1 year</td>\n",
       "      <td>6 years</td>\n",
       "      <td>10+ years</td>\n",
       "      <td>10+ years</td>\n",
       "      <td>&lt; 1 year</td>\n",
       "      <td>10+ years</td>\n",
       "      <td>2 years</td>\n",
       "      <td>...</td>\n",
       "      <td>n/a</td>\n",
       "      <td>8 years</td>\n",
       "      <td>7 years</td>\n",
       "      <td>5 years</td>\n",
       "      <td>3 years</td>\n",
       "      <td>10+ years</td>\n",
       "      <td>4 years</td>\n",
       "      <td>10+ years</td>\n",
       "      <td>3 years</td>\n",
       "      <td>10+ years</td>\n",
       "    </tr>\n",
       "    <tr>\n",
       "      <th>home_ownership</th>\n",
       "      <td>MORTGAGE</td>\n",
       "      <td>RENT</td>\n",
       "      <td>RENT</td>\n",
       "      <td>RENT</td>\n",
       "      <td>RENT</td>\n",
       "      <td>MORTGAGE</td>\n",
       "      <td>RENT</td>\n",
       "      <td>MORTGAGE</td>\n",
       "      <td>RENT</td>\n",
       "      <td>RENT</td>\n",
       "      <td>...</td>\n",
       "      <td>MORTGAGE</td>\n",
       "      <td>RENT</td>\n",
       "      <td>RENT</td>\n",
       "      <td>MORTGAGE</td>\n",
       "      <td>RENT</td>\n",
       "      <td>RENT</td>\n",
       "      <td>RENT</td>\n",
       "      <td>MORTGAGE</td>\n",
       "      <td>OWN</td>\n",
       "      <td>MORTGAGE</td>\n",
       "    </tr>\n",
       "    <tr>\n",
       "      <th>verification_status</th>\n",
       "      <td>Not Verified</td>\n",
       "      <td>Source Verified</td>\n",
       "      <td>Source Verified</td>\n",
       "      <td>Source Verified</td>\n",
       "      <td>Source Verified</td>\n",
       "      <td>Verified</td>\n",
       "      <td>Source Verified</td>\n",
       "      <td>Source Verified</td>\n",
       "      <td>Source Verified</td>\n",
       "      <td>Not Verified</td>\n",
       "      <td>...</td>\n",
       "      <td>Verified</td>\n",
       "      <td>Source Verified</td>\n",
       "      <td>Verified</td>\n",
       "      <td>Verified</td>\n",
       "      <td>Verified</td>\n",
       "      <td>Source Verified</td>\n",
       "      <td>Source Verified</td>\n",
       "      <td>Verified</td>\n",
       "      <td>Verified</td>\n",
       "      <td>Verified</td>\n",
       "    </tr>\n",
       "    <tr>\n",
       "      <th>desc</th>\n",
       "      <td>NaN</td>\n",
       "      <td>NaN</td>\n",
       "      <td>NaN</td>\n",
       "      <td>NaN</td>\n",
       "      <td>NaN</td>\n",
       "      <td>NaN</td>\n",
       "      <td>NaN</td>\n",
       "      <td>NaN</td>\n",
       "      <td>NaN</td>\n",
       "      <td>NaN</td>\n",
       "      <td>...</td>\n",
       "      <td>Borrower added on 12/10/13 &gt; all my loans in...</td>\n",
       "      <td>Borrower added on 12/10/13 &gt; pay off higher ...</td>\n",
       "      <td>NaN</td>\n",
       "      <td>NaN</td>\n",
       "      <td>Borrower added on 12/09/13 &gt; consolidate all...</td>\n",
       "      <td>NaN</td>\n",
       "      <td>NaN</td>\n",
       "      <td>NaN</td>\n",
       "      <td>NaN</td>\n",
       "      <td>Borrower added on 12/04/13 &gt; I will like a l...</td>\n",
       "    </tr>\n",
       "    <tr>\n",
       "      <th>purpose</th>\n",
       "      <td>credit_card</td>\n",
       "      <td>debt_consolidation</td>\n",
       "      <td>debt_consolidation</td>\n",
       "      <td>debt_consolidation</td>\n",
       "      <td>credit_card</td>\n",
       "      <td>debt_consolidation</td>\n",
       "      <td>credit_card</td>\n",
       "      <td>home_improvement</td>\n",
       "      <td>house</td>\n",
       "      <td>debt_consolidation</td>\n",
       "      <td>...</td>\n",
       "      <td>credit_card</td>\n",
       "      <td>credit_card</td>\n",
       "      <td>credit_card</td>\n",
       "      <td>medical</td>\n",
       "      <td>debt_consolidation</td>\n",
       "      <td>vacation</td>\n",
       "      <td>credit_card</td>\n",
       "      <td>debt_consolidation</td>\n",
       "      <td>credit_card</td>\n",
       "      <td>other</td>\n",
       "    </tr>\n",
       "    <tr>\n",
       "      <th>earliest_cr_line</th>\n",
       "      <td>Sep-1989</td>\n",
       "      <td>Aug-1994</td>\n",
       "      <td>Nov-1992</td>\n",
       "      <td>Aug-2002</td>\n",
       "      <td>Aug-2003</td>\n",
       "      <td>Jan-2001</td>\n",
       "      <td>Oct-1998</td>\n",
       "      <td>Oct-2001</td>\n",
       "      <td>Jan-1999</td>\n",
       "      <td>May-2009</td>\n",
       "      <td>...</td>\n",
       "      <td>May-1990</td>\n",
       "      <td>Aug-1983</td>\n",
       "      <td>Nov-1993</td>\n",
       "      <td>Nov-1994</td>\n",
       "      <td>Jul-1998</td>\n",
       "      <td>Jun-2002</td>\n",
       "      <td>Aug-1999</td>\n",
       "      <td>Jun-1997</td>\n",
       "      <td>Feb-2003</td>\n",
       "      <td>Feb-2000</td>\n",
       "    </tr>\n",
       "    <tr>\n",
       "      <th>revol_util</th>\n",
       "      <td>31.6%</td>\n",
       "      <td>29%</td>\n",
       "      <td>59.4%</td>\n",
       "      <td>91.9%</td>\n",
       "      <td>76.2%</td>\n",
       "      <td>46.4%</td>\n",
       "      <td>82.2%</td>\n",
       "      <td>94.3%</td>\n",
       "      <td>33.1%</td>\n",
       "      <td>20.2%</td>\n",
       "      <td>...</td>\n",
       "      <td>19.5%</td>\n",
       "      <td>55.9%</td>\n",
       "      <td>57.4%</td>\n",
       "      <td>10.7%</td>\n",
       "      <td>16.3%</td>\n",
       "      <td>28.8%</td>\n",
       "      <td>96%</td>\n",
       "      <td>46.3%</td>\n",
       "      <td>21.5%</td>\n",
       "      <td>70.8%</td>\n",
       "    </tr>\n",
       "  </tbody>\n",
       "</table>\n",
       "<p>11 rows × 134779 columns</p>\n",
       "</div>"
      ],
      "text/plain": [
       "id                       36805548            38098114            37822187  \\\n",
       "term                    36 months           60 months           36 months   \n",
       "int_rate                    6.99%              12.39%              13.66%   \n",
       "grade                           A                   C                   C   \n",
       "sub_grade                      A3                  C1                  C3   \n",
       "emp_length                8 years           10+ years           10+ years   \n",
       "home_ownership           MORTGAGE                RENT                RENT   \n",
       "verification_status  Not Verified     Source Verified     Source Verified   \n",
       "desc                          NaN                 NaN                 NaN   \n",
       "purpose               credit_card  debt_consolidation  debt_consolidation   \n",
       "earliest_cr_line         Sep-1989            Aug-1994            Nov-1992   \n",
       "revol_util                  31.6%                 29%               59.4%   \n",
       "\n",
       "id                             37662224         37842129            37682226  \\\n",
       "term                          36 months        60 months           36 months   \n",
       "int_rate                         13.66%           15.59%              13.66%   \n",
       "grade                                 C                D                   C   \n",
       "sub_grade                            C3               D1                  C3   \n",
       "emp_length                     < 1 year          6 years           10+ years   \n",
       "home_ownership                     RENT             RENT            MORTGAGE   \n",
       "verification_status     Source Verified  Source Verified            Verified   \n",
       "desc                                NaN              NaN                 NaN   \n",
       "purpose              debt_consolidation      credit_card  debt_consolidation   \n",
       "earliest_cr_line               Aug-2002         Aug-2003            Jan-2001   \n",
       "revol_util                        91.9%            76.2%               46.4%   \n",
       "\n",
       "id                          36804663          37741884         37800722  \\\n",
       "term                       36 months         36 months        36 months   \n",
       "int_rate                      14.31%            11.99%           17.86%   \n",
       "grade                              C                 B                D   \n",
       "sub_grade                         C4                B5               D5   \n",
       "emp_length                 10+ years          < 1 year        10+ years   \n",
       "home_ownership                  RENT          MORTGAGE             RENT   \n",
       "verification_status  Source Verified   Source Verified  Source Verified   \n",
       "desc                             NaN               NaN              NaN   \n",
       "purpose                  credit_card  home_improvement            house   \n",
       "earliest_cr_line            Oct-1998          Oct-2001         Jan-1999   \n",
       "revol_util                     82.2%             94.3%            33.1%   \n",
       "\n",
       "id                             37642222  \\\n",
       "term                          36 months   \n",
       "int_rate                         11.44%   \n",
       "grade                                 B   \n",
       "sub_grade                            B4   \n",
       "emp_length                      2 years   \n",
       "home_ownership                     RENT   \n",
       "verification_status        Not Verified   \n",
       "desc                                NaN   \n",
       "purpose              debt_consolidation   \n",
       "earliest_cr_line               May-2009   \n",
       "revol_util                        20.2%   \n",
       "\n",
       "id                                         ...                          \\\n",
       "term                                       ...                           \n",
       "int_rate                                   ...                           \n",
       "grade                                      ...                           \n",
       "sub_grade                                  ...                           \n",
       "emp_length                                 ...                           \n",
       "home_ownership                             ...                           \n",
       "verification_status                        ...                           \n",
       "desc                                       ...                           \n",
       "purpose                                    ...                           \n",
       "earliest_cr_line                           ...                           \n",
       "revol_util                                 ...                           \n",
       "\n",
       "id                                                            9199716   \\\n",
       "term                                                         36 months   \n",
       "int_rate                                                        10.99%   \n",
       "grade                                                                B   \n",
       "sub_grade                                                           B2   \n",
       "emp_length                                                         n/a   \n",
       "home_ownership                                                MORTGAGE   \n",
       "verification_status                                           Verified   \n",
       "desc                   Borrower added on 12/10/13 > all my loans in...   \n",
       "purpose                                                    credit_card   \n",
       "earliest_cr_line                                              May-1990   \n",
       "revol_util                                                       19.5%   \n",
       "\n",
       "id                                                            9666300   \\\n",
       "term                                                         36 months   \n",
       "int_rate                                                        11.99%   \n",
       "grade                                                                B   \n",
       "sub_grade                                                           B3   \n",
       "emp_length                                                     8 years   \n",
       "home_ownership                                                    RENT   \n",
       "verification_status                                    Source Verified   \n",
       "desc                   Borrower added on 12/10/13 > pay off higher ...   \n",
       "purpose                                                    credit_card   \n",
       "earliest_cr_line                                              Aug-1983   \n",
       "revol_util                                                       55.9%   \n",
       "\n",
       "id                      9715141     9695736   \\\n",
       "term                   36 months   60 months   \n",
       "int_rate                  15.61%      18.25%   \n",
       "grade                          C           D   \n",
       "sub_grade                     C4          D3   \n",
       "emp_length               7 years     5 years   \n",
       "home_ownership              RENT    MORTGAGE   \n",
       "verification_status     Verified    Verified   \n",
       "desc                         NaN         NaN   \n",
       "purpose              credit_card     medical   \n",
       "earliest_cr_line        Nov-1993    Nov-1994   \n",
       "revol_util                 57.4%       10.7%   \n",
       "\n",
       "id                                                            9007579   \\\n",
       "term                                                         36 months   \n",
       "int_rate                                                         7.90%   \n",
       "grade                                                                A   \n",
       "sub_grade                                                           A4   \n",
       "emp_length                                                     3 years   \n",
       "home_ownership                                                    RENT   \n",
       "verification_status                                           Verified   \n",
       "desc                   Borrower added on 12/09/13 > consolidate all...   \n",
       "purpose                                             debt_consolidation   \n",
       "earliest_cr_line                                              Jul-1998   \n",
       "revol_util                                                       16.3%   \n",
       "\n",
       "id                          9745590          9745484             9684700   \\\n",
       "term                       36 months        36 months           60 months   \n",
       "int_rate                      18.25%           13.53%              19.97%   \n",
       "grade                              D                B                   D   \n",
       "sub_grade                         D3               B5                  D5   \n",
       "emp_length                 10+ years          4 years           10+ years   \n",
       "home_ownership                  RENT             RENT            MORTGAGE   \n",
       "verification_status  Source Verified  Source Verified            Verified   \n",
       "desc                             NaN              NaN                 NaN   \n",
       "purpose                     vacation      credit_card  debt_consolidation   \n",
       "earliest_cr_line            Jun-2002         Aug-1999            Jun-1997   \n",
       "revol_util                     28.8%              96%               46.3%   \n",
       "\n",
       "id                      9604874   \\\n",
       "term                   36 months   \n",
       "int_rate                   7.90%   \n",
       "grade                          A   \n",
       "sub_grade                     A4   \n",
       "emp_length               3 years   \n",
       "home_ownership               OWN   \n",
       "verification_status     Verified   \n",
       "desc                         NaN   \n",
       "purpose              credit_card   \n",
       "earliest_cr_line        Feb-2003   \n",
       "revol_util                 21.5%   \n",
       "\n",
       "id                                                            9199665   \n",
       "term                                                         36 months  \n",
       "int_rate                                                        19.20%  \n",
       "grade                                                                D  \n",
       "sub_grade                                                           D3  \n",
       "emp_length                                                   10+ years  \n",
       "home_ownership                                                MORTGAGE  \n",
       "verification_status                                           Verified  \n",
       "desc                   Borrower added on 12/04/13 > I will like a l...  \n",
       "purpose                                                          other  \n",
       "earliest_cr_line                                              Feb-2000  \n",
       "revol_util                                                       70.8%  \n",
       "\n",
       "[11 rows x 134779 columns]"
      ]
     },
     "execution_count": 23,
     "metadata": {},
     "output_type": "execute_result"
    }
   ],
   "source": [
    "df.select_dtypes(exclude=[np.number]).T"
   ]
  },
  {
   "cell_type": "code",
   "execution_count": 24,
   "metadata": {
    "collapsed": false
   },
   "outputs": [
    {
     "name": "stdout",
     "output_type": "stream",
     "text": [
      ", 'term'\n",
      ", 'int_rate'\n",
      ", 'grade'\n",
      ", 'sub_grade'\n",
      ", 'emp_length'\n",
      ", 'home_ownership'\n",
      ", 'verification_status'\n",
      ", 'desc'\n",
      ", 'purpose'\n",
      ", 'earliest_cr_line'\n",
      ", 'revol_util'\n"
     ]
    }
   ],
   "source": [
    "for i in df.select_dtypes(exclude=[np.number]).columns:\n",
    "    print \", '{0}'\".format(i)"
   ]
  },
  {
   "cell_type": "markdown",
   "metadata": {},
   "source": [
    "#### Object to numeric"
   ]
  },
  {
   "cell_type": "code",
   "execution_count": 25,
   "metadata": {
    "collapsed": false
   },
   "outputs": [],
   "source": [
    "import re"
   ]
  },
  {
   "cell_type": "code",
   "execution_count": 26,
   "metadata": {
    "collapsed": true
   },
   "outputs": [],
   "source": [
    "obj_num_cols = [\n",
    "        'term'\n",
    "        , 'int_rate'\n",
    "        , 'emp_length'\n",
    "        , 'revol_util'\n",
    "        ]"
   ]
  },
  {
   "cell_type": "code",
   "execution_count": 27,
   "metadata": {
    "collapsed": false,
    "scrolled": true
   },
   "outputs": [],
   "source": [
    "df['term'] = df['term'].apply(lambda x: re.sub(\"[^0-9.,]\", '', x))\n",
    "df['term'] = pd.to_numeric(df['term'])"
   ]
  },
  {
   "cell_type": "code",
   "execution_count": 28,
   "metadata": {
    "collapsed": true
   },
   "outputs": [],
   "source": [
    "df['int_rate'] = df['int_rate'].apply(lambda x: re.sub(\"[^0-9.,]\", '', x))\n",
    "df['int_rate'] = pd.to_numeric(df['int_rate'])"
   ]
  },
  {
   "cell_type": "code",
   "execution_count": 29,
   "metadata": {
    "collapsed": false
   },
   "outputs": [],
   "source": [
    "df['emp_length'] = ['0' if x=='< 1 year' else x for x in df['emp_length']]\n",
    "df['emp_length'] = df['emp_length'].apply(lambda x: re.sub(\"[^0-9.,]\", '', x))\n",
    "df['emp_length'] = pd.to_numeric(df['emp_length'], errors=coerce)"
   ]
  },
  {
   "cell_type": "code",
   "execution_count": 30,
   "metadata": {
    "collapsed": false
   },
   "outputs": [],
   "source": [
    "df['revol_util'] = df['revol_util'].apply(lambda x: re.sub(\"[^0-9.,]\", '', str(x)))\n",
    "df['revol_util'] = pd.to_numeric(df['revol_util'], errors=coerce)"
   ]
  },
  {
   "cell_type": "markdown",
   "metadata": {},
   "source": [
    "#### Object to date"
   ]
  },
  {
   "cell_type": "code",
   "execution_count": 31,
   "metadata": {
    "collapsed": true
   },
   "outputs": [],
   "source": [
    "obj_date_cols = [\n",
    "    #'issue_d'\n",
    "    'earliest_cr_line'\n",
    "    ]"
   ]
  },
  {
   "cell_type": "code",
   "execution_count": 32,
   "metadata": {
    "collapsed": false
   },
   "outputs": [],
   "source": [
    "df[obj_date_cols] = df[obj_date_cols].apply(lambda x: pd.to_datetime(x))"
   ]
  },
  {
   "cell_type": "markdown",
   "metadata": {},
   "source": [
    "#### Numeric columns"
   ]
  },
  {
   "cell_type": "code",
   "execution_count": 33,
   "metadata": {
    "collapsed": false,
    "scrolled": true
   },
   "outputs": [
    {
     "name": "stdout",
     "output_type": "stream",
     "text": [
      ", 'loan_amnt'\n",
      ", 'term'\n",
      ", 'int_rate'\n",
      ", 'installment'\n",
      ", 'emp_length'\n",
      ", 'annual_inc'\n",
      ", 'dti'\n",
      ", 'delinq_2yrs'\n",
      ", 'inq_last_6mths'\n",
      ", 'mths_since_last_delinq'\n",
      ", 'mths_since_last_record'\n",
      ", 'open_acc'\n",
      ", 'pub_rec'\n",
      ", 'revol_bal'\n",
      ", 'revol_util'\n",
      ", 'total_acc'\n",
      ", 'collections_12_mths_ex_med'\n",
      ", 'mths_since_last_major_derog'\n",
      ", 'acc_now_delinq'\n",
      ", 'total_rev_hi_lim'\n",
      ", 'acc_open_past_24mths'\n",
      ", 'avg_cur_bal'\n",
      ", 'bc_open_to_buy'\n",
      ", 'bc_util'\n",
      ", 'chargeoff_within_12_mths'\n",
      ", 'delinq_amnt'\n",
      ", 'mo_sin_old_il_acct'\n",
      ", 'mo_sin_old_rev_tl_op'\n",
      ", 'mo_sin_rcnt_rev_tl_op'\n",
      ", 'mo_sin_rcnt_tl'\n",
      ", 'mort_acc'\n",
      ", 'mths_since_recent_bc'\n",
      ", 'mths_since_recent_bc_dlq'\n",
      ", 'mths_since_recent_inq'\n",
      ", 'mths_since_recent_revol_delinq'\n",
      ", 'num_accts_ever_120_pd'\n",
      ", 'num_actv_bc_tl'\n",
      ", 'num_actv_rev_tl'\n",
      ", 'num_bc_sats'\n",
      ", 'num_bc_tl'\n",
      ", 'num_il_tl'\n",
      ", 'num_op_rev_tl'\n",
      ", 'num_rev_accts'\n",
      ", 'num_rev_tl_bal_gt_0'\n",
      ", 'num_sats'\n",
      ", 'num_tl_120dpd_2m'\n",
      ", 'num_tl_30dpd'\n",
      ", 'num_tl_90g_dpd_24m'\n",
      ", 'num_tl_op_past_12m'\n",
      ", 'pct_tl_nvr_dlq'\n",
      ", 'percent_bc_gt_75'\n",
      ", 'pub_rec_bankruptcies'\n",
      ", 'tax_liens'\n",
      ", 'tot_hi_cred_lim'\n",
      ", 'total_bal_ex_mort'\n",
      ", 'total_bc_limit'\n",
      ", 'total_il_high_credit_limit'\n"
     ]
    }
   ],
   "source": [
    "for i in df.select_dtypes(include=[np.number]).columns:\n",
    "    print \", '{0}'\".format(i)"
   ]
  },
  {
   "cell_type": "code",
   "execution_count": 34,
   "metadata": {
    "collapsed": false,
    "scrolled": true
   },
   "outputs": [
    {
     "name": "stdout",
     "output_type": "stream",
     "text": [
      "<class 'pandas.core.frame.DataFrame'>\n",
      "Int64Index: 134779 entries, 36805548 to 9199665\n",
      "Data columns (total 64 columns):\n",
      "loan_amnt                         134779 non-null int64\n",
      "term                              134779 non-null int64\n",
      "int_rate                          134779 non-null float64\n",
      "installment                       134779 non-null float64\n",
      "grade                             134779 non-null object\n",
      "sub_grade                         134779 non-null object\n",
      "emp_length                        128011 non-null float64\n",
      "home_ownership                    134779 non-null object\n",
      "annual_inc                        134779 non-null float64\n",
      "verification_status               134779 non-null object\n",
      "desc                              12271 non-null object\n",
      "purpose                           134779 non-null object\n",
      "dti                               134779 non-null float64\n",
      "delinq_2yrs                       134779 non-null int64\n",
      "earliest_cr_line                  134779 non-null datetime64[ns]\n",
      "inq_last_6mths                    134779 non-null int64\n",
      "mths_since_last_delinq            68833 non-null float64\n",
      "mths_since_last_record            26035 non-null float64\n",
      "open_acc                          134779 non-null int64\n",
      "pub_rec                           134779 non-null int64\n",
      "revol_bal                         134779 non-null int64\n",
      "revol_util                        134706 non-null float64\n",
      "total_acc                         134779 non-null int64\n",
      "collections_12_mths_ex_med        134779 non-null int64\n",
      "mths_since_last_major_derog       39572 non-null float64\n",
      "acc_now_delinq                    134779 non-null int64\n",
      "total_rev_hi_lim                  134779 non-null int64\n",
      "acc_open_past_24mths              134779 non-null int64\n",
      "avg_cur_bal                       134773 non-null float64\n",
      "bc_open_to_buy                    133373 non-null float64\n",
      "bc_util                           133269 non-null float64\n",
      "chargeoff_within_12_mths          134779 non-null int64\n",
      "delinq_amnt                       134779 non-null int64\n",
      "mo_sin_old_il_acct                130591 non-null float64\n",
      "mo_sin_old_rev_tl_op              134779 non-null int64\n",
      "mo_sin_rcnt_rev_tl_op             134779 non-null int64\n",
      "mo_sin_rcnt_tl                    134779 non-null int64\n",
      "mort_acc                          134779 non-null int64\n",
      "mths_since_recent_bc              133487 non-null float64\n",
      "mths_since_recent_bc_dlq          36040 non-null float64\n",
      "mths_since_recent_inq             124306 non-null float64\n",
      "mths_since_recent_revol_delinq    48754 non-null float64\n",
      "num_accts_ever_120_pd             134779 non-null int64\n",
      "num_actv_bc_tl                    134779 non-null int64\n",
      "num_actv_rev_tl                   134779 non-null int64\n",
      "num_bc_sats                       134779 non-null int64\n",
      "num_bc_tl                         134779 non-null int64\n",
      "num_il_tl                         134779 non-null int64\n",
      "num_op_rev_tl                     134779 non-null int64\n",
      "num_rev_accts                     134779 non-null int64\n",
      "num_rev_tl_bal_gt_0               134779 non-null int64\n",
      "num_sats                          134779 non-null int64\n",
      "num_tl_120dpd_2m                  129435 non-null float64\n",
      "num_tl_30dpd                      134779 non-null int64\n",
      "num_tl_90g_dpd_24m                134779 non-null int64\n",
      "num_tl_op_past_12m                134779 non-null int64\n",
      "pct_tl_nvr_dlq                    134779 non-null float64\n",
      "percent_bc_gt_75                  133303 non-null float64\n",
      "pub_rec_bankruptcies              134779 non-null int64\n",
      "tax_liens                         134779 non-null int64\n",
      "tot_hi_cred_lim                   134779 non-null int64\n",
      "total_bal_ex_mort                 134779 non-null int64\n",
      "total_bc_limit                    134779 non-null int64\n",
      "total_il_high_credit_limit        134779 non-null int64\n",
      "dtypes: datetime64[ns](1), float64(20), int64(37), object(6)\n",
      "memory usage: 66.8+ MB\n"
     ]
    }
   ],
   "source": [
    "df.info()"
   ]
  },
  {
   "cell_type": "markdown",
   "metadata": {
    "collapsed": true
   },
   "source": [
    "### Dummies for object cols"
   ]
  },
  {
   "cell_type": "markdown",
   "metadata": {},
   "source": [
    "Turn description into a bin for now"
   ]
  },
  {
   "cell_type": "code",
   "execution_count": 40,
   "metadata": {
    "collapsed": false
   },
   "outputs": [],
   "source": [
    "df['desc_bin'] = [1 if x else 0 for x in df['desc']]"
   ]
  },
  {
   "cell_type": "code",
   "execution_count": 41,
   "metadata": {
    "collapsed": true
   },
   "outputs": [],
   "source": [
    "df.drop(['desc'], axis=1, inplace=True)"
   ]
  },
  {
   "cell_type": "code",
   "execution_count": 42,
   "metadata": {
    "collapsed": true
   },
   "outputs": [],
   "source": [
    "obj_cols = df.select_dtypes(include=[object]).columns"
   ]
  },
  {
   "cell_type": "code",
   "execution_count": 43,
   "metadata": {
    "collapsed": false
   },
   "outputs": [
    {
     "name": "stdout",
     "output_type": "stream",
     "text": [
      "<class 'pandas.core.frame.DataFrame'>\n",
      "Int64Index: 134779 entries, 36805548 to 9199665\n",
      "Data columns (total 5 columns):\n",
      "grade                  134779 non-null object\n",
      "sub_grade              134779 non-null object\n",
      "home_ownership         134779 non-null object\n",
      "verification_status    134779 non-null object\n",
      "purpose                134779 non-null object\n",
      "dtypes: object(5)\n",
      "memory usage: 6.2+ MB\n"
     ]
    }
   ],
   "source": [
    "df[obj_cols].info()"
   ]
  },
  {
   "cell_type": "code",
   "execution_count": 44,
   "metadata": {
    "collapsed": false
   },
   "outputs": [
    {
     "data": {
      "text/plain": [
       "C    38552\n",
       "B    35317\n",
       "D    24956\n",
       "A    18148\n",
       "E    12355\n",
       "F     4321\n",
       "G     1130\n",
       "Name: grade, dtype: int64"
      ]
     },
     "execution_count": 44,
     "metadata": {},
     "output_type": "execute_result"
    }
   ],
   "source": [
    "df['grade'].value_counts()"
   ]
  },
  {
   "cell_type": "code",
   "execution_count": 45,
   "metadata": {
    "collapsed": false
   },
   "outputs": [],
   "source": [
    "df['sub_grade_number'] = df['sub_grade'].str[1]"
   ]
  },
  {
   "cell_type": "code",
   "execution_count": 46,
   "metadata": {
    "collapsed": false,
    "scrolled": true
   },
   "outputs": [
    {
     "data": {
      "text/plain": [
       "1    27520\n",
       "4    27078\n",
       "3    27012\n",
       "2    26677\n",
       "5    26492\n",
       "Name: sub_grade_number, dtype: int64"
      ]
     },
     "execution_count": 46,
     "metadata": {},
     "output_type": "execute_result"
    }
   ],
   "source": [
    "df['sub_grade_number'].value_counts()"
   ]
  },
  {
   "cell_type": "code",
   "execution_count": 47,
   "metadata": {
    "collapsed": false
   },
   "outputs": [
    {
     "data": {
      "text/plain": [
       "MORTGAGE    67615\n",
       "RENT        54160\n",
       "OWN         13003\n",
       "ANY             1\n",
       "Name: home_ownership, dtype: int64"
      ]
     },
     "execution_count": 47,
     "metadata": {},
     "output_type": "execute_result"
    }
   ],
   "source": [
    "df['home_ownership'].value_counts()"
   ]
  },
  {
   "cell_type": "code",
   "execution_count": 48,
   "metadata": {
    "collapsed": false
   },
   "outputs": [
    {
     "data": {
      "text/plain": [
       "Source Verified    54008\n",
       "Not Verified       40719\n",
       "Verified           40052\n",
       "Name: verification_status, dtype: int64"
      ]
     },
     "execution_count": 48,
     "metadata": {},
     "output_type": "execute_result"
    }
   ],
   "source": [
    "df['verification_status'].value_counts()"
   ]
  },
  {
   "cell_type": "code",
   "execution_count": 49,
   "metadata": {
    "collapsed": false
   },
   "outputs": [
    {
     "data": {
      "text/plain": [
       "debt_consolidation    82994\n",
       "credit_card           29412\n",
       "home_improvement       7523\n",
       "other                  6275\n",
       "major_purchase         2242\n",
       "medical                1508\n",
       "small_business         1461\n",
       "car                    1073\n",
       "moving                  890\n",
       "vacation                788\n",
       "house                   520\n",
       "renewable_energy         88\n",
       "wedding                   5\n",
       "Name: purpose, dtype: int64"
      ]
     },
     "execution_count": 49,
     "metadata": {},
     "output_type": "execute_result"
    }
   ],
   "source": [
    "df['purpose'].value_counts()"
   ]
  },
  {
   "cell_type": "markdown",
   "metadata": {},
   "source": [
    "Don't use emp_title (too many uniques), pymnt_plan (all the same), title (too many uniques, seems to have been reconsolidated under purpose, don't use address zip code or state for now"
   ]
  },
  {
   "cell_type": "code",
   "execution_count": 51,
   "metadata": {
    "collapsed": false
   },
   "outputs": [],
   "source": [
    "for i in obj_cols:\n",
    "    df = df.merge(pd.get_dummies(df[i]\n",
    "                                 , prefix='{0}'.format(i))\n",
    "                , left_index=True\n",
    "                , right_index=True)"
   ]
  },
  {
   "cell_type": "code",
   "execution_count": 54,
   "metadata": {
    "collapsed": false
   },
   "outputs": [],
   "source": [
    "df.drop(obj_cols, axis=1, inplace=True)"
   ]
  },
  {
   "cell_type": "code",
   "execution_count": null,
   "metadata": {
    "collapsed": true
   },
   "outputs": [],
   "source": []
  },
  {
   "cell_type": "code",
   "execution_count": null,
   "metadata": {
    "collapsed": true
   },
   "outputs": [],
   "source": []
  },
  {
   "cell_type": "code",
   "execution_count": null,
   "metadata": {
    "collapsed": true
   },
   "outputs": [],
   "source": []
  },
  {
   "cell_type": "code",
   "execution_count": null,
   "metadata": {
    "collapsed": true
   },
   "outputs": [],
   "source": []
  },
  {
   "cell_type": "code",
   "execution_count": null,
   "metadata": {
    "collapsed": true
   },
   "outputs": [],
   "source": []
  },
  {
   "cell_type": "code",
   "execution_count": 58,
   "metadata": {
    "collapsed": false
   },
   "outputs": [
    {
     "name": "stdout",
     "output_type": "stream",
     "text": [
      "<class 'pandas.core.frame.DataFrame'>\n",
      "Int64Index: 134779 entries, 36805548 to 9199665\n",
      "Data columns (total 61 columns):\n",
      "loan_amnt                         134779 non-null int64\n",
      "term                              134779 non-null int64\n",
      "int_rate                          134779 non-null float64\n",
      "installment                       134779 non-null float64\n",
      "emp_length                        128011 non-null float64\n",
      "annual_inc                        134779 non-null float64\n",
      "dti                               134779 non-null float64\n",
      "delinq_2yrs                       134779 non-null int64\n",
      "earliest_cr_line                  134779 non-null datetime64[ns]\n",
      "inq_last_6mths                    134779 non-null int64\n",
      "mths_since_last_delinq            68833 non-null float64\n",
      "mths_since_last_record            26035 non-null float64\n",
      "open_acc                          134779 non-null int64\n",
      "pub_rec                           134779 non-null int64\n",
      "revol_bal                         134779 non-null int64\n",
      "revol_util                        134706 non-null float64\n",
      "total_acc                         134779 non-null int64\n",
      "collections_12_mths_ex_med        134779 non-null int64\n",
      "mths_since_last_major_derog       39572 non-null float64\n",
      "acc_now_delinq                    134779 non-null int64\n",
      "total_rev_hi_lim                  134779 non-null int64\n",
      "acc_open_past_24mths              134779 non-null int64\n",
      "avg_cur_bal                       134773 non-null float64\n",
      "bc_open_to_buy                    133373 non-null float64\n",
      "bc_util                           133269 non-null float64\n",
      "chargeoff_within_12_mths          134779 non-null int64\n",
      "delinq_amnt                       134779 non-null int64\n",
      "mo_sin_old_il_acct                130591 non-null float64\n",
      "mo_sin_old_rev_tl_op              134779 non-null int64\n",
      "mo_sin_rcnt_rev_tl_op             134779 non-null int64\n",
      "mo_sin_rcnt_tl                    134779 non-null int64\n",
      "mort_acc                          134779 non-null int64\n",
      "mths_since_recent_bc              133487 non-null float64\n",
      "mths_since_recent_bc_dlq          36040 non-null float64\n",
      "mths_since_recent_inq             124306 non-null float64\n",
      "mths_since_recent_revol_delinq    48754 non-null float64\n",
      "num_accts_ever_120_pd             134779 non-null int64\n",
      "num_actv_bc_tl                    134779 non-null int64\n",
      "num_actv_rev_tl                   134779 non-null int64\n",
      "num_bc_sats                       134779 non-null int64\n",
      "num_bc_tl                         134779 non-null int64\n",
      "num_il_tl                         134779 non-null int64\n",
      "num_op_rev_tl                     134779 non-null int64\n",
      "num_rev_accts                     134779 non-null int64\n",
      "num_rev_tl_bal_gt_0               134779 non-null int64\n",
      "num_sats                          134779 non-null int64\n",
      "num_tl_120dpd_2m                  129435 non-null float64\n",
      "num_tl_30dpd                      134779 non-null int64\n",
      "num_tl_90g_dpd_24m                134779 non-null int64\n",
      "num_tl_op_past_12m                134779 non-null int64\n",
      "pct_tl_nvr_dlq                    134779 non-null float64\n",
      "percent_bc_gt_75                  133303 non-null float64\n",
      "pub_rec_bankruptcies              134779 non-null int64\n",
      "tax_liens                         134779 non-null int64\n",
      "tot_hi_cred_lim                   134779 non-null int64\n",
      "total_bal_ex_mort                 134779 non-null int64\n",
      "total_bc_limit                    134779 non-null int64\n",
      "total_il_high_credit_limit        134779 non-null int64\n",
      "desc_bin                          134779 non-null int64\n",
      "sub_grade_number                  134779 non-null object\n",
      "grade_A                           134779 non-null uint8\n",
      "dtypes: datetime64[ns](1), float64(20), int64(38), object(1), uint8(1)\n",
      "memory usage: 62.9+ MB\n"
     ]
    }
   ],
   "source": [
    "df[df.columns[:df.shape[1]/2]].info()"
   ]
  },
  {
   "cell_type": "code",
   "execution_count": 59,
   "metadata": {
    "collapsed": false
   },
   "outputs": [
    {
     "name": "stdout",
     "output_type": "stream",
     "text": [
      "<class 'pandas.core.frame.DataFrame'>\n",
      "Int64Index: 134779 entries, 36805548 to 9199665\n",
      "Data columns (total 61 columns):\n",
      "grade_B                                134779 non-null uint8\n",
      "grade_C                                134779 non-null uint8\n",
      "grade_D                                134779 non-null uint8\n",
      "grade_E                                134779 non-null uint8\n",
      "grade_F                                134779 non-null uint8\n",
      "grade_G                                134779 non-null uint8\n",
      "sub_grade_A1                           134779 non-null uint8\n",
      "sub_grade_A2                           134779 non-null uint8\n",
      "sub_grade_A3                           134779 non-null uint8\n",
      "sub_grade_A4                           134779 non-null uint8\n",
      "sub_grade_A5                           134779 non-null uint8\n",
      "sub_grade_B1                           134779 non-null uint8\n",
      "sub_grade_B2                           134779 non-null uint8\n",
      "sub_grade_B3                           134779 non-null uint8\n",
      "sub_grade_B4                           134779 non-null uint8\n",
      "sub_grade_B5                           134779 non-null uint8\n",
      "sub_grade_C1                           134779 non-null uint8\n",
      "sub_grade_C2                           134779 non-null uint8\n",
      "sub_grade_C3                           134779 non-null uint8\n",
      "sub_grade_C4                           134779 non-null uint8\n",
      "sub_grade_C5                           134779 non-null uint8\n",
      "sub_grade_D1                           134779 non-null uint8\n",
      "sub_grade_D2                           134779 non-null uint8\n",
      "sub_grade_D3                           134779 non-null uint8\n",
      "sub_grade_D4                           134779 non-null uint8\n",
      "sub_grade_D5                           134779 non-null uint8\n",
      "sub_grade_E1                           134779 non-null uint8\n",
      "sub_grade_E2                           134779 non-null uint8\n",
      "sub_grade_E3                           134779 non-null uint8\n",
      "sub_grade_E4                           134779 non-null uint8\n",
      "sub_grade_E5                           134779 non-null uint8\n",
      "sub_grade_F1                           134779 non-null uint8\n",
      "sub_grade_F2                           134779 non-null uint8\n",
      "sub_grade_F3                           134779 non-null uint8\n",
      "sub_grade_F4                           134779 non-null uint8\n",
      "sub_grade_F5                           134779 non-null uint8\n",
      "sub_grade_G1                           134779 non-null uint8\n",
      "sub_grade_G2                           134779 non-null uint8\n",
      "sub_grade_G3                           134779 non-null uint8\n",
      "sub_grade_G4                           134779 non-null uint8\n",
      "sub_grade_G5                           134779 non-null uint8\n",
      "home_ownership_ANY                     134779 non-null uint8\n",
      "home_ownership_MORTGAGE                134779 non-null uint8\n",
      "home_ownership_OWN                     134779 non-null uint8\n",
      "home_ownership_RENT                    134779 non-null uint8\n",
      "verification_status_Not Verified       134779 non-null uint8\n",
      "verification_status_Source Verified    134779 non-null uint8\n",
      "verification_status_Verified           134779 non-null uint8\n",
      "purpose_car                            134779 non-null uint8\n",
      "purpose_credit_card                    134779 non-null uint8\n",
      "purpose_debt_consolidation             134779 non-null uint8\n",
      "purpose_home_improvement               134779 non-null uint8\n",
      "purpose_house                          134779 non-null uint8\n",
      "purpose_major_purchase                 134779 non-null uint8\n",
      "purpose_medical                        134779 non-null uint8\n",
      "purpose_moving                         134779 non-null uint8\n",
      "purpose_other                          134779 non-null uint8\n",
      "purpose_renewable_energy               134779 non-null uint8\n",
      "purpose_small_business                 134779 non-null uint8\n",
      "purpose_vacation                       134779 non-null uint8\n",
      "purpose_wedding                        134779 non-null uint8\n",
      "dtypes: uint8(61)\n",
      "memory usage: 8.9 MB\n"
     ]
    }
   ],
   "source": [
    "df[df.columns[df.shape[1]/2:]].info()"
   ]
  },
  {
   "cell_type": "code",
   "execution_count": null,
   "metadata": {
    "collapsed": true
   },
   "outputs": [],
   "source": []
  }
 ],
 "metadata": {
  "kernelspec": {
   "display_name": "Python 2",
   "language": "python",
   "name": "python2"
  },
  "language_info": {
   "codemirror_mode": {
    "name": "ipython",
    "version": 2
   },
   "file_extension": ".py",
   "mimetype": "text/x-python",
   "name": "python",
   "nbconvert_exporter": "python",
   "pygments_lexer": "ipython2",
   "version": "2.7.13"
  }
 },
 "nbformat": 4,
 "nbformat_minor": 0
}
