{
 "cells": [
  {
   "cell_type": "code",
   "execution_count": 1,
   "metadata": {
    "collapsed": true
   },
   "outputs": [],
   "source": [
    "import pandas as pd\n",
    "import numpy as np\n",
    "import matplotlib.pyplot as plt\n",
    "from functools import partial\n",
    "%matplotlib inline"
   ]
  },
  {
   "cell_type": "code",
   "execution_count": 2,
   "metadata": {},
   "outputs": [
    {
     "name": "stderr",
     "output_type": "stream",
     "text": [
      "/home/ubuntu/miniconda3/lib/python3.6/site-packages/ipykernel_launcher.py:1: ParserWarning: Falling back to the 'python' engine because the 'c' engine does not support skipfooter; you can avoid this warning by specifying engine='python'.\n",
      "  \"\"\"Entry point for launching an IPython kernel.\n"
     ]
    }
   ],
   "source": [
    "df_full = pd.read_csv('../data/LoanStats2014.csv', skiprows=1, skipfooter=2)"
   ]
  },
  {
   "cell_type": "code",
   "execution_count": 3,
   "metadata": {
    "collapsed": true
   },
   "outputs": [],
   "source": [
    "df = df_full.copy()"
   ]
  },
  {
   "cell_type": "code",
   "execution_count": 4,
   "metadata": {},
   "outputs": [
    {
     "name": "stdout",
     "output_type": "stream",
     "text": [
      "<class 'pandas.core.frame.DataFrame'>\n",
      "RangeIndex: 235629 entries, 0 to 235628\n",
      "Columns: 111 entries, id to total_il_high_credit_limit\n",
      "dtypes: float64(47), int64(41), object(23)\n",
      "memory usage: 199.5+ MB\n"
     ]
    }
   ],
   "source": [
    "df.info()"
   ]
  },
  {
   "cell_type": "code",
   "execution_count": 5,
   "metadata": {},
   "outputs": [
    {
     "data": {
      "text/html": [
       "<div>\n",
       "<table border=\"1\" class=\"dataframe\">\n",
       "  <thead>\n",
       "    <tr style=\"text-align: right;\">\n",
       "      <th></th>\n",
       "      <th>id</th>\n",
       "      <th>member_id</th>\n",
       "      <th>loan_amnt</th>\n",
       "      <th>funded_amnt</th>\n",
       "      <th>funded_amnt_inv</th>\n",
       "      <th>term</th>\n",
       "      <th>int_rate</th>\n",
       "      <th>installment</th>\n",
       "      <th>grade</th>\n",
       "      <th>sub_grade</th>\n",
       "      <th>...</th>\n",
       "      <th>num_tl_90g_dpd_24m</th>\n",
       "      <th>num_tl_op_past_12m</th>\n",
       "      <th>pct_tl_nvr_dlq</th>\n",
       "      <th>percent_bc_gt_75</th>\n",
       "      <th>pub_rec_bankruptcies</th>\n",
       "      <th>tax_liens</th>\n",
       "      <th>tot_hi_cred_lim</th>\n",
       "      <th>total_bal_ex_mort</th>\n",
       "      <th>total_bc_limit</th>\n",
       "      <th>total_il_high_credit_limit</th>\n",
       "    </tr>\n",
       "  </thead>\n",
       "  <tbody>\n",
       "    <tr>\n",
       "      <th>0</th>\n",
       "      <td>NaN</td>\n",
       "      <td>NaN</td>\n",
       "      <td>10400</td>\n",
       "      <td>10400</td>\n",
       "      <td>10400</td>\n",
       "      <td>36 months</td>\n",
       "      <td>6.99%</td>\n",
       "      <td>321.08</td>\n",
       "      <td>A</td>\n",
       "      <td>A3</td>\n",
       "      <td>...</td>\n",
       "      <td>0</td>\n",
       "      <td>4</td>\n",
       "      <td>83.3</td>\n",
       "      <td>14.3</td>\n",
       "      <td>0</td>\n",
       "      <td>0</td>\n",
       "      <td>179407</td>\n",
       "      <td>15030</td>\n",
       "      <td>13000</td>\n",
       "      <td>11325</td>\n",
       "    </tr>\n",
       "    <tr>\n",
       "      <th>1</th>\n",
       "      <td>NaN</td>\n",
       "      <td>NaN</td>\n",
       "      <td>15000</td>\n",
       "      <td>15000</td>\n",
       "      <td>15000</td>\n",
       "      <td>60 months</td>\n",
       "      <td>12.39%</td>\n",
       "      <td>336.64</td>\n",
       "      <td>C</td>\n",
       "      <td>C1</td>\n",
       "      <td>...</td>\n",
       "      <td>0</td>\n",
       "      <td>4</td>\n",
       "      <td>100.0</td>\n",
       "      <td>0.0</td>\n",
       "      <td>0</td>\n",
       "      <td>0</td>\n",
       "      <td>196500</td>\n",
       "      <td>149140</td>\n",
       "      <td>10000</td>\n",
       "      <td>12000</td>\n",
       "    </tr>\n",
       "    <tr>\n",
       "      <th>2</th>\n",
       "      <td>NaN</td>\n",
       "      <td>NaN</td>\n",
       "      <td>21425</td>\n",
       "      <td>21425</td>\n",
       "      <td>21425</td>\n",
       "      <td>60 months</td>\n",
       "      <td>15.59%</td>\n",
       "      <td>516.36</td>\n",
       "      <td>D</td>\n",
       "      <td>D1</td>\n",
       "      <td>...</td>\n",
       "      <td>0</td>\n",
       "      <td>2</td>\n",
       "      <td>91.4</td>\n",
       "      <td>100.0</td>\n",
       "      <td>0</td>\n",
       "      <td>0</td>\n",
       "      <td>57073</td>\n",
       "      <td>42315</td>\n",
       "      <td>15000</td>\n",
       "      <td>35573</td>\n",
       "    </tr>\n",
       "    <tr>\n",
       "      <th>3</th>\n",
       "      <td>NaN</td>\n",
       "      <td>NaN</td>\n",
       "      <td>7650</td>\n",
       "      <td>7650</td>\n",
       "      <td>7650</td>\n",
       "      <td>36 months</td>\n",
       "      <td>13.66%</td>\n",
       "      <td>260.20</td>\n",
       "      <td>C</td>\n",
       "      <td>C3</td>\n",
       "      <td>...</td>\n",
       "      <td>0</td>\n",
       "      <td>2</td>\n",
       "      <td>100.0</td>\n",
       "      <td>100.0</td>\n",
       "      <td>0</td>\n",
       "      <td>0</td>\n",
       "      <td>82331</td>\n",
       "      <td>64426</td>\n",
       "      <td>4900</td>\n",
       "      <td>64031</td>\n",
       "    </tr>\n",
       "    <tr>\n",
       "      <th>4</th>\n",
       "      <td>NaN</td>\n",
       "      <td>NaN</td>\n",
       "      <td>12800</td>\n",
       "      <td>12800</td>\n",
       "      <td>12800</td>\n",
       "      <td>60 months</td>\n",
       "      <td>17.14%</td>\n",
       "      <td>319.08</td>\n",
       "      <td>D</td>\n",
       "      <td>D4</td>\n",
       "      <td>...</td>\n",
       "      <td>0</td>\n",
       "      <td>0</td>\n",
       "      <td>76.9</td>\n",
       "      <td>100.0</td>\n",
       "      <td>0</td>\n",
       "      <td>0</td>\n",
       "      <td>368700</td>\n",
       "      <td>18007</td>\n",
       "      <td>4400</td>\n",
       "      <td>18000</td>\n",
       "    </tr>\n",
       "  </tbody>\n",
       "</table>\n",
       "<p>5 rows × 111 columns</p>\n",
       "</div>"
      ],
      "text/plain": [
       "   id  member_id  loan_amnt  funded_amnt  funded_amnt_inv        term  \\\n",
       "0 NaN        NaN      10400        10400            10400   36 months   \n",
       "1 NaN        NaN      15000        15000            15000   60 months   \n",
       "2 NaN        NaN      21425        21425            21425   60 months   \n",
       "3 NaN        NaN       7650         7650             7650   36 months   \n",
       "4 NaN        NaN      12800        12800            12800   60 months   \n",
       "\n",
       "  int_rate  installment grade sub_grade            ...              \\\n",
       "0    6.99%       321.08     A        A3            ...               \n",
       "1   12.39%       336.64     C        C1            ...               \n",
       "2   15.59%       516.36     D        D1            ...               \n",
       "3   13.66%       260.20     C        C3            ...               \n",
       "4   17.14%       319.08     D        D4            ...               \n",
       "\n",
       "  num_tl_90g_dpd_24m num_tl_op_past_12m pct_tl_nvr_dlq  percent_bc_gt_75  \\\n",
       "0                  0                  4           83.3              14.3   \n",
       "1                  0                  4          100.0               0.0   \n",
       "2                  0                  2           91.4             100.0   \n",
       "3                  0                  2          100.0             100.0   \n",
       "4                  0                  0           76.9             100.0   \n",
       "\n",
       "  pub_rec_bankruptcies tax_liens tot_hi_cred_lim total_bal_ex_mort  \\\n",
       "0                    0         0          179407             15030   \n",
       "1                    0         0          196500            149140   \n",
       "2                    0         0           57073             42315   \n",
       "3                    0         0           82331             64426   \n",
       "4                    0         0          368700             18007   \n",
       "\n",
       "   total_bc_limit total_il_high_credit_limit  \n",
       "0           13000                      11325  \n",
       "1           10000                      12000  \n",
       "2           15000                      35573  \n",
       "3            4900                      64031  \n",
       "4            4400                      18000  \n",
       "\n",
       "[5 rows x 111 columns]"
      ]
     },
     "execution_count": 5,
     "metadata": {},
     "output_type": "execute_result"
    }
   ],
   "source": [
    "df_full.head()"
   ]
  },
  {
   "cell_type": "markdown",
   "metadata": {},
   "source": [
    "### Define targets"
   ]
  },
  {
   "cell_type": "markdown",
   "metadata": {},
   "source": [
    "</br> Initially, try a binary target... <br />1 if total payment received is >= 1.05% of amount funded<br />0 if loan status is 'charged off', 'default', '31-120 days late', or is fully paid, but not >= 1.05% of funded"
   ]
  },
  {
   "cell_type": "code",
   "execution_count": 6,
   "metadata": {
    "collapsed": true
   },
   "outputs": [],
   "source": [
    "def final_status(status, funded_amnt, total_pymnt):\n",
    "    #define list to drop\n",
    "    drop_status = ['In Grace Period', 'Late (16-30 days)']\n",
    "    neg_status = ['Late (31-120 days)', 'Charged Off', 'Default']\n",
    "    \n",
    "    if status in drop_status:\n",
    "        return 99\n",
    "    elif status in neg_status:\n",
    "        return 0\n",
    "    elif status == 'Fully Paid':\n",
    "        if total_pymnt>funded_amnt*1.05:\n",
    "            return 1\n",
    "        else:\n",
    "            return 0\n",
    "    elif status == 'Current':\n",
    "        if total_pymnt>funded_amnt*1.05:\n",
    "            return 1\n",
    "        else:\n",
    "            return 99     "
   ]
  },
  {
   "cell_type": "code",
   "execution_count": 7,
   "metadata": {
    "collapsed": true
   },
   "outputs": [],
   "source": [
    "df['target'] = df.apply(lambda x: final_status(x['loan_status'], x['funded_amnt_inv'], x['total_pymnt_inv']), axis=1)"
   ]
  },
  {
   "cell_type": "code",
   "execution_count": 8,
   "metadata": {},
   "outputs": [
    {
     "data": {
      "text/plain": [
       "1     123417\n",
       "99     67215\n",
       "0      44997\n",
       "Name: target, dtype: int64"
      ]
     },
     "execution_count": 8,
     "metadata": {},
     "output_type": "execute_result"
    }
   ],
   "source": [
    "df['target'].value_counts()"
   ]
  },
  {
   "cell_type": "code",
   "execution_count": 9,
   "metadata": {
    "collapsed": true
   },
   "outputs": [],
   "source": [
    "df.drop(df[df['target']==99].index, inplace=True)"
   ]
  },
  {
   "cell_type": "code",
   "execution_count": 10,
   "metadata": {
    "collapsed": true
   },
   "outputs": [],
   "source": [
    "#df.reset_index(inplace=True, drop=True)"
   ]
  },
  {
   "cell_type": "code",
   "execution_count": 11,
   "metadata": {
    "collapsed": true
   },
   "outputs": [],
   "source": [
    "#df.set_index(['id'], inplace=True)"
   ]
  },
  {
   "cell_type": "code",
   "execution_count": 12,
   "metadata": {},
   "outputs": [
    {
     "data": {
      "text/html": [
       "<div>\n",
       "<table border=\"1\" class=\"dataframe\">\n",
       "  <thead>\n",
       "    <tr style=\"text-align: right;\">\n",
       "      <th></th>\n",
       "      <th>id</th>\n",
       "      <th>member_id</th>\n",
       "      <th>loan_amnt</th>\n",
       "      <th>funded_amnt</th>\n",
       "      <th>funded_amnt_inv</th>\n",
       "      <th>term</th>\n",
       "      <th>int_rate</th>\n",
       "      <th>installment</th>\n",
       "      <th>grade</th>\n",
       "      <th>sub_grade</th>\n",
       "      <th>...</th>\n",
       "      <th>num_tl_op_past_12m</th>\n",
       "      <th>pct_tl_nvr_dlq</th>\n",
       "      <th>percent_bc_gt_75</th>\n",
       "      <th>pub_rec_bankruptcies</th>\n",
       "      <th>tax_liens</th>\n",
       "      <th>tot_hi_cred_lim</th>\n",
       "      <th>total_bal_ex_mort</th>\n",
       "      <th>total_bc_limit</th>\n",
       "      <th>total_il_high_credit_limit</th>\n",
       "      <th>target</th>\n",
       "    </tr>\n",
       "  </thead>\n",
       "  <tbody>\n",
       "    <tr>\n",
       "      <th>0</th>\n",
       "      <td>NaN</td>\n",
       "      <td>NaN</td>\n",
       "      <td>10400</td>\n",
       "      <td>10400</td>\n",
       "      <td>10400</td>\n",
       "      <td>36 months</td>\n",
       "      <td>6.99%</td>\n",
       "      <td>321.08</td>\n",
       "      <td>A</td>\n",
       "      <td>A3</td>\n",
       "      <td>...</td>\n",
       "      <td>4</td>\n",
       "      <td>83.3</td>\n",
       "      <td>14.3</td>\n",
       "      <td>0</td>\n",
       "      <td>0</td>\n",
       "      <td>179407</td>\n",
       "      <td>15030</td>\n",
       "      <td>13000</td>\n",
       "      <td>11325</td>\n",
       "      <td>0</td>\n",
       "    </tr>\n",
       "    <tr>\n",
       "      <th>1</th>\n",
       "      <td>NaN</td>\n",
       "      <td>NaN</td>\n",
       "      <td>15000</td>\n",
       "      <td>15000</td>\n",
       "      <td>15000</td>\n",
       "      <td>60 months</td>\n",
       "      <td>12.39%</td>\n",
       "      <td>336.64</td>\n",
       "      <td>C</td>\n",
       "      <td>C1</td>\n",
       "      <td>...</td>\n",
       "      <td>4</td>\n",
       "      <td>100.0</td>\n",
       "      <td>0.0</td>\n",
       "      <td>0</td>\n",
       "      <td>0</td>\n",
       "      <td>196500</td>\n",
       "      <td>149140</td>\n",
       "      <td>10000</td>\n",
       "      <td>12000</td>\n",
       "      <td>1</td>\n",
       "    </tr>\n",
       "    <tr>\n",
       "      <th>2</th>\n",
       "      <td>NaN</td>\n",
       "      <td>NaN</td>\n",
       "      <td>21425</td>\n",
       "      <td>21425</td>\n",
       "      <td>21425</td>\n",
       "      <td>60 months</td>\n",
       "      <td>15.59%</td>\n",
       "      <td>516.36</td>\n",
       "      <td>D</td>\n",
       "      <td>D1</td>\n",
       "      <td>...</td>\n",
       "      <td>2</td>\n",
       "      <td>91.4</td>\n",
       "      <td>100.0</td>\n",
       "      <td>0</td>\n",
       "      <td>0</td>\n",
       "      <td>57073</td>\n",
       "      <td>42315</td>\n",
       "      <td>15000</td>\n",
       "      <td>35573</td>\n",
       "      <td>1</td>\n",
       "    </tr>\n",
       "    <tr>\n",
       "      <th>3</th>\n",
       "      <td>NaN</td>\n",
       "      <td>NaN</td>\n",
       "      <td>7650</td>\n",
       "      <td>7650</td>\n",
       "      <td>7650</td>\n",
       "      <td>36 months</td>\n",
       "      <td>13.66%</td>\n",
       "      <td>260.20</td>\n",
       "      <td>C</td>\n",
       "      <td>C3</td>\n",
       "      <td>...</td>\n",
       "      <td>2</td>\n",
       "      <td>100.0</td>\n",
       "      <td>100.0</td>\n",
       "      <td>0</td>\n",
       "      <td>0</td>\n",
       "      <td>82331</td>\n",
       "      <td>64426</td>\n",
       "      <td>4900</td>\n",
       "      <td>64031</td>\n",
       "      <td>0</td>\n",
       "    </tr>\n",
       "    <tr>\n",
       "      <th>5</th>\n",
       "      <td>NaN</td>\n",
       "      <td>NaN</td>\n",
       "      <td>9600</td>\n",
       "      <td>9600</td>\n",
       "      <td>9600</td>\n",
       "      <td>36 months</td>\n",
       "      <td>13.66%</td>\n",
       "      <td>326.53</td>\n",
       "      <td>C</td>\n",
       "      <td>C3</td>\n",
       "      <td>...</td>\n",
       "      <td>3</td>\n",
       "      <td>100.0</td>\n",
       "      <td>60.0</td>\n",
       "      <td>0</td>\n",
       "      <td>0</td>\n",
       "      <td>52490</td>\n",
       "      <td>38566</td>\n",
       "      <td>21100</td>\n",
       "      <td>24890</td>\n",
       "      <td>0</td>\n",
       "    </tr>\n",
       "  </tbody>\n",
       "</table>\n",
       "<p>5 rows × 112 columns</p>\n",
       "</div>"
      ],
      "text/plain": [
       "   id  member_id  loan_amnt  funded_amnt  funded_amnt_inv        term  \\\n",
       "0 NaN        NaN      10400        10400            10400   36 months   \n",
       "1 NaN        NaN      15000        15000            15000   60 months   \n",
       "2 NaN        NaN      21425        21425            21425   60 months   \n",
       "3 NaN        NaN       7650         7650             7650   36 months   \n",
       "5 NaN        NaN       9600         9600             9600   36 months   \n",
       "\n",
       "  int_rate  installment grade sub_grade  ...   num_tl_op_past_12m  \\\n",
       "0    6.99%       321.08     A        A3  ...                    4   \n",
       "1   12.39%       336.64     C        C1  ...                    4   \n",
       "2   15.59%       516.36     D        D1  ...                    2   \n",
       "3   13.66%       260.20     C        C3  ...                    2   \n",
       "5   13.66%       326.53     C        C3  ...                    3   \n",
       "\n",
       "  pct_tl_nvr_dlq percent_bc_gt_75  pub_rec_bankruptcies tax_liens  \\\n",
       "0           83.3             14.3                     0         0   \n",
       "1          100.0              0.0                     0         0   \n",
       "2           91.4            100.0                     0         0   \n",
       "3          100.0            100.0                     0         0   \n",
       "5          100.0             60.0                     0         0   \n",
       "\n",
       "  tot_hi_cred_lim total_bal_ex_mort total_bc_limit  \\\n",
       "0          179407             15030          13000   \n",
       "1          196500            149140          10000   \n",
       "2           57073             42315          15000   \n",
       "3           82331             64426           4900   \n",
       "5           52490             38566          21100   \n",
       "\n",
       "   total_il_high_credit_limit target  \n",
       "0                       11325      0  \n",
       "1                       12000      1  \n",
       "2                       35573      1  \n",
       "3                       64031      0  \n",
       "5                       24890      0  \n",
       "\n",
       "[5 rows x 112 columns]"
      ]
     },
     "execution_count": 12,
     "metadata": {},
     "output_type": "execute_result"
    }
   ],
   "source": [
    "df.head()"
   ]
  },
  {
   "cell_type": "code",
   "execution_count": 13,
   "metadata": {},
   "outputs": [
    {
     "data": {
      "text/plain": [
       "count    0.0\n",
       "mean     NaN\n",
       "std      NaN\n",
       "min      NaN\n",
       "25%      NaN\n",
       "50%      NaN\n",
       "75%      NaN\n",
       "max      NaN\n",
       "Name: id, dtype: float64"
      ]
     },
     "execution_count": 13,
     "metadata": {},
     "output_type": "execute_result"
    }
   ],
   "source": [
    "df['id'].describe()"
   ]
  },
  {
   "cell_type": "markdown",
   "metadata": {},
   "source": [
    "## Clean Data"
   ]
  },
  {
   "cell_type": "code",
   "execution_count": 14,
   "metadata": {
    "collapsed": true
   },
   "outputs": [],
   "source": [
    "n_cols = df.shape[1]"
   ]
  },
  {
   "cell_type": "code",
   "execution_count": 15,
   "metadata": {
    "collapsed": true
   },
   "outputs": [],
   "source": [
    "drop_cols = [\n",
    "        'url'\n",
    "        , 'application_type'\n",
    "        , 'policy_code'\n",
    "    ]"
   ]
  },
  {
   "cell_type": "code",
   "execution_count": 16,
   "metadata": {
    "collapsed": true
   },
   "outputs": [],
   "source": [
    "df.drop(drop_cols, axis=1, inplace=True)"
   ]
  },
  {
   "cell_type": "code",
   "execution_count": 17,
   "metadata": {
    "collapsed": true
   },
   "outputs": [],
   "source": [
    "df.dropna(how='all', axis=1, inplace=True)"
   ]
  },
  {
   "cell_type": "markdown",
   "metadata": {},
   "source": [
    "### Choose only columns we will have information for when loan originates"
   ]
  },
  {
   "cell_type": "code",
   "execution_count": 18,
   "metadata": {},
   "outputs": [
    {
     "name": "stdout",
     "output_type": "stream",
     "text": [
      ", 'loan_amnt'\n",
      ", 'funded_amnt'\n",
      ", 'funded_amnt_inv'\n",
      ", 'term'\n",
      ", 'int_rate'\n",
      ", 'installment'\n",
      ", 'grade'\n",
      ", 'sub_grade'\n",
      ", 'emp_title'\n",
      ", 'emp_length'\n",
      ", 'home_ownership'\n",
      ", 'annual_inc'\n",
      ", 'verification_status'\n",
      ", 'issue_d'\n",
      ", 'loan_status'\n",
      ", 'pymnt_plan'\n",
      ", 'desc'\n",
      ", 'purpose'\n",
      ", 'title'\n",
      ", 'zip_code'\n",
      ", 'addr_state'\n",
      ", 'dti'\n",
      ", 'delinq_2yrs'\n",
      ", 'earliest_cr_line'\n",
      ", 'inq_last_6mths'\n",
      ", 'mths_since_last_delinq'\n",
      ", 'mths_since_last_record'\n",
      ", 'open_acc'\n",
      ", 'pub_rec'\n",
      ", 'revol_bal'\n",
      ", 'revol_util'\n",
      ", 'total_acc'\n",
      ", 'initial_list_status'\n",
      ", 'out_prncp'\n",
      ", 'out_prncp_inv'\n",
      ", 'total_pymnt'\n",
      ", 'total_pymnt_inv'\n",
      ", 'total_rec_prncp'\n",
      ", 'total_rec_int'\n",
      ", 'total_rec_late_fee'\n",
      ", 'recoveries'\n",
      ", 'collection_recovery_fee'\n",
      ", 'last_pymnt_d'\n",
      ", 'last_pymnt_amnt'\n",
      ", 'next_pymnt_d'\n",
      ", 'last_credit_pull_d'\n",
      ", 'collections_12_mths_ex_med'\n",
      ", 'mths_since_last_major_derog'\n",
      ", 'acc_now_delinq'\n",
      ", 'tot_coll_amt'\n",
      ", 'tot_cur_bal'\n",
      ", 'total_rev_hi_lim'\n",
      ", 'acc_open_past_24mths'\n",
      ", 'avg_cur_bal'\n",
      ", 'bc_open_to_buy'\n",
      ", 'bc_util'\n",
      ", 'chargeoff_within_12_mths'\n",
      ", 'delinq_amnt'\n",
      ", 'mo_sin_old_il_acct'\n",
      ", 'mo_sin_old_rev_tl_op'\n",
      ", 'mo_sin_rcnt_rev_tl_op'\n",
      ", 'mo_sin_rcnt_tl'\n",
      ", 'mort_acc'\n",
      ", 'mths_since_recent_bc'\n",
      ", 'mths_since_recent_bc_dlq'\n",
      ", 'mths_since_recent_inq'\n",
      ", 'mths_since_recent_revol_delinq'\n",
      ", 'num_accts_ever_120_pd'\n",
      ", 'num_actv_bc_tl'\n",
      ", 'num_actv_rev_tl'\n",
      ", 'num_bc_sats'\n",
      ", 'num_bc_tl'\n",
      ", 'num_il_tl'\n",
      ", 'num_op_rev_tl'\n",
      ", 'num_rev_accts'\n",
      ", 'num_rev_tl_bal_gt_0'\n",
      ", 'num_sats'\n",
      ", 'num_tl_120dpd_2m'\n",
      ", 'num_tl_30dpd'\n",
      ", 'num_tl_90g_dpd_24m'\n",
      ", 'num_tl_op_past_12m'\n",
      ", 'pct_tl_nvr_dlq'\n",
      ", 'percent_bc_gt_75'\n",
      ", 'pub_rec_bankruptcies'\n",
      ", 'tax_liens'\n",
      ", 'tot_hi_cred_lim'\n",
      ", 'total_bal_ex_mort'\n",
      ", 'total_bc_limit'\n",
      ", 'total_il_high_credit_limit'\n",
      ", 'target'\n"
     ]
    }
   ],
   "source": [
    "for i in df.columns:\n",
    "    print (\", '{}'\".format(i))"
   ]
  },
  {
   "cell_type": "code",
   "execution_count": 19,
   "metadata": {
    "collapsed": true
   },
   "outputs": [],
   "source": [
    "drop_cols = [\n",
    "            'funded_amnt'\n",
    "            , 'funded_amnt_inv'\n",
    "            , 'emp_title'\n",
    "            , 'issue_d'\n",
    "            , 'loan_status'\n",
    "            , 'pymnt_plan'\n",
    "            , 'title'\n",
    "            , 'zip_code'\n",
    "            , 'addr_state'\n",
    "            , 'initial_list_status'\n",
    "            , 'out_prncp'\n",
    "            , 'out_prncp_inv'\n",
    "            , 'total_pymnt'\n",
    "            , 'total_pymnt_inv'\n",
    "            , 'total_rec_prncp'\n",
    "            , 'total_rec_int'\n",
    "            , 'total_rec_late_fee'\n",
    "            , 'recoveries'\n",
    "            , 'collection_recovery_fee'\n",
    "            , 'last_pymnt_d'\n",
    "            , 'last_pymnt_amnt'\n",
    "            , 'next_pymnt_d'\n",
    "            , 'last_credit_pull_d'\n",
    "            , 'tot_coll_amt'\n",
    "            , 'tot_cur_bal'\n",
    "            ]"
   ]
  },
  {
   "cell_type": "code",
   "execution_count": 20,
   "metadata": {
    "collapsed": true
   },
   "outputs": [],
   "source": [
    "df.drop(drop_cols, axis=1, inplace=True)"
   ]
  },
  {
   "cell_type": "markdown",
   "metadata": {},
   "source": [
    "### Turn into correct data type"
   ]
  },
  {
   "cell_type": "code",
   "execution_count": 21,
   "metadata": {
    "scrolled": true
   },
   "outputs": [
    {
     "data": {
      "text/html": [
       "<div>\n",
       "<table border=\"1\" class=\"dataframe\">\n",
       "  <thead>\n",
       "    <tr style=\"text-align: right;\">\n",
       "      <th></th>\n",
       "      <th>0</th>\n",
       "      <th>1</th>\n",
       "      <th>2</th>\n",
       "      <th>3</th>\n",
       "      <th>5</th>\n",
       "      <th>6</th>\n",
       "      <th>7</th>\n",
       "      <th>8</th>\n",
       "      <th>9</th>\n",
       "      <th>10</th>\n",
       "      <th>...</th>\n",
       "      <th>235617</th>\n",
       "      <th>235618</th>\n",
       "      <th>235619</th>\n",
       "      <th>235620</th>\n",
       "      <th>235621</th>\n",
       "      <th>235622</th>\n",
       "      <th>235623</th>\n",
       "      <th>235625</th>\n",
       "      <th>235627</th>\n",
       "      <th>235628</th>\n",
       "    </tr>\n",
       "  </thead>\n",
       "  <tbody>\n",
       "    <tr>\n",
       "      <th>term</th>\n",
       "      <td>36 months</td>\n",
       "      <td>60 months</td>\n",
       "      <td>60 months</td>\n",
       "      <td>36 months</td>\n",
       "      <td>36 months</td>\n",
       "      <td>36 months</td>\n",
       "      <td>36 months</td>\n",
       "      <td>60 months</td>\n",
       "      <td>36 months</td>\n",
       "      <td>36 months</td>\n",
       "      <td>...</td>\n",
       "      <td>36 months</td>\n",
       "      <td>36 months</td>\n",
       "      <td>36 months</td>\n",
       "      <td>60 months</td>\n",
       "      <td>36 months</td>\n",
       "      <td>36 months</td>\n",
       "      <td>36 months</td>\n",
       "      <td>60 months</td>\n",
       "      <td>36 months</td>\n",
       "      <td>36 months</td>\n",
       "    </tr>\n",
       "    <tr>\n",
       "      <th>int_rate</th>\n",
       "      <td>6.99%</td>\n",
       "      <td>12.39%</td>\n",
       "      <td>15.59%</td>\n",
       "      <td>13.66%</td>\n",
       "      <td>13.66%</td>\n",
       "      <td>11.99%</td>\n",
       "      <td>11.44%</td>\n",
       "      <td>11.44%</td>\n",
       "      <td>13.66%</td>\n",
       "      <td>17.86%</td>\n",
       "      <td>...</td>\n",
       "      <td>10.99%</td>\n",
       "      <td>11.99%</td>\n",
       "      <td>15.61%</td>\n",
       "      <td>18.25%</td>\n",
       "      <td>7.90%</td>\n",
       "      <td>13.53%</td>\n",
       "      <td>18.25%</td>\n",
       "      <td>19.97%</td>\n",
       "      <td>7.90%</td>\n",
       "      <td>19.20%</td>\n",
       "    </tr>\n",
       "    <tr>\n",
       "      <th>grade</th>\n",
       "      <td>A</td>\n",
       "      <td>C</td>\n",
       "      <td>D</td>\n",
       "      <td>C</td>\n",
       "      <td>C</td>\n",
       "      <td>B</td>\n",
       "      <td>B</td>\n",
       "      <td>B</td>\n",
       "      <td>C</td>\n",
       "      <td>D</td>\n",
       "      <td>...</td>\n",
       "      <td>B</td>\n",
       "      <td>B</td>\n",
       "      <td>C</td>\n",
       "      <td>D</td>\n",
       "      <td>A</td>\n",
       "      <td>B</td>\n",
       "      <td>D</td>\n",
       "      <td>D</td>\n",
       "      <td>A</td>\n",
       "      <td>D</td>\n",
       "    </tr>\n",
       "    <tr>\n",
       "      <th>sub_grade</th>\n",
       "      <td>A3</td>\n",
       "      <td>C1</td>\n",
       "      <td>D1</td>\n",
       "      <td>C3</td>\n",
       "      <td>C3</td>\n",
       "      <td>B5</td>\n",
       "      <td>B4</td>\n",
       "      <td>B4</td>\n",
       "      <td>C3</td>\n",
       "      <td>D5</td>\n",
       "      <td>...</td>\n",
       "      <td>B2</td>\n",
       "      <td>B3</td>\n",
       "      <td>C4</td>\n",
       "      <td>D3</td>\n",
       "      <td>A4</td>\n",
       "      <td>B5</td>\n",
       "      <td>D3</td>\n",
       "      <td>D5</td>\n",
       "      <td>A4</td>\n",
       "      <td>D3</td>\n",
       "    </tr>\n",
       "    <tr>\n",
       "      <th>emp_length</th>\n",
       "      <td>8 years</td>\n",
       "      <td>10+ years</td>\n",
       "      <td>6 years</td>\n",
       "      <td>&lt; 1 year</td>\n",
       "      <td>10+ years</td>\n",
       "      <td>&lt; 1 year</td>\n",
       "      <td>2 years</td>\n",
       "      <td>6 years</td>\n",
       "      <td>10+ years</td>\n",
       "      <td>10+ years</td>\n",
       "      <td>...</td>\n",
       "      <td>n/a</td>\n",
       "      <td>8 years</td>\n",
       "      <td>7 years</td>\n",
       "      <td>5 years</td>\n",
       "      <td>3 years</td>\n",
       "      <td>4 years</td>\n",
       "      <td>10+ years</td>\n",
       "      <td>10+ years</td>\n",
       "      <td>3 years</td>\n",
       "      <td>10+ years</td>\n",
       "    </tr>\n",
       "    <tr>\n",
       "      <th>home_ownership</th>\n",
       "      <td>MORTGAGE</td>\n",
       "      <td>RENT</td>\n",
       "      <td>RENT</td>\n",
       "      <td>RENT</td>\n",
       "      <td>RENT</td>\n",
       "      <td>MORTGAGE</td>\n",
       "      <td>RENT</td>\n",
       "      <td>OWN</td>\n",
       "      <td>MORTGAGE</td>\n",
       "      <td>RENT</td>\n",
       "      <td>...</td>\n",
       "      <td>MORTGAGE</td>\n",
       "      <td>RENT</td>\n",
       "      <td>RENT</td>\n",
       "      <td>MORTGAGE</td>\n",
       "      <td>RENT</td>\n",
       "      <td>RENT</td>\n",
       "      <td>RENT</td>\n",
       "      <td>MORTGAGE</td>\n",
       "      <td>OWN</td>\n",
       "      <td>MORTGAGE</td>\n",
       "    </tr>\n",
       "    <tr>\n",
       "      <th>verification_status</th>\n",
       "      <td>Not Verified</td>\n",
       "      <td>Source Verified</td>\n",
       "      <td>Source Verified</td>\n",
       "      <td>Source Verified</td>\n",
       "      <td>Source Verified</td>\n",
       "      <td>Source Verified</td>\n",
       "      <td>Not Verified</td>\n",
       "      <td>Verified</td>\n",
       "      <td>Verified</td>\n",
       "      <td>Source Verified</td>\n",
       "      <td>...</td>\n",
       "      <td>Verified</td>\n",
       "      <td>Source Verified</td>\n",
       "      <td>Verified</td>\n",
       "      <td>Verified</td>\n",
       "      <td>Verified</td>\n",
       "      <td>Source Verified</td>\n",
       "      <td>Source Verified</td>\n",
       "      <td>Verified</td>\n",
       "      <td>Verified</td>\n",
       "      <td>Verified</td>\n",
       "    </tr>\n",
       "    <tr>\n",
       "      <th>desc</th>\n",
       "      <td>NaN</td>\n",
       "      <td>NaN</td>\n",
       "      <td>NaN</td>\n",
       "      <td>NaN</td>\n",
       "      <td>NaN</td>\n",
       "      <td>NaN</td>\n",
       "      <td>NaN</td>\n",
       "      <td>NaN</td>\n",
       "      <td>NaN</td>\n",
       "      <td>NaN</td>\n",
       "      <td>...</td>\n",
       "      <td>Borrower added on 12/10/13 &gt; all my loans in...</td>\n",
       "      <td>Borrower added on 12/10/13 &gt; pay off higher ...</td>\n",
       "      <td>NaN</td>\n",
       "      <td>NaN</td>\n",
       "      <td>Borrower added on 12/09/13 &gt; consolidate all...</td>\n",
       "      <td>NaN</td>\n",
       "      <td>NaN</td>\n",
       "      <td>NaN</td>\n",
       "      <td>NaN</td>\n",
       "      <td>Borrower added on 12/04/13 &gt; I will like a l...</td>\n",
       "    </tr>\n",
       "    <tr>\n",
       "      <th>purpose</th>\n",
       "      <td>credit_card</td>\n",
       "      <td>debt_consolidation</td>\n",
       "      <td>credit_card</td>\n",
       "      <td>debt_consolidation</td>\n",
       "      <td>debt_consolidation</td>\n",
       "      <td>home_improvement</td>\n",
       "      <td>debt_consolidation</td>\n",
       "      <td>debt_consolidation</td>\n",
       "      <td>debt_consolidation</td>\n",
       "      <td>house</td>\n",
       "      <td>...</td>\n",
       "      <td>credit_card</td>\n",
       "      <td>credit_card</td>\n",
       "      <td>credit_card</td>\n",
       "      <td>medical</td>\n",
       "      <td>debt_consolidation</td>\n",
       "      <td>credit_card</td>\n",
       "      <td>vacation</td>\n",
       "      <td>debt_consolidation</td>\n",
       "      <td>credit_card</td>\n",
       "      <td>other</td>\n",
       "    </tr>\n",
       "    <tr>\n",
       "      <th>earliest_cr_line</th>\n",
       "      <td>Sep-1989</td>\n",
       "      <td>Aug-1994</td>\n",
       "      <td>Aug-2003</td>\n",
       "      <td>Aug-2002</td>\n",
       "      <td>Nov-1992</td>\n",
       "      <td>Oct-2001</td>\n",
       "      <td>May-2009</td>\n",
       "      <td>Nov-2003</td>\n",
       "      <td>Jan-2001</td>\n",
       "      <td>Jan-1999</td>\n",
       "      <td>...</td>\n",
       "      <td>May-1990</td>\n",
       "      <td>Aug-1983</td>\n",
       "      <td>Nov-1993</td>\n",
       "      <td>Nov-1994</td>\n",
       "      <td>Jul-1998</td>\n",
       "      <td>Aug-1999</td>\n",
       "      <td>Jun-2002</td>\n",
       "      <td>Jun-1997</td>\n",
       "      <td>Feb-2003</td>\n",
       "      <td>Feb-2000</td>\n",
       "    </tr>\n",
       "    <tr>\n",
       "      <th>revol_util</th>\n",
       "      <td>31.6%</td>\n",
       "      <td>29%</td>\n",
       "      <td>76.2%</td>\n",
       "      <td>91.9%</td>\n",
       "      <td>59.4%</td>\n",
       "      <td>94.3%</td>\n",
       "      <td>20.2%</td>\n",
       "      <td>60.4%</td>\n",
       "      <td>46.4%</td>\n",
       "      <td>33.1%</td>\n",
       "      <td>...</td>\n",
       "      <td>19.5%</td>\n",
       "      <td>55.9%</td>\n",
       "      <td>57.4%</td>\n",
       "      <td>10.7%</td>\n",
       "      <td>16.3%</td>\n",
       "      <td>96%</td>\n",
       "      <td>28.8%</td>\n",
       "      <td>46.3%</td>\n",
       "      <td>21.5%</td>\n",
       "      <td>70.8%</td>\n",
       "    </tr>\n",
       "  </tbody>\n",
       "</table>\n",
       "<p>11 rows × 168414 columns</p>\n",
       "</div>"
      ],
      "text/plain": [
       "                           0                   1                2       \\\n",
       "term                    36 months           60 months        60 months   \n",
       "int_rate                    6.99%              12.39%           15.59%   \n",
       "grade                           A                   C                D   \n",
       "sub_grade                      A3                  C1               D1   \n",
       "emp_length                8 years           10+ years          6 years   \n",
       "home_ownership           MORTGAGE                RENT             RENT   \n",
       "verification_status  Not Verified     Source Verified  Source Verified   \n",
       "desc                          NaN                 NaN              NaN   \n",
       "purpose               credit_card  debt_consolidation      credit_card   \n",
       "earliest_cr_line         Sep-1989            Aug-1994         Aug-2003   \n",
       "revol_util                  31.6%                 29%            76.2%   \n",
       "\n",
       "                                 3                   5                 6       \\\n",
       "term                          36 months           36 months         36 months   \n",
       "int_rate                         13.66%              13.66%            11.99%   \n",
       "grade                                 C                   C                 B   \n",
       "sub_grade                            C3                  C3                B5   \n",
       "emp_length                     < 1 year           10+ years          < 1 year   \n",
       "home_ownership                     RENT                RENT          MORTGAGE   \n",
       "verification_status     Source Verified     Source Verified   Source Verified   \n",
       "desc                                NaN                 NaN               NaN   \n",
       "purpose              debt_consolidation  debt_consolidation  home_improvement   \n",
       "earliest_cr_line               Aug-2002            Nov-1992          Oct-2001   \n",
       "revol_util                        91.9%               59.4%             94.3%   \n",
       "\n",
       "                                 7                   8       \\\n",
       "term                          36 months           60 months   \n",
       "int_rate                         11.44%              11.44%   \n",
       "grade                                 B                   B   \n",
       "sub_grade                            B4                  B4   \n",
       "emp_length                      2 years             6 years   \n",
       "home_ownership                     RENT                 OWN   \n",
       "verification_status        Not Verified            Verified   \n",
       "desc                                NaN                 NaN   \n",
       "purpose              debt_consolidation  debt_consolidation   \n",
       "earliest_cr_line               May-2009            Nov-2003   \n",
       "revol_util                        20.2%               60.4%   \n",
       "\n",
       "                                 9                10      \\\n",
       "term                          36 months        36 months   \n",
       "int_rate                         13.66%           17.86%   \n",
       "grade                                 C                D   \n",
       "sub_grade                            C3               D5   \n",
       "emp_length                    10+ years        10+ years   \n",
       "home_ownership                 MORTGAGE             RENT   \n",
       "verification_status            Verified  Source Verified   \n",
       "desc                                NaN              NaN   \n",
       "purpose              debt_consolidation            house   \n",
       "earliest_cr_line               Jan-2001         Jan-1999   \n",
       "revol_util                        46.4%            33.1%   \n",
       "\n",
       "                                           ...                          \\\n",
       "term                                       ...                           \n",
       "int_rate                                   ...                           \n",
       "grade                                      ...                           \n",
       "sub_grade                                  ...                           \n",
       "emp_length                                 ...                           \n",
       "home_ownership                             ...                           \n",
       "verification_status                        ...                           \n",
       "desc                                       ...                           \n",
       "purpose                                    ...                           \n",
       "earliest_cr_line                           ...                           \n",
       "revol_util                                 ...                           \n",
       "\n",
       "                                                                235617  \\\n",
       "term                                                         36 months   \n",
       "int_rate                                                        10.99%   \n",
       "grade                                                                B   \n",
       "sub_grade                                                           B2   \n",
       "emp_length                                                         n/a   \n",
       "home_ownership                                                MORTGAGE   \n",
       "verification_status                                           Verified   \n",
       "desc                   Borrower added on 12/10/13 > all my loans in...   \n",
       "purpose                                                    credit_card   \n",
       "earliest_cr_line                                              May-1990   \n",
       "revol_util                                                       19.5%   \n",
       "\n",
       "                                                                235618  \\\n",
       "term                                                         36 months   \n",
       "int_rate                                                        11.99%   \n",
       "grade                                                                B   \n",
       "sub_grade                                                           B3   \n",
       "emp_length                                                     8 years   \n",
       "home_ownership                                                    RENT   \n",
       "verification_status                                    Source Verified   \n",
       "desc                   Borrower added on 12/10/13 > pay off higher ...   \n",
       "purpose                                                    credit_card   \n",
       "earliest_cr_line                                              Aug-1983   \n",
       "revol_util                                                       55.9%   \n",
       "\n",
       "                          235619      235620  \\\n",
       "term                   36 months   60 months   \n",
       "int_rate                  15.61%      18.25%   \n",
       "grade                          C           D   \n",
       "sub_grade                     C4          D3   \n",
       "emp_length               7 years     5 years   \n",
       "home_ownership              RENT    MORTGAGE   \n",
       "verification_status     Verified    Verified   \n",
       "desc                         NaN         NaN   \n",
       "purpose              credit_card     medical   \n",
       "earliest_cr_line        Nov-1993    Nov-1994   \n",
       "revol_util                 57.4%       10.7%   \n",
       "\n",
       "                                                                235621  \\\n",
       "term                                                         36 months   \n",
       "int_rate                                                         7.90%   \n",
       "grade                                                                A   \n",
       "sub_grade                                                           A4   \n",
       "emp_length                                                     3 years   \n",
       "home_ownership                                                    RENT   \n",
       "verification_status                                           Verified   \n",
       "desc                   Borrower added on 12/09/13 > consolidate all...   \n",
       "purpose                                             debt_consolidation   \n",
       "earliest_cr_line                                              Jul-1998   \n",
       "revol_util                                                       16.3%   \n",
       "\n",
       "                              235622           235623              235625  \\\n",
       "term                       36 months        36 months           60 months   \n",
       "int_rate                      13.53%           18.25%              19.97%   \n",
       "grade                              B                D                   D   \n",
       "sub_grade                         B5               D3                  D5   \n",
       "emp_length                   4 years        10+ years           10+ years   \n",
       "home_ownership                  RENT             RENT            MORTGAGE   \n",
       "verification_status  Source Verified  Source Verified            Verified   \n",
       "desc                             NaN              NaN                 NaN   \n",
       "purpose                  credit_card         vacation  debt_consolidation   \n",
       "earliest_cr_line            Aug-1999         Jun-2002            Jun-1997   \n",
       "revol_util                       96%            28.8%               46.3%   \n",
       "\n",
       "                          235627  \\\n",
       "term                   36 months   \n",
       "int_rate                   7.90%   \n",
       "grade                          A   \n",
       "sub_grade                     A4   \n",
       "emp_length               3 years   \n",
       "home_ownership               OWN   \n",
       "verification_status     Verified   \n",
       "desc                         NaN   \n",
       "purpose              credit_card   \n",
       "earliest_cr_line        Feb-2003   \n",
       "revol_util                 21.5%   \n",
       "\n",
       "                                                                235628  \n",
       "term                                                         36 months  \n",
       "int_rate                                                        19.20%  \n",
       "grade                                                                D  \n",
       "sub_grade                                                           D3  \n",
       "emp_length                                                   10+ years  \n",
       "home_ownership                                                MORTGAGE  \n",
       "verification_status                                           Verified  \n",
       "desc                   Borrower added on 12/04/13 > I will like a l...  \n",
       "purpose                                                          other  \n",
       "earliest_cr_line                                              Feb-2000  \n",
       "revol_util                                                       70.8%  \n",
       "\n",
       "[11 rows x 168414 columns]"
      ]
     },
     "execution_count": 21,
     "metadata": {},
     "output_type": "execute_result"
    }
   ],
   "source": [
    "df.select_dtypes(exclude=[np.number]).T"
   ]
  },
  {
   "cell_type": "code",
   "execution_count": 22,
   "metadata": {},
   "outputs": [
    {
     "name": "stdout",
     "output_type": "stream",
     "text": [
      ", 'term'\n",
      ", 'int_rate'\n",
      ", 'grade'\n",
      ", 'sub_grade'\n",
      ", 'emp_length'\n",
      ", 'home_ownership'\n",
      ", 'verification_status'\n",
      ", 'desc'\n",
      ", 'purpose'\n",
      ", 'earliest_cr_line'\n",
      ", 'revol_util'\n"
     ]
    }
   ],
   "source": [
    "for i in df.select_dtypes(exclude=[np.number]).columns:\n",
    "    print (\", '{0}'\".format(i))"
   ]
  },
  {
   "cell_type": "markdown",
   "metadata": {},
   "source": [
    "#### Object to numeric"
   ]
  },
  {
   "cell_type": "code",
   "execution_count": 23,
   "metadata": {
    "collapsed": true
   },
   "outputs": [],
   "source": [
    "import re"
   ]
  },
  {
   "cell_type": "code",
   "execution_count": 24,
   "metadata": {
    "collapsed": true
   },
   "outputs": [],
   "source": [
    "obj_num_cols = [\n",
    "        'term'\n",
    "        , 'int_rate'\n",
    "        , 'emp_length'\n",
    "        , 'revol_util'\n",
    "        ]"
   ]
  },
  {
   "cell_type": "code",
   "execution_count": 25,
   "metadata": {
    "collapsed": true,
    "scrolled": true
   },
   "outputs": [],
   "source": [
    "df['term'] = df['term'].apply(lambda x: re.sub(\"[^0-9.,]\", '', x))\n",
    "df['term'] = pd.to_numeric(df['term'])"
   ]
  },
  {
   "cell_type": "code",
   "execution_count": 26,
   "metadata": {
    "collapsed": true
   },
   "outputs": [],
   "source": [
    "df['int_rate'] = df['int_rate'].apply(lambda x: re.sub(\"[^0-9.,]\", '', x))\n",
    "df['int_rate'] = pd.to_numeric(df['int_rate'])"
   ]
  },
  {
   "cell_type": "code",
   "execution_count": 27,
   "metadata": {
    "collapsed": true
   },
   "outputs": [],
   "source": [
    "df['emp_length'] = ['0' if x=='< 1 year' else x for x in df['emp_length']]\n",
    "df['emp_length'] = df['emp_length'].apply(lambda x: re.sub(\"[^0-9.,]\", '', x))\n",
    "df['emp_length'] = pd.to_numeric(df['emp_length'])#, errors=coerce)"
   ]
  },
  {
   "cell_type": "code",
   "execution_count": 28,
   "metadata": {
    "collapsed": true
   },
   "outputs": [],
   "source": [
    "df['revol_util'] = df['revol_util'].apply(lambda x: re.sub(\"[^0-9.,]\", '', str(x)))\n",
    "df['revol_util'] = pd.to_numeric(df['revol_util'])#, errors=coerce)"
   ]
  },
  {
   "cell_type": "markdown",
   "metadata": {},
   "source": [
    "#### Object to date"
   ]
  },
  {
   "cell_type": "code",
   "execution_count": 29,
   "metadata": {
    "collapsed": true
   },
   "outputs": [],
   "source": [
    "obj_date_cols = [\n",
    "    #'issue_d'\n",
    "    'earliest_cr_line'\n",
    "    ]"
   ]
  },
  {
   "cell_type": "code",
   "execution_count": 30,
   "metadata": {
    "collapsed": true
   },
   "outputs": [],
   "source": [
    "df[obj_date_cols] = df[obj_date_cols].apply(lambda x: pd.to_datetime(x))"
   ]
  },
  {
   "cell_type": "markdown",
   "metadata": {},
   "source": [
    "#### Numeric columns"
   ]
  },
  {
   "cell_type": "code",
   "execution_count": 31,
   "metadata": {
    "scrolled": true
   },
   "outputs": [
    {
     "name": "stdout",
     "output_type": "stream",
     "text": [
      ", 'loan_amnt'\n",
      ", 'term'\n",
      ", 'int_rate'\n",
      ", 'installment'\n",
      ", 'emp_length'\n",
      ", 'annual_inc'\n",
      ", 'dti'\n",
      ", 'delinq_2yrs'\n",
      ", 'inq_last_6mths'\n",
      ", 'mths_since_last_delinq'\n",
      ", 'mths_since_last_record'\n",
      ", 'open_acc'\n",
      ", 'pub_rec'\n",
      ", 'revol_bal'\n",
      ", 'revol_util'\n",
      ", 'total_acc'\n",
      ", 'collections_12_mths_ex_med'\n",
      ", 'mths_since_last_major_derog'\n",
      ", 'acc_now_delinq'\n",
      ", 'total_rev_hi_lim'\n",
      ", 'acc_open_past_24mths'\n",
      ", 'avg_cur_bal'\n",
      ", 'bc_open_to_buy'\n",
      ", 'bc_util'\n",
      ", 'chargeoff_within_12_mths'\n",
      ", 'delinq_amnt'\n",
      ", 'mo_sin_old_il_acct'\n",
      ", 'mo_sin_old_rev_tl_op'\n",
      ", 'mo_sin_rcnt_rev_tl_op'\n",
      ", 'mo_sin_rcnt_tl'\n",
      ", 'mort_acc'\n",
      ", 'mths_since_recent_bc'\n",
      ", 'mths_since_recent_bc_dlq'\n",
      ", 'mths_since_recent_inq'\n",
      ", 'mths_since_recent_revol_delinq'\n",
      ", 'num_accts_ever_120_pd'\n",
      ", 'num_actv_bc_tl'\n",
      ", 'num_actv_rev_tl'\n",
      ", 'num_bc_sats'\n",
      ", 'num_bc_tl'\n",
      ", 'num_il_tl'\n",
      ", 'num_op_rev_tl'\n",
      ", 'num_rev_accts'\n",
      ", 'num_rev_tl_bal_gt_0'\n",
      ", 'num_sats'\n",
      ", 'num_tl_120dpd_2m'\n",
      ", 'num_tl_30dpd'\n",
      ", 'num_tl_90g_dpd_24m'\n",
      ", 'num_tl_op_past_12m'\n",
      ", 'pct_tl_nvr_dlq'\n",
      ", 'percent_bc_gt_75'\n",
      ", 'pub_rec_bankruptcies'\n",
      ", 'tax_liens'\n",
      ", 'tot_hi_cred_lim'\n",
      ", 'total_bal_ex_mort'\n",
      ", 'total_bc_limit'\n",
      ", 'total_il_high_credit_limit'\n",
      ", 'target'\n"
     ]
    }
   ],
   "source": [
    "for i in df.select_dtypes(include=[np.number]).columns:\n",
    "    print (\", '{0}'\".format(i))"
   ]
  },
  {
   "cell_type": "code",
   "execution_count": 32,
   "metadata": {
    "scrolled": true
   },
   "outputs": [
    {
     "name": "stdout",
     "output_type": "stream",
     "text": [
      "<class 'pandas.core.frame.DataFrame'>\n",
      "Int64Index: 168414 entries, 0 to 235628\n",
      "Data columns (total 65 columns):\n",
      "loan_amnt                         168414 non-null int64\n",
      "term                              168414 non-null int64\n",
      "int_rate                          168414 non-null float64\n",
      "installment                       168414 non-null float64\n",
      "grade                             168414 non-null object\n",
      "sub_grade                         168414 non-null object\n",
      "emp_length                        159733 non-null float64\n",
      "home_ownership                    168414 non-null object\n",
      "annual_inc                        168414 non-null float64\n",
      "verification_status               168414 non-null object\n",
      "desc                              13685 non-null object\n",
      "purpose                           168414 non-null object\n",
      "dti                               168414 non-null float64\n",
      "delinq_2yrs                       168414 non-null int64\n",
      "earliest_cr_line                  168414 non-null datetime64[ns]\n",
      "inq_last_6mths                    168414 non-null int64\n",
      "mths_since_last_delinq            85889 non-null float64\n",
      "mths_since_last_record            31871 non-null float64\n",
      "open_acc                          168414 non-null int64\n",
      "pub_rec                           168414 non-null int64\n",
      "revol_bal                         168414 non-null int64\n",
      "revol_util                        168327 non-null float64\n",
      "total_acc                         168414 non-null int64\n",
      "collections_12_mths_ex_med        168414 non-null int64\n",
      "mths_since_last_major_derog       49115 non-null float64\n",
      "acc_now_delinq                    168414 non-null int64\n",
      "total_rev_hi_lim                  168414 non-null int64\n",
      "acc_open_past_24mths              168414 non-null int64\n",
      "avg_cur_bal                       168408 non-null float64\n",
      "bc_open_to_buy                    166653 non-null float64\n",
      "bc_util                           166523 non-null float64\n",
      "chargeoff_within_12_mths          168414 non-null int64\n",
      "delinq_amnt                       168414 non-null int64\n",
      "mo_sin_old_il_acct                163118 non-null float64\n",
      "mo_sin_old_rev_tl_op              168414 non-null int64\n",
      "mo_sin_rcnt_rev_tl_op             168414 non-null int64\n",
      "mo_sin_rcnt_tl                    168414 non-null int64\n",
      "mort_acc                          168414 non-null int64\n",
      "mths_since_recent_bc              166804 non-null float64\n",
      "mths_since_recent_bc_dlq          44906 non-null float64\n",
      "mths_since_recent_inq             154538 non-null float64\n",
      "mths_since_recent_revol_delinq    60917 non-null float64\n",
      "num_accts_ever_120_pd             168414 non-null int64\n",
      "num_actv_bc_tl                    168414 non-null int64\n",
      "num_actv_rev_tl                   168414 non-null int64\n",
      "num_bc_sats                       168414 non-null int64\n",
      "num_bc_tl                         168414 non-null int64\n",
      "num_il_tl                         168414 non-null int64\n",
      "num_op_rev_tl                     168414 non-null int64\n",
      "num_rev_accts                     168414 non-null int64\n",
      "num_rev_tl_bal_gt_0               168414 non-null int64\n",
      "num_sats                          168414 non-null int64\n",
      "num_tl_120dpd_2m                  161848 non-null float64\n",
      "num_tl_30dpd                      168414 non-null int64\n",
      "num_tl_90g_dpd_24m                168414 non-null int64\n",
      "num_tl_op_past_12m                168414 non-null int64\n",
      "pct_tl_nvr_dlq                    168414 non-null float64\n",
      "percent_bc_gt_75                  166555 non-null float64\n",
      "pub_rec_bankruptcies              168414 non-null int64\n",
      "tax_liens                         168414 non-null int64\n",
      "tot_hi_cred_lim                   168414 non-null int64\n",
      "total_bal_ex_mort                 168414 non-null int64\n",
      "total_bc_limit                    168414 non-null int64\n",
      "total_il_high_credit_limit        168414 non-null int64\n",
      "target                            168414 non-null int64\n",
      "dtypes: datetime64[ns](1), float64(20), int64(38), object(6)\n",
      "memory usage: 84.8+ MB\n"
     ]
    }
   ],
   "source": [
    "df.info()"
   ]
  },
  {
   "cell_type": "markdown",
   "metadata": {},
   "source": [
    "### Datetime to feature"
   ]
  },
  {
   "cell_type": "code",
   "execution_count": 33,
   "metadata": {},
   "outputs": [
    {
     "data": {
      "text/plain": [
       "Timestamp('2014-12-01 00:00:00')"
      ]
     },
     "execution_count": 33,
     "metadata": {},
     "output_type": "execute_result"
    }
   ],
   "source": [
    "pd.to_datetime('2014-12-01')"
   ]
  },
  {
   "cell_type": "code",
   "execution_count": 34,
   "metadata": {
    "collapsed": true
   },
   "outputs": [],
   "source": [
    "df['mo_earliest_credit'] = pd.to_datetime('2014-12-01') - df['earliest_cr_line']"
   ]
  },
  {
   "cell_type": "code",
   "execution_count": 35,
   "metadata": {
    "collapsed": true
   },
   "outputs": [],
   "source": [
    "df['mo_earliest_credit'] = df['mo_earliest_credit'].apply(lambda x: x.days/365)"
   ]
  },
  {
   "cell_type": "code",
   "execution_count": 36,
   "metadata": {
    "collapsed": true
   },
   "outputs": [],
   "source": [
    "df.drop('earliest_cr_line', axis=1, inplace=True)"
   ]
  },
  {
   "cell_type": "markdown",
   "metadata": {
    "collapsed": true
   },
   "source": [
    "### Dummies for object cols"
   ]
  },
  {
   "cell_type": "markdown",
   "metadata": {},
   "source": [
    "Turn description into a bin for now"
   ]
  },
  {
   "cell_type": "code",
   "execution_count": 37,
   "metadata": {
    "collapsed": true
   },
   "outputs": [],
   "source": [
    "df['desc_bin'] = [1 if x else 0 for x in df['desc']]"
   ]
  },
  {
   "cell_type": "code",
   "execution_count": 38,
   "metadata": {
    "collapsed": true
   },
   "outputs": [],
   "source": [
    "df.drop(['desc'], axis=1, inplace=True)"
   ]
  },
  {
   "cell_type": "code",
   "execution_count": 39,
   "metadata": {
    "collapsed": true
   },
   "outputs": [],
   "source": [
    "obj_cols = df.select_dtypes(include=[object]).columns"
   ]
  },
  {
   "cell_type": "code",
   "execution_count": 40,
   "metadata": {},
   "outputs": [
    {
     "name": "stdout",
     "output_type": "stream",
     "text": [
      "<class 'pandas.core.frame.DataFrame'>\n",
      "Int64Index: 168414 entries, 0 to 235628\n",
      "Data columns (total 5 columns):\n",
      "grade                  168414 non-null object\n",
      "sub_grade              168414 non-null object\n",
      "home_ownership         168414 non-null object\n",
      "verification_status    168414 non-null object\n",
      "purpose                168414 non-null object\n",
      "dtypes: object(5)\n",
      "memory usage: 7.7+ MB\n"
     ]
    }
   ],
   "source": [
    "df[obj_cols].info()"
   ]
  },
  {
   "cell_type": "code",
   "execution_count": 41,
   "metadata": {},
   "outputs": [
    {
     "data": {
      "text/plain": [
       "C    47458\n",
       "B    45918\n",
       "D    29785\n",
       "A    24631\n",
       "E    14439\n",
       "F     4890\n",
       "G     1293\n",
       "Name: grade, dtype: int64"
      ]
     },
     "execution_count": 41,
     "metadata": {},
     "output_type": "execute_result"
    }
   ],
   "source": [
    "df['grade'].value_counts()"
   ]
  },
  {
   "cell_type": "code",
   "execution_count": 42,
   "metadata": {
    "collapsed": true
   },
   "outputs": [],
   "source": [
    "df['sub_grade_number'] = df['sub_grade'].str[1]"
   ]
  },
  {
   "cell_type": "code",
   "execution_count": 43,
   "metadata": {
    "scrolled": true
   },
   "outputs": [
    {
     "data": {
      "text/plain": [
       "4    34363\n",
       "1    34079\n",
       "3    33500\n",
       "5    33333\n",
       "2    33139\n",
       "Name: sub_grade_number, dtype: int64"
      ]
     },
     "execution_count": 43,
     "metadata": {},
     "output_type": "execute_result"
    }
   ],
   "source": [
    "df['sub_grade_number'].value_counts()"
   ]
  },
  {
   "cell_type": "code",
   "execution_count": 44,
   "metadata": {},
   "outputs": [
    {
     "data": {
      "text/plain": [
       "MORTGAGE    83975\n",
       "RENT        68062\n",
       "OWN         16376\n",
       "ANY             1\n",
       "Name: home_ownership, dtype: int64"
      ]
     },
     "execution_count": 44,
     "metadata": {},
     "output_type": "execute_result"
    }
   ],
   "source": [
    "df['home_ownership'].value_counts()"
   ]
  },
  {
   "cell_type": "code",
   "execution_count": 45,
   "metadata": {},
   "outputs": [
    {
     "data": {
      "text/plain": [
       "Source Verified    67346\n",
       "Not Verified       52303\n",
       "Verified           48765\n",
       "Name: verification_status, dtype: int64"
      ]
     },
     "execution_count": 45,
     "metadata": {},
     "output_type": "execute_result"
    }
   ],
   "source": [
    "df['verification_status'].value_counts()"
   ]
  },
  {
   "cell_type": "code",
   "execution_count": 46,
   "metadata": {},
   "outputs": [
    {
     "data": {
      "text/plain": [
       "debt_consolidation    102322\n",
       "credit_card            38169\n",
       "home_improvement        9430\n",
       "other                   7912\n",
       "major_purchase          2824\n",
       "medical                 1845\n",
       "small_business          1790\n",
       "car                     1359\n",
       "moving                  1080\n",
       "vacation                 965\n",
       "house                    610\n",
       "renewable_energy         103\n",
       "wedding                    5\n",
       "Name: purpose, dtype: int64"
      ]
     },
     "execution_count": 46,
     "metadata": {},
     "output_type": "execute_result"
    }
   ],
   "source": [
    "df['purpose'].value_counts()"
   ]
  },
  {
   "cell_type": "markdown",
   "metadata": {},
   "source": [
    "Don't use emp_title (too many uniques), pymnt_plan (all the same), title (too many uniques, seems to have been reconsolidated under purpose, don't use address zip code or state for now"
   ]
  },
  {
   "cell_type": "code",
   "execution_count": 47,
   "metadata": {
    "collapsed": true
   },
   "outputs": [],
   "source": [
    "for i in obj_cols:\n",
    "    df = df.merge(pd.get_dummies(df[i]\n",
    "                                 , prefix='{0}'.format(i))\n",
    "                , left_index=True\n",
    "                , right_index=True)"
   ]
  },
  {
   "cell_type": "code",
   "execution_count": 48,
   "metadata": {
    "collapsed": true
   },
   "outputs": [],
   "source": [
    "df.drop(obj_cols, axis=1, inplace=True)"
   ]
  },
  {
   "cell_type": "code",
   "execution_count": 49,
   "metadata": {},
   "outputs": [
    {
     "data": {
      "text/html": [
       "<div>\n",
       "<table border=\"1\" class=\"dataframe\">\n",
       "  <thead>\n",
       "    <tr style=\"text-align: right;\">\n",
       "      <th></th>\n",
       "      <th>loan_amnt</th>\n",
       "      <th>term</th>\n",
       "      <th>int_rate</th>\n",
       "      <th>installment</th>\n",
       "      <th>emp_length</th>\n",
       "      <th>annual_inc</th>\n",
       "      <th>dti</th>\n",
       "      <th>delinq_2yrs</th>\n",
       "      <th>inq_last_6mths</th>\n",
       "      <th>mths_since_last_delinq</th>\n",
       "      <th>...</th>\n",
       "      <th>purpose_home_improvement</th>\n",
       "      <th>purpose_house</th>\n",
       "      <th>purpose_major_purchase</th>\n",
       "      <th>purpose_medical</th>\n",
       "      <th>purpose_moving</th>\n",
       "      <th>purpose_other</th>\n",
       "      <th>purpose_renewable_energy</th>\n",
       "      <th>purpose_small_business</th>\n",
       "      <th>purpose_vacation</th>\n",
       "      <th>purpose_wedding</th>\n",
       "    </tr>\n",
       "  </thead>\n",
       "  <tbody>\n",
       "    <tr>\n",
       "      <th>0</th>\n",
       "      <td>10400</td>\n",
       "      <td>36</td>\n",
       "      <td>6.99</td>\n",
       "      <td>321.08</td>\n",
       "      <td>8.0</td>\n",
       "      <td>58000.0</td>\n",
       "      <td>14.92</td>\n",
       "      <td>0</td>\n",
       "      <td>2</td>\n",
       "      <td>42.0</td>\n",
       "      <td>...</td>\n",
       "      <td>0</td>\n",
       "      <td>0</td>\n",
       "      <td>0</td>\n",
       "      <td>0</td>\n",
       "      <td>0</td>\n",
       "      <td>0</td>\n",
       "      <td>0</td>\n",
       "      <td>0</td>\n",
       "      <td>0</td>\n",
       "      <td>0</td>\n",
       "    </tr>\n",
       "    <tr>\n",
       "      <th>1</th>\n",
       "      <td>15000</td>\n",
       "      <td>60</td>\n",
       "      <td>12.39</td>\n",
       "      <td>336.64</td>\n",
       "      <td>10.0</td>\n",
       "      <td>78000.0</td>\n",
       "      <td>12.03</td>\n",
       "      <td>0</td>\n",
       "      <td>0</td>\n",
       "      <td>NaN</td>\n",
       "      <td>...</td>\n",
       "      <td>0</td>\n",
       "      <td>0</td>\n",
       "      <td>0</td>\n",
       "      <td>0</td>\n",
       "      <td>0</td>\n",
       "      <td>0</td>\n",
       "      <td>0</td>\n",
       "      <td>0</td>\n",
       "      <td>0</td>\n",
       "      <td>0</td>\n",
       "    </tr>\n",
       "    <tr>\n",
       "      <th>2</th>\n",
       "      <td>21425</td>\n",
       "      <td>60</td>\n",
       "      <td>15.59</td>\n",
       "      <td>516.36</td>\n",
       "      <td>6.0</td>\n",
       "      <td>63800.0</td>\n",
       "      <td>18.49</td>\n",
       "      <td>0</td>\n",
       "      <td>0</td>\n",
       "      <td>60.0</td>\n",
       "      <td>...</td>\n",
       "      <td>0</td>\n",
       "      <td>0</td>\n",
       "      <td>0</td>\n",
       "      <td>0</td>\n",
       "      <td>0</td>\n",
       "      <td>0</td>\n",
       "      <td>0</td>\n",
       "      <td>0</td>\n",
       "      <td>0</td>\n",
       "      <td>0</td>\n",
       "    </tr>\n",
       "    <tr>\n",
       "      <th>3</th>\n",
       "      <td>7650</td>\n",
       "      <td>36</td>\n",
       "      <td>13.66</td>\n",
       "      <td>260.20</td>\n",
       "      <td>0.0</td>\n",
       "      <td>50000.0</td>\n",
       "      <td>34.81</td>\n",
       "      <td>0</td>\n",
       "      <td>1</td>\n",
       "      <td>NaN</td>\n",
       "      <td>...</td>\n",
       "      <td>0</td>\n",
       "      <td>0</td>\n",
       "      <td>0</td>\n",
       "      <td>0</td>\n",
       "      <td>0</td>\n",
       "      <td>0</td>\n",
       "      <td>0</td>\n",
       "      <td>0</td>\n",
       "      <td>0</td>\n",
       "      <td>0</td>\n",
       "    </tr>\n",
       "    <tr>\n",
       "      <th>5</th>\n",
       "      <td>9600</td>\n",
       "      <td>36</td>\n",
       "      <td>13.66</td>\n",
       "      <td>326.53</td>\n",
       "      <td>10.0</td>\n",
       "      <td>69000.0</td>\n",
       "      <td>25.81</td>\n",
       "      <td>0</td>\n",
       "      <td>0</td>\n",
       "      <td>NaN</td>\n",
       "      <td>...</td>\n",
       "      <td>0</td>\n",
       "      <td>0</td>\n",
       "      <td>0</td>\n",
       "      <td>0</td>\n",
       "      <td>0</td>\n",
       "      <td>0</td>\n",
       "      <td>0</td>\n",
       "      <td>0</td>\n",
       "      <td>0</td>\n",
       "      <td>0</td>\n",
       "    </tr>\n",
       "  </tbody>\n",
       "</table>\n",
       "<p>5 rows × 123 columns</p>\n",
       "</div>"
      ],
      "text/plain": [
       "   loan_amnt  term  int_rate  installment  emp_length  annual_inc    dti  \\\n",
       "0      10400    36      6.99       321.08         8.0     58000.0  14.92   \n",
       "1      15000    60     12.39       336.64        10.0     78000.0  12.03   \n",
       "2      21425    60     15.59       516.36         6.0     63800.0  18.49   \n",
       "3       7650    36     13.66       260.20         0.0     50000.0  34.81   \n",
       "5       9600    36     13.66       326.53        10.0     69000.0  25.81   \n",
       "\n",
       "   delinq_2yrs  inq_last_6mths  mths_since_last_delinq       ...         \\\n",
       "0            0               2                    42.0       ...          \n",
       "1            0               0                     NaN       ...          \n",
       "2            0               0                    60.0       ...          \n",
       "3            0               1                     NaN       ...          \n",
       "5            0               0                     NaN       ...          \n",
       "\n",
       "   purpose_home_improvement  purpose_house  purpose_major_purchase  \\\n",
       "0                         0              0                       0   \n",
       "1                         0              0                       0   \n",
       "2                         0              0                       0   \n",
       "3                         0              0                       0   \n",
       "5                         0              0                       0   \n",
       "\n",
       "   purpose_medical  purpose_moving  purpose_other  purpose_renewable_energy  \\\n",
       "0                0               0              0                         0   \n",
       "1                0               0              0                         0   \n",
       "2                0               0              0                         0   \n",
       "3                0               0              0                         0   \n",
       "5                0               0              0                         0   \n",
       "\n",
       "   purpose_small_business  purpose_vacation  purpose_wedding  \n",
       "0                       0                 0                0  \n",
       "1                       0                 0                0  \n",
       "2                       0                 0                0  \n",
       "3                       0                 0                0  \n",
       "5                       0                 0                0  \n",
       "\n",
       "[5 rows x 123 columns]"
      ]
     },
     "execution_count": 49,
     "metadata": {},
     "output_type": "execute_result"
    }
   ],
   "source": [
    "df.head()"
   ]
  },
  {
   "cell_type": "code",
   "execution_count": 50,
   "metadata": {
    "collapsed": true
   },
   "outputs": [],
   "source": [
    "def bin_nulls(col, bins):\n",
    "    bin_num = []\n",
    "    for func in bins:\n",
    "        bin_num.append(func(col))\n",
    "    bin_num = list(set(bin_num))\n",
    "    bin_num.sort()\n",
    "    col = pd.cut(col, bin_num, right=True, include_lowest=True)\n",
    "    dum = pd.get_dummies(col, dummy_na=True)\n",
    "    return dum"
   ]
  },
  {
   "cell_type": "code",
   "execution_count": 51,
   "metadata": {
    "collapsed": true
   },
   "outputs": [],
   "source": [
    "for col in df.columns[df.isnull().any()]:\n",
    "    df[col] = bin_nulls(df[col], bins=[np.min, partial(np.nanpercentile, q=25), np.nanmedian, partial(np.nanpercentile, q=75), np.max])"
   ]
  },
  {
   "cell_type": "code",
   "execution_count": 52,
   "metadata": {},
   "outputs": [
    {
     "data": {
      "text/plain": [
       "0"
      ]
     },
     "execution_count": 52,
     "metadata": {},
     "output_type": "execute_result"
    }
   ],
   "source": [
    "np.sum(df.isnull().any())"
   ]
  },
  {
   "cell_type": "code",
   "execution_count": 53,
   "metadata": {
    "collapsed": true
   },
   "outputs": [],
   "source": [
    "df.to_csv('2014_clean_1.csv')"
   ]
  },
  {
   "cell_type": "markdown",
   "metadata": {},
   "source": [
    "### Modeling"
   ]
  },
  {
   "cell_type": "code",
   "execution_count": 68,
   "metadata": {
    "collapsed": true
   },
   "outputs": [],
   "source": [
    "from sklearn.ensemble import RandomForestClassifier\n",
    "from sklearn.linear_model import LogisticRegression\n",
    "from sklearn.model_selection import train_test_split\n",
    "from sklearn.grid_search import GridSearchCV"
   ]
  },
  {
   "cell_type": "code",
   "execution_count": 62,
   "metadata": {
    "collapsed": true
   },
   "outputs": [],
   "source": [
    "from sklearn.metrics import roc_auc_score\n",
    "from sklearn.metrics import classification_report"
   ]
  },
  {
   "cell_type": "code",
   "execution_count": 55,
   "metadata": {
    "collapsed": true
   },
   "outputs": [],
   "source": [
    "rand = 128"
   ]
  },
  {
   "cell_type": "code",
   "execution_count": 56,
   "metadata": {
    "collapsed": true
   },
   "outputs": [],
   "source": [
    "y = df.pop('target')\n",
    "X = df"
   ]
  },
  {
   "cell_type": "code",
   "execution_count": 57,
   "metadata": {
    "collapsed": true
   },
   "outputs": [],
   "source": [
    "X_train, X_test, y_train, y_test = train_test_split(X, y, test_size=.3)"
   ]
  },
  {
   "cell_type": "code",
   "execution_count": 80,
   "metadata": {
    "collapsed": true
   },
   "outputs": [],
   "source": [
    "rfc = RandomForestClassifier(n_estimators=250, max_features='sqrt')"
   ]
  },
  {
   "cell_type": "code",
   "execution_count": 81,
   "metadata": {
    "collapsed": true
   },
   "outputs": [],
   "source": [
    "params = dict(n_estimators=[200, 500, 1000]\n",
    "             , max_features=['sqrt', 'log2']\n",
    "             , max_depth=[10, 25, None])"
   ]
  },
  {
   "cell_type": "code",
   "execution_count": 82,
   "metadata": {},
   "outputs": [],
   "source": [
    "gc = GridSearchCV(rfc, params)"
   ]
  },
  {
   "cell_type": "code",
   "execution_count": null,
   "metadata": {},
   "outputs": [],
   "source": [
    "gc.fit(X_train, y_train)"
   ]
  },
  {
   "cell_type": "code",
   "execution_count": 76,
   "metadata": {},
   "outputs": [
    {
     "ename": "AttributeError",
     "evalue": "'GridSearchCV' object has no attribute 'scorer_'",
     "output_type": "error",
     "traceback": [
      "\u001b[0;31m---------------------------------------------------------------------------\u001b[0m",
      "\u001b[0;31mAttributeError\u001b[0m                            Traceback (most recent call last)",
      "\u001b[0;32m<ipython-input-76-543a22691251>\u001b[0m in \u001b[0;36m<module>\u001b[0;34m()\u001b[0m\n\u001b[0;32m----> 1\u001b[0;31m \u001b[0mgc\u001b[0m\u001b[0;34m.\u001b[0m\u001b[0mscore\u001b[0m\u001b[0;34m(\u001b[0m\u001b[0mX_train\u001b[0m\u001b[0;34m,\u001b[0m \u001b[0my_train\u001b[0m\u001b[0;34m)\u001b[0m\u001b[0;34m\u001b[0m\u001b[0m\n\u001b[0m",
      "\u001b[0;32m/home/ubuntu/miniconda3/lib/python3.6/site-packages/sklearn/grid_search.py\u001b[0m in \u001b[0;36mscore\u001b[0;34m(self, X, y)\u001b[0m\n\u001b[1;32m    427\u001b[0m \u001b[0;34m\u001b[0m\u001b[0m\n\u001b[1;32m    428\u001b[0m         \"\"\"\n\u001b[0;32m--> 429\u001b[0;31m         \u001b[0;32mif\u001b[0m \u001b[0mself\u001b[0m\u001b[0;34m.\u001b[0m\u001b[0mscorer_\u001b[0m \u001b[0;32mis\u001b[0m \u001b[0;32mNone\u001b[0m\u001b[0;34m:\u001b[0m\u001b[0;34m\u001b[0m\u001b[0m\n\u001b[0m\u001b[1;32m    430\u001b[0m             raise ValueError(\"No score function explicitly defined, \"\n\u001b[1;32m    431\u001b[0m                              \u001b[0;34m\"and the estimator doesn't provide one %s\"\u001b[0m\u001b[0;34m\u001b[0m\u001b[0m\n",
      "\u001b[0;31mAttributeError\u001b[0m: 'GridSearchCV' object has no attribute 'scorer_'"
     ]
    }
   ],
   "source": [
    "gc.score(X_train, y_train)"
   ]
  },
  {
   "cell_type": "code",
   "execution_count": 61,
   "metadata": {},
   "outputs": [
    {
     "data": {
      "text/plain": [
       "0.7403265710044532"
      ]
     },
     "execution_count": 61,
     "metadata": {},
     "output_type": "execute_result"
    }
   ],
   "source": [
    "rfc.score(X_test, y_test)"
   ]
  },
  {
   "cell_type": "code",
   "execution_count": 77,
   "metadata": {},
   "outputs": [
    {
     "ename": "AttributeError",
     "evalue": "'GridSearchCV' object has no attribute 'best_estimator_'",
     "output_type": "error",
     "traceback": [
      "\u001b[0;31m---------------------------------------------------------------------------\u001b[0m",
      "\u001b[0;31mAttributeError\u001b[0m                            Traceback (most recent call last)",
      "\u001b[0;32m<ipython-input-77-a1838ab4c9f0>\u001b[0m in \u001b[0;36m<module>\u001b[0;34m()\u001b[0m\n\u001b[1;32m      1\u001b[0m \u001b[0my_true\u001b[0m \u001b[0;34m=\u001b[0m \u001b[0my_test\u001b[0m\u001b[0;34m\u001b[0m\u001b[0m\n\u001b[0;32m----> 2\u001b[0;31m \u001b[0my_pred\u001b[0m \u001b[0;34m=\u001b[0m \u001b[0mgc\u001b[0m\u001b[0;34m.\u001b[0m\u001b[0mpredict\u001b[0m\u001b[0;34m(\u001b[0m\u001b[0mX_test\u001b[0m\u001b[0;34m)\u001b[0m\u001b[0;34m\u001b[0m\u001b[0m\n\u001b[0m",
      "\u001b[0;32m/home/ubuntu/miniconda3/lib/python3.6/site-packages/sklearn/utils/metaestimators.py\u001b[0m in \u001b[0;36m<lambda>\u001b[0;34m(*args, **kwargs)\u001b[0m\n\u001b[1;32m     52\u001b[0m \u001b[0;34m\u001b[0m\u001b[0m\n\u001b[1;32m     53\u001b[0m         \u001b[0;31m# lambda, but not partial, allows help() to work with update_wrapper\u001b[0m\u001b[0;34m\u001b[0m\u001b[0;34m\u001b[0m\u001b[0m\n\u001b[0;32m---> 54\u001b[0;31m         \u001b[0mout\u001b[0m \u001b[0;34m=\u001b[0m \u001b[0;32mlambda\u001b[0m \u001b[0;34m*\u001b[0m\u001b[0margs\u001b[0m\u001b[0;34m,\u001b[0m \u001b[0;34m**\u001b[0m\u001b[0mkwargs\u001b[0m\u001b[0;34m:\u001b[0m \u001b[0mself\u001b[0m\u001b[0;34m.\u001b[0m\u001b[0mfn\u001b[0m\u001b[0;34m(\u001b[0m\u001b[0mobj\u001b[0m\u001b[0;34m,\u001b[0m \u001b[0;34m*\u001b[0m\u001b[0margs\u001b[0m\u001b[0;34m,\u001b[0m \u001b[0;34m**\u001b[0m\u001b[0mkwargs\u001b[0m\u001b[0;34m)\u001b[0m\u001b[0;34m\u001b[0m\u001b[0m\n\u001b[0m\u001b[1;32m     55\u001b[0m         \u001b[0;31m# update the docstring of the returned function\u001b[0m\u001b[0;34m\u001b[0m\u001b[0;34m\u001b[0m\u001b[0m\n\u001b[1;32m     56\u001b[0m         \u001b[0mupdate_wrapper\u001b[0m\u001b[0;34m(\u001b[0m\u001b[0mout\u001b[0m\u001b[0;34m,\u001b[0m \u001b[0mself\u001b[0m\u001b[0;34m.\u001b[0m\u001b[0mfn\u001b[0m\u001b[0;34m)\u001b[0m\u001b[0;34m\u001b[0m\u001b[0m\n",
      "\u001b[0;32m/home/ubuntu/miniconda3/lib/python3.6/site-packages/sklearn/grid_search.py\u001b[0m in \u001b[0;36mpredict\u001b[0;34m(self, X)\u001b[0m\n\u001b[1;32m    453\u001b[0m \u001b[0;34m\u001b[0m\u001b[0m\n\u001b[1;32m    454\u001b[0m         \"\"\"\n\u001b[0;32m--> 455\u001b[0;31m         \u001b[0;32mreturn\u001b[0m \u001b[0mself\u001b[0m\u001b[0;34m.\u001b[0m\u001b[0mbest_estimator_\u001b[0m\u001b[0;34m.\u001b[0m\u001b[0mpredict\u001b[0m\u001b[0;34m(\u001b[0m\u001b[0mX\u001b[0m\u001b[0;34m)\u001b[0m\u001b[0;34m\u001b[0m\u001b[0m\n\u001b[0m\u001b[1;32m    456\u001b[0m \u001b[0;34m\u001b[0m\u001b[0m\n\u001b[1;32m    457\u001b[0m     \u001b[0;34m@\u001b[0m\u001b[0mif_delegate_has_method\u001b[0m\u001b[0;34m(\u001b[0m\u001b[0mdelegate\u001b[0m\u001b[0;34m=\u001b[0m\u001b[0;34m(\u001b[0m\u001b[0;34m'best_estimator_'\u001b[0m\u001b[0;34m,\u001b[0m \u001b[0;34m'estimator'\u001b[0m\u001b[0;34m)\u001b[0m\u001b[0;34m)\u001b[0m\u001b[0;34m\u001b[0m\u001b[0m\n",
      "\u001b[0;31mAttributeError\u001b[0m: 'GridSearchCV' object has no attribute 'best_estimator_'"
     ]
    }
   ],
   "source": [
    "y_true = y_test\n",
    "y_pred = gc.predict(X_test)"
   ]
  },
  {
   "cell_type": "code",
   "execution_count": 64,
   "metadata": {},
   "outputs": [
    {
     "data": {
      "text/plain": [
       "0.5386784891881008"
      ]
     },
     "execution_count": 64,
     "metadata": {},
     "output_type": "execute_result"
    }
   ],
   "source": [
    "roc_auc_score(y_true, y_pred)"
   ]
  },
  {
   "cell_type": "code",
   "execution_count": 67,
   "metadata": {},
   "outputs": [
    {
     "name": "stdout",
     "output_type": "stream",
     "text": [
      "             precision    recall  f1-score   support\n",
      "\n",
      "          0       0.57      0.11      0.18     13455\n",
      "          1       0.75      0.97      0.85     37070\n",
      "\n",
      "avg / total       0.70      0.74      0.67     50525\n",
      "\n"
     ]
    }
   ],
   "source": [
    "print (classification_report(y_true, y_pred))"
   ]
  },
  {
   "cell_type": "code",
   "execution_count": null,
   "metadata": {
    "collapsed": true
   },
   "outputs": [],
   "source": []
  }
 ],
 "metadata": {
  "kernelspec": {
   "display_name": "Python 3",
   "language": "python",
   "name": "python3"
  },
  "language_info": {
   "codemirror_mode": {
    "name": "ipython",
    "version": 3
   },
   "file_extension": ".py",
   "mimetype": "text/x-python",
   "name": "python",
   "nbconvert_exporter": "python",
   "pygments_lexer": "ipython3",
   "version": "3.6.0"
  }
 },
 "nbformat": 4,
 "nbformat_minor": 1
}
