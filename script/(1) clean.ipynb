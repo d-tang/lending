{
 "cells": [
  {
   "cell_type": "code",
   "execution_count": 1,
   "metadata": {
    "collapsed": true
   },
   "outputs": [],
   "source": [
    "import pandas as pd\n",
    "import numpy as np\n",
    "import matplotlib.pyplot as plt\n",
    "from functools import partial\n",
    "%matplotlib inline"
   ]
  },
  {
   "cell_type": "code",
   "execution_count": 2,
   "metadata": {
    "collapsed": false
   },
   "outputs": [
    {
     "name": "stderr",
     "output_type": "stream",
     "text": [
      "C:\\Users\\Daniel\\Anaconda2\\lib\\site-packages\\ipykernel\\__main__.py:1: ParserWarning: Falling back to the 'python' engine because the 'c' engine does not support skipfooter; you can avoid this warning by specifying engine='python'.\n",
      "  if __name__ == '__main__':\n"
     ]
    }
   ],
   "source": [
    "df_full = pd.read_csv('../data/LoanStats2014.csv', skiprows=1, skipfooter=2)"
   ]
  },
  {
   "cell_type": "code",
   "execution_count": 3,
   "metadata": {
    "collapsed": true
   },
   "outputs": [],
   "source": [
    "df = df_full.copy()"
   ]
  },
  {
   "cell_type": "code",
   "execution_count": 4,
   "metadata": {
    "collapsed": false
   },
   "outputs": [
    {
     "name": "stdout",
     "output_type": "stream",
     "text": [
      "<class 'pandas.core.frame.DataFrame'>\n",
      "RangeIndex: 235629 entries, 0 to 235628\n",
      "Columns: 111 entries, id to total_il_high_credit_limit\n",
      "dtypes: float64(44), int64(43), object(24)\n",
      "memory usage: 199.5+ MB\n"
     ]
    }
   ],
   "source": [
    "df.info()"
   ]
  },
  {
   "cell_type": "code",
   "execution_count": 5,
   "metadata": {
    "collapsed": false
   },
   "outputs": [
    {
     "data": {
      "text/html": [
       "<div>\n",
       "<table border=\"1\" class=\"dataframe\">\n",
       "  <thead>\n",
       "    <tr style=\"text-align: right;\">\n",
       "      <th></th>\n",
       "      <th>id</th>\n",
       "      <th>member_id</th>\n",
       "      <th>loan_amnt</th>\n",
       "      <th>funded_amnt</th>\n",
       "      <th>funded_amnt_inv</th>\n",
       "      <th>term</th>\n",
       "      <th>int_rate</th>\n",
       "      <th>installment</th>\n",
       "      <th>grade</th>\n",
       "      <th>sub_grade</th>\n",
       "      <th>...</th>\n",
       "      <th>num_tl_90g_dpd_24m</th>\n",
       "      <th>num_tl_op_past_12m</th>\n",
       "      <th>pct_tl_nvr_dlq</th>\n",
       "      <th>percent_bc_gt_75</th>\n",
       "      <th>pub_rec_bankruptcies</th>\n",
       "      <th>tax_liens</th>\n",
       "      <th>tot_hi_cred_lim</th>\n",
       "      <th>total_bal_ex_mort</th>\n",
       "      <th>total_bc_limit</th>\n",
       "      <th>total_il_high_credit_limit</th>\n",
       "    </tr>\n",
       "  </thead>\n",
       "  <tbody>\n",
       "    <tr>\n",
       "      <th>0</th>\n",
       "      <td>36805548</td>\n",
       "      <td>39558264</td>\n",
       "      <td>10400</td>\n",
       "      <td>10400</td>\n",
       "      <td>10400</td>\n",
       "      <td>36 months</td>\n",
       "      <td>6.99%</td>\n",
       "      <td>321.08</td>\n",
       "      <td>A</td>\n",
       "      <td>A3</td>\n",
       "      <td>...</td>\n",
       "      <td>0</td>\n",
       "      <td>4</td>\n",
       "      <td>83.3</td>\n",
       "      <td>14.3</td>\n",
       "      <td>0</td>\n",
       "      <td>0</td>\n",
       "      <td>179407</td>\n",
       "      <td>15030</td>\n",
       "      <td>13000</td>\n",
       "      <td>11325</td>\n",
       "    </tr>\n",
       "    <tr>\n",
       "      <th>1</th>\n",
       "      <td>38098114</td>\n",
       "      <td>40860827</td>\n",
       "      <td>15000</td>\n",
       "      <td>15000</td>\n",
       "      <td>15000</td>\n",
       "      <td>60 months</td>\n",
       "      <td>12.39%</td>\n",
       "      <td>336.64</td>\n",
       "      <td>C</td>\n",
       "      <td>C1</td>\n",
       "      <td>...</td>\n",
       "      <td>0</td>\n",
       "      <td>4</td>\n",
       "      <td>100.0</td>\n",
       "      <td>0.0</td>\n",
       "      <td>0</td>\n",
       "      <td>0</td>\n",
       "      <td>196500</td>\n",
       "      <td>149140</td>\n",
       "      <td>10000</td>\n",
       "      <td>12000</td>\n",
       "    </tr>\n",
       "    <tr>\n",
       "      <th>2</th>\n",
       "      <td>37822187</td>\n",
       "      <td>40585251</td>\n",
       "      <td>9600</td>\n",
       "      <td>9600</td>\n",
       "      <td>9600</td>\n",
       "      <td>36 months</td>\n",
       "      <td>13.66%</td>\n",
       "      <td>326.53</td>\n",
       "      <td>C</td>\n",
       "      <td>C3</td>\n",
       "      <td>...</td>\n",
       "      <td>0</td>\n",
       "      <td>3</td>\n",
       "      <td>100.0</td>\n",
       "      <td>60.0</td>\n",
       "      <td>0</td>\n",
       "      <td>0</td>\n",
       "      <td>52490</td>\n",
       "      <td>38566</td>\n",
       "      <td>21100</td>\n",
       "      <td>24890</td>\n",
       "    </tr>\n",
       "    <tr>\n",
       "      <th>3</th>\n",
       "      <td>37662224</td>\n",
       "      <td>40425321</td>\n",
       "      <td>7650</td>\n",
       "      <td>7650</td>\n",
       "      <td>7650</td>\n",
       "      <td>36 months</td>\n",
       "      <td>13.66%</td>\n",
       "      <td>260.20</td>\n",
       "      <td>C</td>\n",
       "      <td>C3</td>\n",
       "      <td>...</td>\n",
       "      <td>0</td>\n",
       "      <td>2</td>\n",
       "      <td>100.0</td>\n",
       "      <td>100.0</td>\n",
       "      <td>0</td>\n",
       "      <td>0</td>\n",
       "      <td>82331</td>\n",
       "      <td>64426</td>\n",
       "      <td>4900</td>\n",
       "      <td>64031</td>\n",
       "    </tr>\n",
       "    <tr>\n",
       "      <th>4</th>\n",
       "      <td>37612354</td>\n",
       "      <td>40375473</td>\n",
       "      <td>12800</td>\n",
       "      <td>12800</td>\n",
       "      <td>12800</td>\n",
       "      <td>60 months</td>\n",
       "      <td>17.14%</td>\n",
       "      <td>319.08</td>\n",
       "      <td>D</td>\n",
       "      <td>D4</td>\n",
       "      <td>...</td>\n",
       "      <td>0</td>\n",
       "      <td>0</td>\n",
       "      <td>76.9</td>\n",
       "      <td>100.0</td>\n",
       "      <td>0</td>\n",
       "      <td>0</td>\n",
       "      <td>368700</td>\n",
       "      <td>18007</td>\n",
       "      <td>4400</td>\n",
       "      <td>18000</td>\n",
       "    </tr>\n",
       "  </tbody>\n",
       "</table>\n",
       "<p>5 rows × 111 columns</p>\n",
       "</div>"
      ],
      "text/plain": [
       "         id  member_id  loan_amnt  funded_amnt  funded_amnt_inv        term  \\\n",
       "0  36805548   39558264      10400        10400            10400   36 months   \n",
       "1  38098114   40860827      15000        15000            15000   60 months   \n",
       "2  37822187   40585251       9600         9600             9600   36 months   \n",
       "3  37662224   40425321       7650         7650             7650   36 months   \n",
       "4  37612354   40375473      12800        12800            12800   60 months   \n",
       "\n",
       "  int_rate  installment grade sub_grade            ...              \\\n",
       "0    6.99%       321.08     A        A3            ...               \n",
       "1   12.39%       336.64     C        C1            ...               \n",
       "2   13.66%       326.53     C        C3            ...               \n",
       "3   13.66%       260.20     C        C3            ...               \n",
       "4   17.14%       319.08     D        D4            ...               \n",
       "\n",
       "  num_tl_90g_dpd_24m num_tl_op_past_12m pct_tl_nvr_dlq  percent_bc_gt_75  \\\n",
       "0                  0                  4           83.3              14.3   \n",
       "1                  0                  4          100.0               0.0   \n",
       "2                  0                  3          100.0              60.0   \n",
       "3                  0                  2          100.0             100.0   \n",
       "4                  0                  0           76.9             100.0   \n",
       "\n",
       "  pub_rec_bankruptcies tax_liens tot_hi_cred_lim total_bal_ex_mort  \\\n",
       "0                    0         0          179407             15030   \n",
       "1                    0         0          196500            149140   \n",
       "2                    0         0           52490             38566   \n",
       "3                    0         0           82331             64426   \n",
       "4                    0         0          368700             18007   \n",
       "\n",
       "  total_bc_limit total_il_high_credit_limit  \n",
       "0          13000                      11325  \n",
       "1          10000                      12000  \n",
       "2          21100                      24890  \n",
       "3           4900                      64031  \n",
       "4           4400                      18000  \n",
       "\n",
       "[5 rows x 111 columns]"
      ]
     },
     "execution_count": 5,
     "metadata": {},
     "output_type": "execute_result"
    }
   ],
   "source": [
    "df_full.head()"
   ]
  },
  {
   "cell_type": "markdown",
   "metadata": {},
   "source": [
    "### Define targets"
   ]
  },
  {
   "cell_type": "markdown",
   "metadata": {},
   "source": [
    "</br> Initially, try a binary target... <br />1 if total payment received is >= 1.05% of amount funded<br />0 if loan status is 'charged off', 'default', '31-120 days late', or is fully paid, but not >= 1.05% of funded"
   ]
  },
  {
   "cell_type": "code",
   "execution_count": 6,
   "metadata": {
    "collapsed": true
   },
   "outputs": [],
   "source": [
    "def final_status(status, funded_amnt, total_pymnt):\n",
    "    #define list to drop\n",
    "    drop_status = ['In Grace Period', 'Late (16-30 days)']\n",
    "    neg_status = ['Late (31-120 days)', 'Charged Off', 'Default']\n",
    "    \n",
    "    if status in drop_status:\n",
    "        return 99\n",
    "    elif status in neg_status:\n",
    "        return 0\n",
    "    elif status == 'Fully Paid':\n",
    "        if total_pymnt>funded_amnt*1.05:\n",
    "            return 1\n",
    "        else:\n",
    "            return 0\n",
    "    elif status == 'Current':\n",
    "        if total_pymnt>funded_amnt*1.05:\n",
    "            return 1\n",
    "        else:\n",
    "            return 99     "
   ]
  },
  {
   "cell_type": "code",
   "execution_count": 7,
   "metadata": {
    "collapsed": true
   },
   "outputs": [],
   "source": [
    "df['target'] = df.apply(lambda x: final_status(x['loan_status'], x['funded_amnt_inv'], x['total_pymnt_inv']), axis=1)"
   ]
  },
  {
   "cell_type": "code",
   "execution_count": 8,
   "metadata": {
    "collapsed": false
   },
   "outputs": [
    {
     "data": {
      "text/plain": [
       "99    100850\n",
       "1      93301\n",
       "0      41478\n",
       "Name: target, dtype: int64"
      ]
     },
     "execution_count": 8,
     "metadata": {},
     "output_type": "execute_result"
    }
   ],
   "source": [
    "df['target'].value_counts()"
   ]
  },
  {
   "cell_type": "code",
   "execution_count": 9,
   "metadata": {
    "collapsed": true
   },
   "outputs": [],
   "source": [
    "df.drop(df[df['target']==99].index, inplace=True)"
   ]
  },
  {
   "cell_type": "code",
   "execution_count": 10,
   "metadata": {
    "collapsed": true
   },
   "outputs": [],
   "source": [
    "#df.reset_index(inplace=True, drop=True)"
   ]
  },
  {
   "cell_type": "code",
   "execution_count": 11,
   "metadata": {
    "collapsed": true
   },
   "outputs": [],
   "source": [
    "#df.set_index(['id'], inplace=True)"
   ]
  },
  {
   "cell_type": "code",
   "execution_count": 12,
   "metadata": {
    "collapsed": false
   },
   "outputs": [
    {
     "data": {
      "text/html": [
       "<div>\n",
       "<table border=\"1\" class=\"dataframe\">\n",
       "  <thead>\n",
       "    <tr style=\"text-align: right;\">\n",
       "      <th></th>\n",
       "      <th>id</th>\n",
       "      <th>member_id</th>\n",
       "      <th>loan_amnt</th>\n",
       "      <th>funded_amnt</th>\n",
       "      <th>funded_amnt_inv</th>\n",
       "      <th>term</th>\n",
       "      <th>int_rate</th>\n",
       "      <th>installment</th>\n",
       "      <th>grade</th>\n",
       "      <th>sub_grade</th>\n",
       "      <th>...</th>\n",
       "      <th>num_tl_op_past_12m</th>\n",
       "      <th>pct_tl_nvr_dlq</th>\n",
       "      <th>percent_bc_gt_75</th>\n",
       "      <th>pub_rec_bankruptcies</th>\n",
       "      <th>tax_liens</th>\n",
       "      <th>tot_hi_cred_lim</th>\n",
       "      <th>total_bal_ex_mort</th>\n",
       "      <th>total_bc_limit</th>\n",
       "      <th>total_il_high_credit_limit</th>\n",
       "      <th>target</th>\n",
       "    </tr>\n",
       "  </thead>\n",
       "  <tbody>\n",
       "    <tr>\n",
       "      <th>0</th>\n",
       "      <td>36805548</td>\n",
       "      <td>39558264</td>\n",
       "      <td>10400</td>\n",
       "      <td>10400</td>\n",
       "      <td>10400</td>\n",
       "      <td>36 months</td>\n",
       "      <td>6.99%</td>\n",
       "      <td>321.08</td>\n",
       "      <td>A</td>\n",
       "      <td>A3</td>\n",
       "      <td>...</td>\n",
       "      <td>4</td>\n",
       "      <td>83.3</td>\n",
       "      <td>14.3</td>\n",
       "      <td>0</td>\n",
       "      <td>0</td>\n",
       "      <td>179407</td>\n",
       "      <td>15030</td>\n",
       "      <td>13000</td>\n",
       "      <td>11325</td>\n",
       "      <td>0</td>\n",
       "    </tr>\n",
       "    <tr>\n",
       "      <th>1</th>\n",
       "      <td>38098114</td>\n",
       "      <td>40860827</td>\n",
       "      <td>15000</td>\n",
       "      <td>15000</td>\n",
       "      <td>15000</td>\n",
       "      <td>60 months</td>\n",
       "      <td>12.39%</td>\n",
       "      <td>336.64</td>\n",
       "      <td>C</td>\n",
       "      <td>C1</td>\n",
       "      <td>...</td>\n",
       "      <td>4</td>\n",
       "      <td>100.0</td>\n",
       "      <td>0.0</td>\n",
       "      <td>0</td>\n",
       "      <td>0</td>\n",
       "      <td>196500</td>\n",
       "      <td>149140</td>\n",
       "      <td>10000</td>\n",
       "      <td>12000</td>\n",
       "      <td>1</td>\n",
       "    </tr>\n",
       "    <tr>\n",
       "      <th>2</th>\n",
       "      <td>37822187</td>\n",
       "      <td>40585251</td>\n",
       "      <td>9600</td>\n",
       "      <td>9600</td>\n",
       "      <td>9600</td>\n",
       "      <td>36 months</td>\n",
       "      <td>13.66%</td>\n",
       "      <td>326.53</td>\n",
       "      <td>C</td>\n",
       "      <td>C3</td>\n",
       "      <td>...</td>\n",
       "      <td>3</td>\n",
       "      <td>100.0</td>\n",
       "      <td>60.0</td>\n",
       "      <td>0</td>\n",
       "      <td>0</td>\n",
       "      <td>52490</td>\n",
       "      <td>38566</td>\n",
       "      <td>21100</td>\n",
       "      <td>24890</td>\n",
       "      <td>0</td>\n",
       "    </tr>\n",
       "    <tr>\n",
       "      <th>3</th>\n",
       "      <td>37662224</td>\n",
       "      <td>40425321</td>\n",
       "      <td>7650</td>\n",
       "      <td>7650</td>\n",
       "      <td>7650</td>\n",
       "      <td>36 months</td>\n",
       "      <td>13.66%</td>\n",
       "      <td>260.20</td>\n",
       "      <td>C</td>\n",
       "      <td>C3</td>\n",
       "      <td>...</td>\n",
       "      <td>2</td>\n",
       "      <td>100.0</td>\n",
       "      <td>100.0</td>\n",
       "      <td>0</td>\n",
       "      <td>0</td>\n",
       "      <td>82331</td>\n",
       "      <td>64426</td>\n",
       "      <td>4900</td>\n",
       "      <td>64031</td>\n",
       "      <td>0</td>\n",
       "    </tr>\n",
       "    <tr>\n",
       "      <th>5</th>\n",
       "      <td>37842129</td>\n",
       "      <td>40605224</td>\n",
       "      <td>21425</td>\n",
       "      <td>21425</td>\n",
       "      <td>21425</td>\n",
       "      <td>60 months</td>\n",
       "      <td>15.59%</td>\n",
       "      <td>516.36</td>\n",
       "      <td>D</td>\n",
       "      <td>D1</td>\n",
       "      <td>...</td>\n",
       "      <td>2</td>\n",
       "      <td>91.4</td>\n",
       "      <td>100.0</td>\n",
       "      <td>0</td>\n",
       "      <td>0</td>\n",
       "      <td>57073</td>\n",
       "      <td>42315</td>\n",
       "      <td>15000</td>\n",
       "      <td>35573</td>\n",
       "      <td>1</td>\n",
       "    </tr>\n",
       "  </tbody>\n",
       "</table>\n",
       "<p>5 rows × 112 columns</p>\n",
       "</div>"
      ],
      "text/plain": [
       "         id  member_id  loan_amnt  funded_amnt  funded_amnt_inv        term  \\\n",
       "0  36805548   39558264      10400        10400            10400   36 months   \n",
       "1  38098114   40860827      15000        15000            15000   60 months   \n",
       "2  37822187   40585251       9600         9600             9600   36 months   \n",
       "3  37662224   40425321       7650         7650             7650   36 months   \n",
       "5  37842129   40605224      21425        21425            21425   60 months   \n",
       "\n",
       "  int_rate  installment grade sub_grade  ...   num_tl_op_past_12m  \\\n",
       "0    6.99%       321.08     A        A3  ...                    4   \n",
       "1   12.39%       336.64     C        C1  ...                    4   \n",
       "2   13.66%       326.53     C        C3  ...                    3   \n",
       "3   13.66%       260.20     C        C3  ...                    2   \n",
       "5   15.59%       516.36     D        D1  ...                    2   \n",
       "\n",
       "  pct_tl_nvr_dlq percent_bc_gt_75  pub_rec_bankruptcies tax_liens  \\\n",
       "0           83.3             14.3                     0         0   \n",
       "1          100.0              0.0                     0         0   \n",
       "2          100.0             60.0                     0         0   \n",
       "3          100.0            100.0                     0         0   \n",
       "5           91.4            100.0                     0         0   \n",
       "\n",
       "  tot_hi_cred_lim total_bal_ex_mort total_bc_limit total_il_high_credit_limit  \\\n",
       "0          179407             15030          13000                      11325   \n",
       "1          196500            149140          10000                      12000   \n",
       "2           52490             38566          21100                      24890   \n",
       "3           82331             64426           4900                      64031   \n",
       "5           57073             42315          15000                      35573   \n",
       "\n",
       "  target  \n",
       "0      0  \n",
       "1      1  \n",
       "2      0  \n",
       "3      0  \n",
       "5      1  \n",
       "\n",
       "[5 rows x 112 columns]"
      ]
     },
     "execution_count": 12,
     "metadata": {},
     "output_type": "execute_result"
    }
   ],
   "source": [
    "df.head()"
   ]
  },
  {
   "cell_type": "code",
   "execution_count": 13,
   "metadata": {
    "collapsed": false
   },
   "outputs": [
    {
     "data": {
      "text/plain": [
       "count    1.347790e+05\n",
       "mean     2.006108e+07\n",
       "std      8.271381e+06\n",
       "min      5.716700e+04\n",
       "25%      1.270694e+07\n",
       "50%      1.788481e+07\n",
       "75%      2.704506e+07\n",
       "max      3.809811e+07\n",
       "Name: id, dtype: float64"
      ]
     },
     "execution_count": 13,
     "metadata": {},
     "output_type": "execute_result"
    }
   ],
   "source": [
    "df['id'].describe()"
   ]
  },
  {
   "cell_type": "markdown",
   "metadata": {},
   "source": [
    "## Clean Data"
   ]
  },
  {
   "cell_type": "code",
   "execution_count": 14,
   "metadata": {
    "collapsed": true
   },
   "outputs": [],
   "source": [
    "n_cols = df.shape[1]"
   ]
  },
  {
   "cell_type": "code",
   "execution_count": 14,
   "metadata": {
    "collapsed": true
   },
   "outputs": [],
   "source": [
    "drop_cols = [\n",
    "        'url'\n",
    "        , 'application_type'\n",
    "        , 'policy_code'\n",
    "        , 'id'\n",
    "        , 'member_id'\n",
    "    ]"
   ]
  },
  {
   "cell_type": "code",
   "execution_count": 15,
   "metadata": {
    "collapsed": true
   },
   "outputs": [],
   "source": [
    "df.drop(drop_cols, axis=1, inplace=True)"
   ]
  },
  {
   "cell_type": "code",
   "execution_count": 16,
   "metadata": {
    "collapsed": true
   },
   "outputs": [],
   "source": [
    "df.dropna(how='all', axis=1, inplace=True)"
   ]
  },
  {
   "cell_type": "markdown",
   "metadata": {},
   "source": [
    "### Choose only columns we will have information for when loan originates"
   ]
  },
  {
   "cell_type": "code",
   "execution_count": 17,
   "metadata": {
    "collapsed": false
   },
   "outputs": [
    {
     "name": "stdout",
     "output_type": "stream",
     "text": [
      ", 'loan_amnt'\n",
      ", 'funded_amnt'\n",
      ", 'funded_amnt_inv'\n",
      ", 'term'\n",
      ", 'int_rate'\n",
      ", 'installment'\n",
      ", 'grade'\n",
      ", 'sub_grade'\n",
      ", 'emp_title'\n",
      ", 'emp_length'\n",
      ", 'home_ownership'\n",
      ", 'annual_inc'\n",
      ", 'verification_status'\n",
      ", 'issue_d'\n",
      ", 'loan_status'\n",
      ", 'pymnt_plan'\n",
      ", 'desc'\n",
      ", 'purpose'\n",
      ", 'title'\n",
      ", 'zip_code'\n",
      ", 'addr_state'\n",
      ", 'dti'\n",
      ", 'delinq_2yrs'\n",
      ", 'earliest_cr_line'\n",
      ", 'inq_last_6mths'\n",
      ", 'mths_since_last_delinq'\n",
      ", 'mths_since_last_record'\n",
      ", 'open_acc'\n",
      ", 'pub_rec'\n",
      ", 'revol_bal'\n",
      ", 'revol_util'\n",
      ", 'total_acc'\n",
      ", 'initial_list_status'\n",
      ", 'out_prncp'\n",
      ", 'out_prncp_inv'\n",
      ", 'total_pymnt'\n",
      ", 'total_pymnt_inv'\n",
      ", 'total_rec_prncp'\n",
      ", 'total_rec_int'\n",
      ", 'total_rec_late_fee'\n",
      ", 'recoveries'\n",
      ", 'collection_recovery_fee'\n",
      ", 'last_pymnt_d'\n",
      ", 'last_pymnt_amnt'\n",
      ", 'next_pymnt_d'\n",
      ", 'last_credit_pull_d'\n",
      ", 'collections_12_mths_ex_med'\n",
      ", 'mths_since_last_major_derog'\n",
      ", 'acc_now_delinq'\n",
      ", 'tot_coll_amt'\n",
      ", 'tot_cur_bal'\n",
      ", 'total_rev_hi_lim'\n",
      ", 'acc_open_past_24mths'\n",
      ", 'avg_cur_bal'\n",
      ", 'bc_open_to_buy'\n",
      ", 'bc_util'\n",
      ", 'chargeoff_within_12_mths'\n",
      ", 'delinq_amnt'\n",
      ", 'mo_sin_old_il_acct'\n",
      ", 'mo_sin_old_rev_tl_op'\n",
      ", 'mo_sin_rcnt_rev_tl_op'\n",
      ", 'mo_sin_rcnt_tl'\n",
      ", 'mort_acc'\n",
      ", 'mths_since_recent_bc'\n",
      ", 'mths_since_recent_bc_dlq'\n",
      ", 'mths_since_recent_inq'\n",
      ", 'mths_since_recent_revol_delinq'\n",
      ", 'num_accts_ever_120_pd'\n",
      ", 'num_actv_bc_tl'\n",
      ", 'num_actv_rev_tl'\n",
      ", 'num_bc_sats'\n",
      ", 'num_bc_tl'\n",
      ", 'num_il_tl'\n",
      ", 'num_op_rev_tl'\n",
      ", 'num_rev_accts'\n",
      ", 'num_rev_tl_bal_gt_0'\n",
      ", 'num_sats'\n",
      ", 'num_tl_120dpd_2m'\n",
      ", 'num_tl_30dpd'\n",
      ", 'num_tl_90g_dpd_24m'\n",
      ", 'num_tl_op_past_12m'\n",
      ", 'pct_tl_nvr_dlq'\n",
      ", 'percent_bc_gt_75'\n",
      ", 'pub_rec_bankruptcies'\n",
      ", 'tax_liens'\n",
      ", 'tot_hi_cred_lim'\n",
      ", 'total_bal_ex_mort'\n",
      ", 'total_bc_limit'\n",
      ", 'total_il_high_credit_limit'\n",
      ", 'target'\n"
     ]
    }
   ],
   "source": [
    "for i in df.columns:\n",
    "    print (\", '{}'\".format(i))"
   ]
  },
  {
   "cell_type": "code",
   "execution_count": 18,
   "metadata": {
    "collapsed": true
   },
   "outputs": [],
   "source": [
    "drop_cols = [\n",
    "            'funded_amnt'\n",
    "            , 'funded_amnt_inv'\n",
    "            , 'emp_title'\n",
    "            , 'issue_d'\n",
    "            , 'loan_status'\n",
    "            , 'pymnt_plan'\n",
    "            , 'title'\n",
    "            , 'zip_code'\n",
    "            , 'addr_state'\n",
    "            , 'initial_list_status'\n",
    "            , 'out_prncp'\n",
    "            , 'out_prncp_inv'\n",
    "            , 'total_pymnt'\n",
    "            , 'total_pymnt_inv'\n",
    "            , 'total_rec_prncp'\n",
    "            , 'total_rec_int'\n",
    "            , 'total_rec_late_fee'\n",
    "            , 'recoveries'\n",
    "            , 'collection_recovery_fee'\n",
    "            , 'last_pymnt_d'\n",
    "            , 'last_pymnt_amnt'\n",
    "            , 'next_pymnt_d'\n",
    "            , 'last_credit_pull_d'\n",
    "            , 'tot_coll_amt'\n",
    "            , 'tot_cur_bal'\n",
    "            ]"
   ]
  },
  {
   "cell_type": "code",
   "execution_count": 19,
   "metadata": {
    "collapsed": true
   },
   "outputs": [],
   "source": [
    "df.drop(drop_cols, axis=1, inplace=True)"
   ]
  },
  {
   "cell_type": "markdown",
   "metadata": {},
   "source": [
    "### Turn into correct data type"
   ]
  },
  {
   "cell_type": "code",
   "execution_count": 20,
   "metadata": {
    "collapsed": false,
    "scrolled": true
   },
   "outputs": [
    {
     "data": {
      "text/html": [
       "<div>\n",
       "<table border=\"1\" class=\"dataframe\">\n",
       "  <thead>\n",
       "    <tr style=\"text-align: right;\">\n",
       "      <th></th>\n",
       "      <th>0</th>\n",
       "      <th>1</th>\n",
       "      <th>2</th>\n",
       "      <th>3</th>\n",
       "      <th>5</th>\n",
       "      <th>6</th>\n",
       "      <th>7</th>\n",
       "      <th>8</th>\n",
       "      <th>9</th>\n",
       "      <th>10</th>\n",
       "      <th>...</th>\n",
       "      <th>235616</th>\n",
       "      <th>235618</th>\n",
       "      <th>235619</th>\n",
       "      <th>235620</th>\n",
       "      <th>235621</th>\n",
       "      <th>235622</th>\n",
       "      <th>235623</th>\n",
       "      <th>235625</th>\n",
       "      <th>235626</th>\n",
       "      <th>235628</th>\n",
       "    </tr>\n",
       "  </thead>\n",
       "  <tbody>\n",
       "    <tr>\n",
       "      <th>term</th>\n",
       "      <td>36 months</td>\n",
       "      <td>60 months</td>\n",
       "      <td>36 months</td>\n",
       "      <td>36 months</td>\n",
       "      <td>60 months</td>\n",
       "      <td>36 months</td>\n",
       "      <td>36 months</td>\n",
       "      <td>36 months</td>\n",
       "      <td>36 months</td>\n",
       "      <td>36 months</td>\n",
       "      <td>...</td>\n",
       "      <td>36 months</td>\n",
       "      <td>36 months</td>\n",
       "      <td>36 months</td>\n",
       "      <td>60 months</td>\n",
       "      <td>36 months</td>\n",
       "      <td>36 months</td>\n",
       "      <td>36 months</td>\n",
       "      <td>60 months</td>\n",
       "      <td>36 months</td>\n",
       "      <td>36 months</td>\n",
       "    </tr>\n",
       "    <tr>\n",
       "      <th>int_rate</th>\n",
       "      <td>6.99%</td>\n",
       "      <td>12.39%</td>\n",
       "      <td>13.66%</td>\n",
       "      <td>13.66%</td>\n",
       "      <td>15.59%</td>\n",
       "      <td>13.66%</td>\n",
       "      <td>14.31%</td>\n",
       "      <td>11.99%</td>\n",
       "      <td>17.86%</td>\n",
       "      <td>11.44%</td>\n",
       "      <td>...</td>\n",
       "      <td>10.99%</td>\n",
       "      <td>11.99%</td>\n",
       "      <td>15.61%</td>\n",
       "      <td>18.25%</td>\n",
       "      <td>7.90%</td>\n",
       "      <td>18.25%</td>\n",
       "      <td>13.53%</td>\n",
       "      <td>19.97%</td>\n",
       "      <td>7.90%</td>\n",
       "      <td>19.20%</td>\n",
       "    </tr>\n",
       "    <tr>\n",
       "      <th>grade</th>\n",
       "      <td>A</td>\n",
       "      <td>C</td>\n",
       "      <td>C</td>\n",
       "      <td>C</td>\n",
       "      <td>D</td>\n",
       "      <td>C</td>\n",
       "      <td>C</td>\n",
       "      <td>B</td>\n",
       "      <td>D</td>\n",
       "      <td>B</td>\n",
       "      <td>...</td>\n",
       "      <td>B</td>\n",
       "      <td>B</td>\n",
       "      <td>C</td>\n",
       "      <td>D</td>\n",
       "      <td>A</td>\n",
       "      <td>D</td>\n",
       "      <td>B</td>\n",
       "      <td>D</td>\n",
       "      <td>A</td>\n",
       "      <td>D</td>\n",
       "    </tr>\n",
       "    <tr>\n",
       "      <th>sub_grade</th>\n",
       "      <td>A3</td>\n",
       "      <td>C1</td>\n",
       "      <td>C3</td>\n",
       "      <td>C3</td>\n",
       "      <td>D1</td>\n",
       "      <td>C3</td>\n",
       "      <td>C4</td>\n",
       "      <td>B5</td>\n",
       "      <td>D5</td>\n",
       "      <td>B4</td>\n",
       "      <td>...</td>\n",
       "      <td>B2</td>\n",
       "      <td>B3</td>\n",
       "      <td>C4</td>\n",
       "      <td>D3</td>\n",
       "      <td>A4</td>\n",
       "      <td>D3</td>\n",
       "      <td>B5</td>\n",
       "      <td>D5</td>\n",
       "      <td>A4</td>\n",
       "      <td>D3</td>\n",
       "    </tr>\n",
       "    <tr>\n",
       "      <th>emp_length</th>\n",
       "      <td>8 years</td>\n",
       "      <td>10+ years</td>\n",
       "      <td>10+ years</td>\n",
       "      <td>&lt; 1 year</td>\n",
       "      <td>6 years</td>\n",
       "      <td>10+ years</td>\n",
       "      <td>10+ years</td>\n",
       "      <td>&lt; 1 year</td>\n",
       "      <td>10+ years</td>\n",
       "      <td>2 years</td>\n",
       "      <td>...</td>\n",
       "      <td>n/a</td>\n",
       "      <td>8 years</td>\n",
       "      <td>7 years</td>\n",
       "      <td>5 years</td>\n",
       "      <td>3 years</td>\n",
       "      <td>10+ years</td>\n",
       "      <td>4 years</td>\n",
       "      <td>10+ years</td>\n",
       "      <td>3 years</td>\n",
       "      <td>10+ years</td>\n",
       "    </tr>\n",
       "    <tr>\n",
       "      <th>home_ownership</th>\n",
       "      <td>MORTGAGE</td>\n",
       "      <td>RENT</td>\n",
       "      <td>RENT</td>\n",
       "      <td>RENT</td>\n",
       "      <td>RENT</td>\n",
       "      <td>MORTGAGE</td>\n",
       "      <td>RENT</td>\n",
       "      <td>MORTGAGE</td>\n",
       "      <td>RENT</td>\n",
       "      <td>RENT</td>\n",
       "      <td>...</td>\n",
       "      <td>MORTGAGE</td>\n",
       "      <td>RENT</td>\n",
       "      <td>RENT</td>\n",
       "      <td>MORTGAGE</td>\n",
       "      <td>RENT</td>\n",
       "      <td>RENT</td>\n",
       "      <td>RENT</td>\n",
       "      <td>MORTGAGE</td>\n",
       "      <td>OWN</td>\n",
       "      <td>MORTGAGE</td>\n",
       "    </tr>\n",
       "    <tr>\n",
       "      <th>verification_status</th>\n",
       "      <td>Not Verified</td>\n",
       "      <td>Source Verified</td>\n",
       "      <td>Source Verified</td>\n",
       "      <td>Source Verified</td>\n",
       "      <td>Source Verified</td>\n",
       "      <td>Verified</td>\n",
       "      <td>Source Verified</td>\n",
       "      <td>Source Verified</td>\n",
       "      <td>Source Verified</td>\n",
       "      <td>Not Verified</td>\n",
       "      <td>...</td>\n",
       "      <td>Verified</td>\n",
       "      <td>Source Verified</td>\n",
       "      <td>Verified</td>\n",
       "      <td>Verified</td>\n",
       "      <td>Verified</td>\n",
       "      <td>Source Verified</td>\n",
       "      <td>Source Verified</td>\n",
       "      <td>Verified</td>\n",
       "      <td>Verified</td>\n",
       "      <td>Verified</td>\n",
       "    </tr>\n",
       "    <tr>\n",
       "      <th>desc</th>\n",
       "      <td>NaN</td>\n",
       "      <td>NaN</td>\n",
       "      <td>NaN</td>\n",
       "      <td>NaN</td>\n",
       "      <td>NaN</td>\n",
       "      <td>NaN</td>\n",
       "      <td>NaN</td>\n",
       "      <td>NaN</td>\n",
       "      <td>NaN</td>\n",
       "      <td>NaN</td>\n",
       "      <td>...</td>\n",
       "      <td>Borrower added on 12/10/13 &gt; all my loans in...</td>\n",
       "      <td>Borrower added on 12/10/13 &gt; pay off higher ...</td>\n",
       "      <td>NaN</td>\n",
       "      <td>NaN</td>\n",
       "      <td>Borrower added on 12/09/13 &gt; consolidate all...</td>\n",
       "      <td>NaN</td>\n",
       "      <td>NaN</td>\n",
       "      <td>NaN</td>\n",
       "      <td>NaN</td>\n",
       "      <td>Borrower added on 12/04/13 &gt; I will like a l...</td>\n",
       "    </tr>\n",
       "    <tr>\n",
       "      <th>purpose</th>\n",
       "      <td>credit_card</td>\n",
       "      <td>debt_consolidation</td>\n",
       "      <td>debt_consolidation</td>\n",
       "      <td>debt_consolidation</td>\n",
       "      <td>credit_card</td>\n",
       "      <td>debt_consolidation</td>\n",
       "      <td>credit_card</td>\n",
       "      <td>home_improvement</td>\n",
       "      <td>house</td>\n",
       "      <td>debt_consolidation</td>\n",
       "      <td>...</td>\n",
       "      <td>credit_card</td>\n",
       "      <td>credit_card</td>\n",
       "      <td>credit_card</td>\n",
       "      <td>medical</td>\n",
       "      <td>debt_consolidation</td>\n",
       "      <td>vacation</td>\n",
       "      <td>credit_card</td>\n",
       "      <td>debt_consolidation</td>\n",
       "      <td>credit_card</td>\n",
       "      <td>other</td>\n",
       "    </tr>\n",
       "    <tr>\n",
       "      <th>earliest_cr_line</th>\n",
       "      <td>Sep-1989</td>\n",
       "      <td>Aug-1994</td>\n",
       "      <td>Nov-1992</td>\n",
       "      <td>Aug-2002</td>\n",
       "      <td>Aug-2003</td>\n",
       "      <td>Jan-2001</td>\n",
       "      <td>Oct-1998</td>\n",
       "      <td>Oct-2001</td>\n",
       "      <td>Jan-1999</td>\n",
       "      <td>May-2009</td>\n",
       "      <td>...</td>\n",
       "      <td>May-1990</td>\n",
       "      <td>Aug-1983</td>\n",
       "      <td>Nov-1993</td>\n",
       "      <td>Nov-1994</td>\n",
       "      <td>Jul-1998</td>\n",
       "      <td>Jun-2002</td>\n",
       "      <td>Aug-1999</td>\n",
       "      <td>Jun-1997</td>\n",
       "      <td>Feb-2003</td>\n",
       "      <td>Feb-2000</td>\n",
       "    </tr>\n",
       "    <tr>\n",
       "      <th>revol_util</th>\n",
       "      <td>31.6%</td>\n",
       "      <td>29%</td>\n",
       "      <td>59.4%</td>\n",
       "      <td>91.9%</td>\n",
       "      <td>76.2%</td>\n",
       "      <td>46.4%</td>\n",
       "      <td>82.2%</td>\n",
       "      <td>94.3%</td>\n",
       "      <td>33.1%</td>\n",
       "      <td>20.2%</td>\n",
       "      <td>...</td>\n",
       "      <td>19.5%</td>\n",
       "      <td>55.9%</td>\n",
       "      <td>57.4%</td>\n",
       "      <td>10.7%</td>\n",
       "      <td>16.3%</td>\n",
       "      <td>28.8%</td>\n",
       "      <td>96%</td>\n",
       "      <td>46.3%</td>\n",
       "      <td>21.5%</td>\n",
       "      <td>70.8%</td>\n",
       "    </tr>\n",
       "  </tbody>\n",
       "</table>\n",
       "<p>11 rows × 134779 columns</p>\n",
       "</div>"
      ],
      "text/plain": [
       "                           0                   1                   2       \\\n",
       "term                    36 months           60 months           36 months   \n",
       "int_rate                    6.99%              12.39%              13.66%   \n",
       "grade                           A                   C                   C   \n",
       "sub_grade                      A3                  C1                  C3   \n",
       "emp_length                8 years           10+ years           10+ years   \n",
       "home_ownership           MORTGAGE                RENT                RENT   \n",
       "verification_status  Not Verified     Source Verified     Source Verified   \n",
       "desc                          NaN                 NaN                 NaN   \n",
       "purpose               credit_card  debt_consolidation  debt_consolidation   \n",
       "earliest_cr_line         Sep-1989            Aug-1994            Nov-1992   \n",
       "revol_util                  31.6%                 29%               59.4%   \n",
       "\n",
       "                                 3                5                   6       \\\n",
       "term                          36 months        60 months           36 months   \n",
       "int_rate                         13.66%           15.59%              13.66%   \n",
       "grade                                 C                D                   C   \n",
       "sub_grade                            C3               D1                  C3   \n",
       "emp_length                     < 1 year          6 years           10+ years   \n",
       "home_ownership                     RENT             RENT            MORTGAGE   \n",
       "verification_status     Source Verified  Source Verified            Verified   \n",
       "desc                                NaN              NaN                 NaN   \n",
       "purpose              debt_consolidation      credit_card  debt_consolidation   \n",
       "earliest_cr_line               Aug-2002         Aug-2003            Jan-2001   \n",
       "revol_util                        91.9%            76.2%               46.4%   \n",
       "\n",
       "                              7                 8                9       \\\n",
       "term                       36 months         36 months        36 months   \n",
       "int_rate                      14.31%            11.99%           17.86%   \n",
       "grade                              C                 B                D   \n",
       "sub_grade                         C4                B5               D5   \n",
       "emp_length                 10+ years          < 1 year        10+ years   \n",
       "home_ownership                  RENT          MORTGAGE             RENT   \n",
       "verification_status  Source Verified   Source Verified  Source Verified   \n",
       "desc                             NaN               NaN              NaN   \n",
       "purpose                  credit_card  home_improvement            house   \n",
       "earliest_cr_line            Oct-1998          Oct-2001         Jan-1999   \n",
       "revol_util                     82.2%             94.3%            33.1%   \n",
       "\n",
       "                                 10      \\\n",
       "term                          36 months   \n",
       "int_rate                         11.44%   \n",
       "grade                                 B   \n",
       "sub_grade                            B4   \n",
       "emp_length                      2 years   \n",
       "home_ownership                     RENT   \n",
       "verification_status        Not Verified   \n",
       "desc                                NaN   \n",
       "purpose              debt_consolidation   \n",
       "earliest_cr_line               May-2009   \n",
       "revol_util                        20.2%   \n",
       "\n",
       "                                           ...                          \\\n",
       "term                                       ...                           \n",
       "int_rate                                   ...                           \n",
       "grade                                      ...                           \n",
       "sub_grade                                  ...                           \n",
       "emp_length                                 ...                           \n",
       "home_ownership                             ...                           \n",
       "verification_status                        ...                           \n",
       "desc                                       ...                           \n",
       "purpose                                    ...                           \n",
       "earliest_cr_line                           ...                           \n",
       "revol_util                                 ...                           \n",
       "\n",
       "                                                                235616  \\\n",
       "term                                                         36 months   \n",
       "int_rate                                                        10.99%   \n",
       "grade                                                                B   \n",
       "sub_grade                                                           B2   \n",
       "emp_length                                                         n/a   \n",
       "home_ownership                                                MORTGAGE   \n",
       "verification_status                                           Verified   \n",
       "desc                   Borrower added on 12/10/13 > all my loans in...   \n",
       "purpose                                                    credit_card   \n",
       "earliest_cr_line                                              May-1990   \n",
       "revol_util                                                       19.5%   \n",
       "\n",
       "                                                                235618  \\\n",
       "term                                                         36 months   \n",
       "int_rate                                                        11.99%   \n",
       "grade                                                                B   \n",
       "sub_grade                                                           B3   \n",
       "emp_length                                                     8 years   \n",
       "home_ownership                                                    RENT   \n",
       "verification_status                                    Source Verified   \n",
       "desc                   Borrower added on 12/10/13 > pay off higher ...   \n",
       "purpose                                                    credit_card   \n",
       "earliest_cr_line                                              Aug-1983   \n",
       "revol_util                                                       55.9%   \n",
       "\n",
       "                          235619      235620  \\\n",
       "term                   36 months   60 months   \n",
       "int_rate                  15.61%      18.25%   \n",
       "grade                          C           D   \n",
       "sub_grade                     C4          D3   \n",
       "emp_length               7 years     5 years   \n",
       "home_ownership              RENT    MORTGAGE   \n",
       "verification_status     Verified    Verified   \n",
       "desc                         NaN         NaN   \n",
       "purpose              credit_card     medical   \n",
       "earliest_cr_line        Nov-1993    Nov-1994   \n",
       "revol_util                 57.4%       10.7%   \n",
       "\n",
       "                                                                235621  \\\n",
       "term                                                         36 months   \n",
       "int_rate                                                         7.90%   \n",
       "grade                                                                A   \n",
       "sub_grade                                                           A4   \n",
       "emp_length                                                     3 years   \n",
       "home_ownership                                                    RENT   \n",
       "verification_status                                           Verified   \n",
       "desc                   Borrower added on 12/09/13 > consolidate all...   \n",
       "purpose                                             debt_consolidation   \n",
       "earliest_cr_line                                              Jul-1998   \n",
       "revol_util                                                       16.3%   \n",
       "\n",
       "                              235622           235623              235625  \\\n",
       "term                       36 months        36 months           60 months   \n",
       "int_rate                      18.25%           13.53%              19.97%   \n",
       "grade                              D                B                   D   \n",
       "sub_grade                         D3               B5                  D5   \n",
       "emp_length                 10+ years          4 years           10+ years   \n",
       "home_ownership                  RENT             RENT            MORTGAGE   \n",
       "verification_status  Source Verified  Source Verified            Verified   \n",
       "desc                             NaN              NaN                 NaN   \n",
       "purpose                     vacation      credit_card  debt_consolidation   \n",
       "earliest_cr_line            Jun-2002         Aug-1999            Jun-1997   \n",
       "revol_util                     28.8%              96%               46.3%   \n",
       "\n",
       "                          235626  \\\n",
       "term                   36 months   \n",
       "int_rate                   7.90%   \n",
       "grade                          A   \n",
       "sub_grade                     A4   \n",
       "emp_length               3 years   \n",
       "home_ownership               OWN   \n",
       "verification_status     Verified   \n",
       "desc                         NaN   \n",
       "purpose              credit_card   \n",
       "earliest_cr_line        Feb-2003   \n",
       "revol_util                 21.5%   \n",
       "\n",
       "                                                                235628  \n",
       "term                                                         36 months  \n",
       "int_rate                                                        19.20%  \n",
       "grade                                                                D  \n",
       "sub_grade                                                           D3  \n",
       "emp_length                                                   10+ years  \n",
       "home_ownership                                                MORTGAGE  \n",
       "verification_status                                           Verified  \n",
       "desc                   Borrower added on 12/04/13 > I will like a l...  \n",
       "purpose                                                          other  \n",
       "earliest_cr_line                                              Feb-2000  \n",
       "revol_util                                                       70.8%  \n",
       "\n",
       "[11 rows x 134779 columns]"
      ]
     },
     "execution_count": 20,
     "metadata": {},
     "output_type": "execute_result"
    }
   ],
   "source": [
    "df.select_dtypes(exclude=[np.number]).T"
   ]
  },
  {
   "cell_type": "code",
   "execution_count": 21,
   "metadata": {
    "collapsed": false
   },
   "outputs": [
    {
     "name": "stdout",
     "output_type": "stream",
     "text": [
      ", 'term'\n",
      ", 'int_rate'\n",
      ", 'grade'\n",
      ", 'sub_grade'\n",
      ", 'emp_length'\n",
      ", 'home_ownership'\n",
      ", 'verification_status'\n",
      ", 'desc'\n",
      ", 'purpose'\n",
      ", 'earliest_cr_line'\n",
      ", 'revol_util'\n"
     ]
    }
   ],
   "source": [
    "for i in df.select_dtypes(exclude=[np.number]).columns:\n",
    "    print (\", '{0}'\".format(i))"
   ]
  },
  {
   "cell_type": "markdown",
   "metadata": {},
   "source": [
    "#### Object to numeric"
   ]
  },
  {
   "cell_type": "code",
   "execution_count": 22,
   "metadata": {
    "collapsed": true
   },
   "outputs": [],
   "source": [
    "import re"
   ]
  },
  {
   "cell_type": "code",
   "execution_count": 23,
   "metadata": {
    "collapsed": true
   },
   "outputs": [],
   "source": [
    "obj_num_cols = [\n",
    "        'term'\n",
    "        , 'int_rate'\n",
    "        , 'emp_length'\n",
    "        , 'revol_util'\n",
    "        ]"
   ]
  },
  {
   "cell_type": "code",
   "execution_count": 24,
   "metadata": {
    "collapsed": true,
    "scrolled": true
   },
   "outputs": [],
   "source": [
    "df['term'] = df['term'].apply(lambda x: re.sub(\"[^0-9.,]\", '', x))\n",
    "df['term'] = pd.to_numeric(df['term'])"
   ]
  },
  {
   "cell_type": "code",
   "execution_count": 25,
   "metadata": {
    "collapsed": true
   },
   "outputs": [],
   "source": [
    "df['int_rate'] = df['int_rate'].apply(lambda x: re.sub(\"[^0-9.,]\", '', x))\n",
    "df['int_rate'] = pd.to_numeric(df['int_rate'])"
   ]
  },
  {
   "cell_type": "code",
   "execution_count": 26,
   "metadata": {
    "collapsed": true
   },
   "outputs": [],
   "source": [
    "df['emp_length'] = ['0' if x=='< 1 year' else x for x in df['emp_length']]\n",
    "df['emp_length'] = df['emp_length'].apply(lambda x: re.sub(\"[^0-9.,]\", '', x))\n",
    "df['emp_length'] = pd.to_numeric(df['emp_length'])#, errors=coerce)"
   ]
  },
  {
   "cell_type": "code",
   "execution_count": 27,
   "metadata": {
    "collapsed": true
   },
   "outputs": [],
   "source": [
    "df['revol_util'] = df['revol_util'].apply(lambda x: re.sub(\"[^0-9.,]\", '', str(x)))\n",
    "df['revol_util'] = pd.to_numeric(df['revol_util'])#, errors=coerce)"
   ]
  },
  {
   "cell_type": "markdown",
   "metadata": {},
   "source": [
    "#### Object to date"
   ]
  },
  {
   "cell_type": "code",
   "execution_count": 28,
   "metadata": {
    "collapsed": true
   },
   "outputs": [],
   "source": [
    "obj_date_cols = [\n",
    "    #'issue_d'\n",
    "    'earliest_cr_line'\n",
    "    ]"
   ]
  },
  {
   "cell_type": "code",
   "execution_count": 29,
   "metadata": {
    "collapsed": true
   },
   "outputs": [],
   "source": [
    "df[obj_date_cols] = df[obj_date_cols].apply(lambda x: pd.to_datetime(x))"
   ]
  },
  {
   "cell_type": "markdown",
   "metadata": {},
   "source": [
    "#### Numeric columns"
   ]
  },
  {
   "cell_type": "code",
   "execution_count": 30,
   "metadata": {
    "collapsed": false,
    "scrolled": true
   },
   "outputs": [
    {
     "name": "stdout",
     "output_type": "stream",
     "text": [
      ", 'loan_amnt'\n",
      ", 'term'\n",
      ", 'int_rate'\n",
      ", 'installment'\n",
      ", 'emp_length'\n",
      ", 'annual_inc'\n",
      ", 'dti'\n",
      ", 'delinq_2yrs'\n",
      ", 'inq_last_6mths'\n",
      ", 'mths_since_last_delinq'\n",
      ", 'mths_since_last_record'\n",
      ", 'open_acc'\n",
      ", 'pub_rec'\n",
      ", 'revol_bal'\n",
      ", 'revol_util'\n",
      ", 'total_acc'\n",
      ", 'collections_12_mths_ex_med'\n",
      ", 'mths_since_last_major_derog'\n",
      ", 'acc_now_delinq'\n",
      ", 'total_rev_hi_lim'\n",
      ", 'acc_open_past_24mths'\n",
      ", 'avg_cur_bal'\n",
      ", 'bc_open_to_buy'\n",
      ", 'bc_util'\n",
      ", 'chargeoff_within_12_mths'\n",
      ", 'delinq_amnt'\n",
      ", 'mo_sin_old_il_acct'\n",
      ", 'mo_sin_old_rev_tl_op'\n",
      ", 'mo_sin_rcnt_rev_tl_op'\n",
      ", 'mo_sin_rcnt_tl'\n",
      ", 'mort_acc'\n",
      ", 'mths_since_recent_bc'\n",
      ", 'mths_since_recent_bc_dlq'\n",
      ", 'mths_since_recent_inq'\n",
      ", 'mths_since_recent_revol_delinq'\n",
      ", 'num_accts_ever_120_pd'\n",
      ", 'num_actv_bc_tl'\n",
      ", 'num_actv_rev_tl'\n",
      ", 'num_bc_sats'\n",
      ", 'num_bc_tl'\n",
      ", 'num_il_tl'\n",
      ", 'num_op_rev_tl'\n",
      ", 'num_rev_accts'\n",
      ", 'num_rev_tl_bal_gt_0'\n",
      ", 'num_sats'\n",
      ", 'num_tl_120dpd_2m'\n",
      ", 'num_tl_30dpd'\n",
      ", 'num_tl_90g_dpd_24m'\n",
      ", 'num_tl_op_past_12m'\n",
      ", 'pct_tl_nvr_dlq'\n",
      ", 'percent_bc_gt_75'\n",
      ", 'pub_rec_bankruptcies'\n",
      ", 'tax_liens'\n",
      ", 'tot_hi_cred_lim'\n",
      ", 'total_bal_ex_mort'\n",
      ", 'total_bc_limit'\n",
      ", 'total_il_high_credit_limit'\n",
      ", 'target'\n"
     ]
    }
   ],
   "source": [
    "for i in df.select_dtypes(include=[np.number]).columns:\n",
    "    print (\", '{0}'\".format(i))"
   ]
  },
  {
   "cell_type": "code",
   "execution_count": 31,
   "metadata": {
    "collapsed": false,
    "scrolled": true
   },
   "outputs": [
    {
     "name": "stdout",
     "output_type": "stream",
     "text": [
      "<class 'pandas.core.frame.DataFrame'>\n",
      "Int64Index: 134779 entries, 0 to 235628\n",
      "Data columns (total 65 columns):\n",
      "loan_amnt                         134779 non-null int64\n",
      "term                              134779 non-null int64\n",
      "int_rate                          134779 non-null float64\n",
      "installment                       134779 non-null float64\n",
      "grade                             134779 non-null object\n",
      "sub_grade                         134779 non-null object\n",
      "emp_length                        128011 non-null float64\n",
      "home_ownership                    134779 non-null object\n",
      "annual_inc                        134779 non-null float64\n",
      "verification_status               134779 non-null object\n",
      "desc                              12271 non-null object\n",
      "purpose                           134779 non-null object\n",
      "dti                               134779 non-null float64\n",
      "delinq_2yrs                       134779 non-null int64\n",
      "earliest_cr_line                  134779 non-null datetime64[ns]\n",
      "inq_last_6mths                    134779 non-null int64\n",
      "mths_since_last_delinq            68833 non-null float64\n",
      "mths_since_last_record            26035 non-null float64\n",
      "open_acc                          134779 non-null int64\n",
      "pub_rec                           134779 non-null int64\n",
      "revol_bal                         134779 non-null int64\n",
      "revol_util                        134706 non-null float64\n",
      "total_acc                         134779 non-null int64\n",
      "collections_12_mths_ex_med        134779 non-null int64\n",
      "mths_since_last_major_derog       39572 non-null float64\n",
      "acc_now_delinq                    134779 non-null int64\n",
      "total_rev_hi_lim                  134779 non-null int64\n",
      "acc_open_past_24mths              134779 non-null int64\n",
      "avg_cur_bal                       134773 non-null float64\n",
      "bc_open_to_buy                    133373 non-null float64\n",
      "bc_util                           133269 non-null float64\n",
      "chargeoff_within_12_mths          134779 non-null int64\n",
      "delinq_amnt                       134779 non-null int64\n",
      "mo_sin_old_il_acct                130591 non-null float64\n",
      "mo_sin_old_rev_tl_op              134779 non-null int64\n",
      "mo_sin_rcnt_rev_tl_op             134779 non-null int64\n",
      "mo_sin_rcnt_tl                    134779 non-null int64\n",
      "mort_acc                          134779 non-null int64\n",
      "mths_since_recent_bc              133487 non-null float64\n",
      "mths_since_recent_bc_dlq          36040 non-null float64\n",
      "mths_since_recent_inq             124306 non-null float64\n",
      "mths_since_recent_revol_delinq    48754 non-null float64\n",
      "num_accts_ever_120_pd             134779 non-null int64\n",
      "num_actv_bc_tl                    134779 non-null int64\n",
      "num_actv_rev_tl                   134779 non-null int64\n",
      "num_bc_sats                       134779 non-null int64\n",
      "num_bc_tl                         134779 non-null int64\n",
      "num_il_tl                         134779 non-null int64\n",
      "num_op_rev_tl                     134779 non-null int64\n",
      "num_rev_accts                     134779 non-null int64\n",
      "num_rev_tl_bal_gt_0               134779 non-null int64\n",
      "num_sats                          134779 non-null int64\n",
      "num_tl_120dpd_2m                  129435 non-null float64\n",
      "num_tl_30dpd                      134779 non-null int64\n",
      "num_tl_90g_dpd_24m                134779 non-null int64\n",
      "num_tl_op_past_12m                134779 non-null int64\n",
      "pct_tl_nvr_dlq                    134779 non-null float64\n",
      "percent_bc_gt_75                  133303 non-null float64\n",
      "pub_rec_bankruptcies              134779 non-null int64\n",
      "tax_liens                         134779 non-null int64\n",
      "tot_hi_cred_lim                   134779 non-null int64\n",
      "total_bal_ex_mort                 134779 non-null int64\n",
      "total_bc_limit                    134779 non-null int64\n",
      "total_il_high_credit_limit        134779 non-null int64\n",
      "target                            134779 non-null int64\n",
      "dtypes: datetime64[ns](1), float64(20), int64(38), object(6)\n",
      "memory usage: 67.9+ MB\n"
     ]
    }
   ],
   "source": [
    "df.info()"
   ]
  },
  {
   "cell_type": "markdown",
   "metadata": {},
   "source": [
    "### Datetime to feature"
   ]
  },
  {
   "cell_type": "code",
   "execution_count": 32,
   "metadata": {
    "collapsed": false
   },
   "outputs": [
    {
     "data": {
      "text/plain": [
       "Timestamp('2014-12-01 00:00:00')"
      ]
     },
     "execution_count": 32,
     "metadata": {},
     "output_type": "execute_result"
    }
   ],
   "source": [
    "pd.to_datetime('2014-12-01')"
   ]
  },
  {
   "cell_type": "code",
   "execution_count": 33,
   "metadata": {
    "collapsed": true
   },
   "outputs": [],
   "source": [
    "df['mo_earliest_credit'] = pd.to_datetime('2014-12-01') - df['earliest_cr_line']"
   ]
  },
  {
   "cell_type": "code",
   "execution_count": 34,
   "metadata": {
    "collapsed": true
   },
   "outputs": [],
   "source": [
    "df['mo_earliest_credit'] = df['mo_earliest_credit'].apply(lambda x: x.days/365)"
   ]
  },
  {
   "cell_type": "code",
   "execution_count": 35,
   "metadata": {
    "collapsed": true
   },
   "outputs": [],
   "source": [
    "df.drop('earliest_cr_line', axis=1, inplace=True)"
   ]
  },
  {
   "cell_type": "markdown",
   "metadata": {
    "collapsed": true
   },
   "source": [
    "### Dummies for object cols"
   ]
  },
  {
   "cell_type": "markdown",
   "metadata": {},
   "source": [
    "Turn description into a bin for now"
   ]
  },
  {
   "cell_type": "code",
   "execution_count": 36,
   "metadata": {
    "collapsed": true
   },
   "outputs": [],
   "source": [
    "df['desc_bin'] = [1 if x else 0 for x in df['desc']]"
   ]
  },
  {
   "cell_type": "code",
   "execution_count": 37,
   "metadata": {
    "collapsed": true
   },
   "outputs": [],
   "source": [
    "df.drop(['desc'], axis=1, inplace=True)"
   ]
  },
  {
   "cell_type": "code",
   "execution_count": 38,
   "metadata": {
    "collapsed": true
   },
   "outputs": [],
   "source": [
    "obj_cols = df.select_dtypes(include=[object]).columns"
   ]
  },
  {
   "cell_type": "code",
   "execution_count": 39,
   "metadata": {
    "collapsed": false
   },
   "outputs": [
    {
     "name": "stdout",
     "output_type": "stream",
     "text": [
      "<class 'pandas.core.frame.DataFrame'>\n",
      "Int64Index: 134779 entries, 0 to 235628\n",
      "Data columns (total 5 columns):\n",
      "grade                  134779 non-null object\n",
      "sub_grade              134779 non-null object\n",
      "home_ownership         134779 non-null object\n",
      "verification_status    134779 non-null object\n",
      "purpose                134779 non-null object\n",
      "dtypes: object(5)\n",
      "memory usage: 6.2+ MB\n"
     ]
    }
   ],
   "source": [
    "df[obj_cols].info()"
   ]
  },
  {
   "cell_type": "code",
   "execution_count": 40,
   "metadata": {
    "collapsed": false
   },
   "outputs": [
    {
     "data": {
      "text/plain": [
       "C    38552\n",
       "B    35317\n",
       "D    24956\n",
       "A    18148\n",
       "E    12355\n",
       "F     4321\n",
       "G     1130\n",
       "Name: grade, dtype: int64"
      ]
     },
     "execution_count": 40,
     "metadata": {},
     "output_type": "execute_result"
    }
   ],
   "source": [
    "df['grade'].value_counts()"
   ]
  },
  {
   "cell_type": "code",
   "execution_count": 41,
   "metadata": {
    "collapsed": true
   },
   "outputs": [],
   "source": [
    "df['sub_grade_number'] = df['sub_grade'].str[1]"
   ]
  },
  {
   "cell_type": "code",
   "execution_count": 42,
   "metadata": {
    "collapsed": false,
    "scrolled": true
   },
   "outputs": [
    {
     "data": {
      "text/plain": [
       "1    27520\n",
       "4    27078\n",
       "3    27012\n",
       "2    26677\n",
       "5    26492\n",
       "Name: sub_grade_number, dtype: int64"
      ]
     },
     "execution_count": 42,
     "metadata": {},
     "output_type": "execute_result"
    }
   ],
   "source": [
    "df['sub_grade_number'].value_counts()"
   ]
  },
  {
   "cell_type": "code",
   "execution_count": 43,
   "metadata": {
    "collapsed": false
   },
   "outputs": [
    {
     "data": {
      "text/plain": [
       "MORTGAGE    67615\n",
       "RENT        54160\n",
       "OWN         13003\n",
       "ANY             1\n",
       "Name: home_ownership, dtype: int64"
      ]
     },
     "execution_count": 43,
     "metadata": {},
     "output_type": "execute_result"
    }
   ],
   "source": [
    "df['home_ownership'].value_counts()"
   ]
  },
  {
   "cell_type": "code",
   "execution_count": 44,
   "metadata": {
    "collapsed": false
   },
   "outputs": [
    {
     "data": {
      "text/plain": [
       "Source Verified    54008\n",
       "Not Verified       40719\n",
       "Verified           40052\n",
       "Name: verification_status, dtype: int64"
      ]
     },
     "execution_count": 44,
     "metadata": {},
     "output_type": "execute_result"
    }
   ],
   "source": [
    "df['verification_status'].value_counts()"
   ]
  },
  {
   "cell_type": "code",
   "execution_count": 45,
   "metadata": {
    "collapsed": false
   },
   "outputs": [
    {
     "data": {
      "text/plain": [
       "debt_consolidation    82994\n",
       "credit_card           29412\n",
       "home_improvement       7523\n",
       "other                  6275\n",
       "major_purchase         2242\n",
       "medical                1508\n",
       "small_business         1461\n",
       "car                    1073\n",
       "moving                  890\n",
       "vacation                788\n",
       "house                   520\n",
       "renewable_energy         88\n",
       "wedding                   5\n",
       "Name: purpose, dtype: int64"
      ]
     },
     "execution_count": 45,
     "metadata": {},
     "output_type": "execute_result"
    }
   ],
   "source": [
    "df['purpose'].value_counts()"
   ]
  },
  {
   "cell_type": "markdown",
   "metadata": {},
   "source": [
    "Don't use emp_title (too many uniques), pymnt_plan (all the same), title (too many uniques, seems to have been reconsolidated under purpose, don't use address zip code or state for now"
   ]
  },
  {
   "cell_type": "code",
   "execution_count": 46,
   "metadata": {
    "collapsed": true
   },
   "outputs": [],
   "source": [
    "for i in obj_cols:\n",
    "    df = df.merge(pd.get_dummies(df[i]\n",
    "                                 , prefix='{0}'.format(i))\n",
    "                , left_index=True\n",
    "                , right_index=True)"
   ]
  },
  {
   "cell_type": "code",
   "execution_count": 47,
   "metadata": {
    "collapsed": true
   },
   "outputs": [],
   "source": [
    "df.drop(obj_cols, axis=1, inplace=True)"
   ]
  },
  {
   "cell_type": "code",
   "execution_count": 48,
   "metadata": {
    "collapsed": false
   },
   "outputs": [
    {
     "data": {
      "text/html": [
       "<div>\n",
       "<table border=\"1\" class=\"dataframe\">\n",
       "  <thead>\n",
       "    <tr style=\"text-align: right;\">\n",
       "      <th></th>\n",
       "      <th>loan_amnt</th>\n",
       "      <th>term</th>\n",
       "      <th>int_rate</th>\n",
       "      <th>installment</th>\n",
       "      <th>emp_length</th>\n",
       "      <th>annual_inc</th>\n",
       "      <th>dti</th>\n",
       "      <th>delinq_2yrs</th>\n",
       "      <th>inq_last_6mths</th>\n",
       "      <th>mths_since_last_delinq</th>\n",
       "      <th>...</th>\n",
       "      <th>purpose_home_improvement</th>\n",
       "      <th>purpose_house</th>\n",
       "      <th>purpose_major_purchase</th>\n",
       "      <th>purpose_medical</th>\n",
       "      <th>purpose_moving</th>\n",
       "      <th>purpose_other</th>\n",
       "      <th>purpose_renewable_energy</th>\n",
       "      <th>purpose_small_business</th>\n",
       "      <th>purpose_vacation</th>\n",
       "      <th>purpose_wedding</th>\n",
       "    </tr>\n",
       "  </thead>\n",
       "  <tbody>\n",
       "    <tr>\n",
       "      <th>0</th>\n",
       "      <td>10400</td>\n",
       "      <td>36</td>\n",
       "      <td>6.99</td>\n",
       "      <td>321.08</td>\n",
       "      <td>8.0</td>\n",
       "      <td>58000.0</td>\n",
       "      <td>14.92</td>\n",
       "      <td>0</td>\n",
       "      <td>2</td>\n",
       "      <td>42.0</td>\n",
       "      <td>...</td>\n",
       "      <td>0</td>\n",
       "      <td>0</td>\n",
       "      <td>0</td>\n",
       "      <td>0</td>\n",
       "      <td>0</td>\n",
       "      <td>0</td>\n",
       "      <td>0</td>\n",
       "      <td>0</td>\n",
       "      <td>0</td>\n",
       "      <td>0</td>\n",
       "    </tr>\n",
       "    <tr>\n",
       "      <th>1</th>\n",
       "      <td>15000</td>\n",
       "      <td>60</td>\n",
       "      <td>12.39</td>\n",
       "      <td>336.64</td>\n",
       "      <td>10.0</td>\n",
       "      <td>78000.0</td>\n",
       "      <td>12.03</td>\n",
       "      <td>0</td>\n",
       "      <td>0</td>\n",
       "      <td>NaN</td>\n",
       "      <td>...</td>\n",
       "      <td>0</td>\n",
       "      <td>0</td>\n",
       "      <td>0</td>\n",
       "      <td>0</td>\n",
       "      <td>0</td>\n",
       "      <td>0</td>\n",
       "      <td>0</td>\n",
       "      <td>0</td>\n",
       "      <td>0</td>\n",
       "      <td>0</td>\n",
       "    </tr>\n",
       "    <tr>\n",
       "      <th>2</th>\n",
       "      <td>9600</td>\n",
       "      <td>36</td>\n",
       "      <td>13.66</td>\n",
       "      <td>326.53</td>\n",
       "      <td>10.0</td>\n",
       "      <td>69000.0</td>\n",
       "      <td>25.81</td>\n",
       "      <td>0</td>\n",
       "      <td>0</td>\n",
       "      <td>NaN</td>\n",
       "      <td>...</td>\n",
       "      <td>0</td>\n",
       "      <td>0</td>\n",
       "      <td>0</td>\n",
       "      <td>0</td>\n",
       "      <td>0</td>\n",
       "      <td>0</td>\n",
       "      <td>0</td>\n",
       "      <td>0</td>\n",
       "      <td>0</td>\n",
       "      <td>0</td>\n",
       "    </tr>\n",
       "    <tr>\n",
       "      <th>3</th>\n",
       "      <td>7650</td>\n",
       "      <td>36</td>\n",
       "      <td>13.66</td>\n",
       "      <td>260.20</td>\n",
       "      <td>0.0</td>\n",
       "      <td>50000.0</td>\n",
       "      <td>34.81</td>\n",
       "      <td>0</td>\n",
       "      <td>1</td>\n",
       "      <td>NaN</td>\n",
       "      <td>...</td>\n",
       "      <td>0</td>\n",
       "      <td>0</td>\n",
       "      <td>0</td>\n",
       "      <td>0</td>\n",
       "      <td>0</td>\n",
       "      <td>0</td>\n",
       "      <td>0</td>\n",
       "      <td>0</td>\n",
       "      <td>0</td>\n",
       "      <td>0</td>\n",
       "    </tr>\n",
       "    <tr>\n",
       "      <th>5</th>\n",
       "      <td>21425</td>\n",
       "      <td>60</td>\n",
       "      <td>15.59</td>\n",
       "      <td>516.36</td>\n",
       "      <td>6.0</td>\n",
       "      <td>63800.0</td>\n",
       "      <td>18.49</td>\n",
       "      <td>0</td>\n",
       "      <td>0</td>\n",
       "      <td>60.0</td>\n",
       "      <td>...</td>\n",
       "      <td>0</td>\n",
       "      <td>0</td>\n",
       "      <td>0</td>\n",
       "      <td>0</td>\n",
       "      <td>0</td>\n",
       "      <td>0</td>\n",
       "      <td>0</td>\n",
       "      <td>0</td>\n",
       "      <td>0</td>\n",
       "      <td>0</td>\n",
       "    </tr>\n",
       "  </tbody>\n",
       "</table>\n",
       "<p>5 rows × 123 columns</p>\n",
       "</div>"
      ],
      "text/plain": [
       "   loan_amnt  term  int_rate  installment  emp_length  annual_inc    dti  \\\n",
       "0      10400    36      6.99       321.08         8.0     58000.0  14.92   \n",
       "1      15000    60     12.39       336.64        10.0     78000.0  12.03   \n",
       "2       9600    36     13.66       326.53        10.0     69000.0  25.81   \n",
       "3       7650    36     13.66       260.20         0.0     50000.0  34.81   \n",
       "5      21425    60     15.59       516.36         6.0     63800.0  18.49   \n",
       "\n",
       "   delinq_2yrs  inq_last_6mths  mths_since_last_delinq       ...         \\\n",
       "0            0               2                    42.0       ...          \n",
       "1            0               0                     NaN       ...          \n",
       "2            0               0                     NaN       ...          \n",
       "3            0               1                     NaN       ...          \n",
       "5            0               0                    60.0       ...          \n",
       "\n",
       "   purpose_home_improvement  purpose_house  purpose_major_purchase  \\\n",
       "0                         0              0                       0   \n",
       "1                         0              0                       0   \n",
       "2                         0              0                       0   \n",
       "3                         0              0                       0   \n",
       "5                         0              0                       0   \n",
       "\n",
       "   purpose_medical  purpose_moving  purpose_other  purpose_renewable_energy  \\\n",
       "0                0               0              0                         0   \n",
       "1                0               0              0                         0   \n",
       "2                0               0              0                         0   \n",
       "3                0               0              0                         0   \n",
       "5                0               0              0                         0   \n",
       "\n",
       "   purpose_small_business  purpose_vacation  purpose_wedding  \n",
       "0                       0                 0                0  \n",
       "1                       0                 0                0  \n",
       "2                       0                 0                0  \n",
       "3                       0                 0                0  \n",
       "5                       0                 0                0  \n",
       "\n",
       "[5 rows x 123 columns]"
      ]
     },
     "execution_count": 48,
     "metadata": {},
     "output_type": "execute_result"
    }
   ],
   "source": [
    "df.head()"
   ]
  },
  {
   "cell_type": "code",
   "execution_count": 49,
   "metadata": {
    "collapsed": true
   },
   "outputs": [],
   "source": [
    "def bin_nulls(col, bins):\n",
    "    bin_num = []\n",
    "    for func in bins:\n",
    "        bin_num.append(func(col))\n",
    "    bin_num = list(set(bin_num))\n",
    "    bin_num.sort()\n",
    "    col = pd.cut(col, bin_num, right=True, include_lowest=True)\n",
    "    dum = pd.get_dummies(col, dummy_na=True)\n",
    "    return dum"
   ]
  },
  {
   "cell_type": "code",
   "execution_count": 50,
   "metadata": {
    "collapsed": true
   },
   "outputs": [],
   "source": [
    "for col in df.columns[df.isnull().any()]:\n",
    "    df[col] = bin_nulls(df[col], bins=[np.min, partial(np.nanpercentile, q=25), np.nanmedian, partial(np.nanpercentile, q=75), np.max])"
   ]
  },
  {
   "cell_type": "code",
   "execution_count": 51,
   "metadata": {
    "collapsed": false
   },
   "outputs": [
    {
     "data": {
      "text/plain": [
       "0"
      ]
     },
     "execution_count": 51,
     "metadata": {},
     "output_type": "execute_result"
    }
   ],
   "source": [
    "np.sum(df.isnull().any())"
   ]
  },
  {
   "cell_type": "code",
   "execution_count": 52,
   "metadata": {
    "collapsed": true
   },
   "outputs": [],
   "source": [
    "df.to_csv('2014_clean_1.csv')"
   ]
  },
  {
   "cell_type": "markdown",
   "metadata": {},
   "source": [
    "### Modeling"
   ]
  },
  {
   "cell_type": "code",
   "execution_count": 84,
   "metadata": {
    "collapsed": false
   },
   "outputs": [],
   "source": [
    "from sklearn.ensemble import RandomForestClassifier\n",
    "from sklearn.linear_model import LogisticRegression\n",
    "from sklearn.model_selection import train_test_split\n",
    "from sklearn.model_selection import GridSearchCV\n",
    "from sklearn.ensemble import GradientBoostingClassifier"
   ]
  },
  {
   "cell_type": "code",
   "execution_count": 55,
   "metadata": {
    "collapsed": true
   },
   "outputs": [],
   "source": [
    "from sklearn.metrics import roc_auc_score\n",
    "from sklearn.metrics import classification_report"
   ]
  },
  {
   "cell_type": "code",
   "execution_count": 56,
   "metadata": {
    "collapsed": true
   },
   "outputs": [],
   "source": [
    "rand = 128"
   ]
  },
  {
   "cell_type": "code",
   "execution_count": 57,
   "metadata": {
    "collapsed": true
   },
   "outputs": [],
   "source": [
    "y = df.pop('target')\n",
    "X = df"
   ]
  },
  {
   "cell_type": "code",
   "execution_count": 58,
   "metadata": {
    "collapsed": true
   },
   "outputs": [],
   "source": [
    "X_train, X_test, y_train, y_test = train_test_split(X, y, test_size=.3)"
   ]
  },
  {
   "cell_type": "code",
   "execution_count": 69,
   "metadata": {
    "collapsed": true
   },
   "outputs": [],
   "source": [
    "rfc = RandomForestClassifier(n_estimators=250, max_features='sqrt', n_jobs=-1, class_weight='balanced')"
   ]
  },
  {
   "cell_type": "code",
   "execution_count": 85,
   "metadata": {
    "collapsed": true
   },
   "outputs": [],
   "source": [
    "gbc = GradientBoostingClassifier()"
   ]
  },
  {
   "cell_type": "code",
   "execution_count": 123,
   "metadata": {
    "collapsed": true
   },
   "outputs": [],
   "source": [
    "gbc_params = dict(n_estimators=[500, 1000]\n",
    "                 , max_depth=[3]\n",
    "                 , learning_rate=[.01, .1])"
   ]
  },
  {
   "cell_type": "code",
   "execution_count": 124,
   "metadata": {
    "collapsed": true
   },
   "outputs": [],
   "source": [
    "rf_params = dict(n_estimators=[500, 1000]\n",
    "             , max_features=['sqrt']\n",
    "             , max_depth=[10, 25, None])"
   ]
  },
  {
   "cell_type": "code",
   "execution_count": 125,
   "metadata": {
    "collapsed": false
   },
   "outputs": [],
   "source": [
    "gc = GridSearchCV(gbc, gbc_params, n_jobs=-1, scoring='roc_auc', verbose=5)"
   ]
  },
  {
   "cell_type": "code",
   "execution_count": 126,
   "metadata": {
    "collapsed": false
   },
   "outputs": [
    {
     "name": "stderr",
     "output_type": "stream",
     "text": [
      "[Parallel(n_jobs=-1)]: Done   4 out of  12 | elapsed:  7.1min remaining: 14.2min\n",
      "[Parallel(n_jobs=-1)]: Done   7 out of  12 | elapsed:  9.5min remaining:  6.8min\n",
      "[Parallel(n_jobs=-1)]: Done  10 out of  12 | elapsed:  9.8min remaining:  2.0min\n",
      "[Parallel(n_jobs=-1)]: Done  12 out of  12 | elapsed:  9.9min finished\n"
     ]
    },
    {
     "name": "stdout",
     "output_type": "stream",
     "text": [
      "Fitting 3 folds for each of 4 candidates, totalling 12 fits\n"
     ]
    },
    {
     "data": {
      "text/plain": [
       "GridSearchCV(cv=None, error_score='raise',\n",
       "       estimator=GradientBoostingClassifier(criterion='friedman_mse', init=None,\n",
       "              learning_rate=0.1, loss='deviance', max_depth=3,\n",
       "              max_features=None, max_leaf_nodes=None,\n",
       "              min_impurity_split=1e-07, min_samples_leaf=1,\n",
       "              min_samples_split=2, min_weight_fraction_leaf=0.0,\n",
       "              n_estimators=100, presort='auto', random_state=None,\n",
       "              subsample=1.0, verbose=0, warm_start=False),\n",
       "       fit_params={}, iid=True, n_jobs=-1,\n",
       "       param_grid={'n_estimators': [500, 1000], 'learning_rate': [0.01, 0.1], 'max_depth': [3]},\n",
       "       pre_dispatch='2*n_jobs', refit=True, return_train_score=True,\n",
       "       scoring='roc_auc', verbose=5)"
      ]
     },
     "execution_count": 126,
     "metadata": {},
     "output_type": "execute_result"
    }
   ],
   "source": [
    "gc.fit(X_train, y_train)"
   ]
  },
  {
   "cell_type": "code",
   "execution_count": 127,
   "metadata": {
    "collapsed": false
   },
   "outputs": [
    {
     "data": {
      "text/plain": [
       "{'mean_fit_time': array([ 410.5466667 ,  573.4446667 ,  376.98033333,  546.00333333]),\n",
       " 'mean_score_time': array([ 2.12366676,  2.03800003,  3.00466665,  2.34500003]),\n",
       " 'mean_test_score': array([ 0.63936325,  0.64360605,  0.64949711,  0.64723316]),\n",
       " 'mean_train_score': array([ 0.65162226,  0.66456632,  0.71653528,  0.7569865 ]),\n",
       " 'param_learning_rate': masked_array(data = [0.01 0.01 0.1 0.1],\n",
       "              mask = [False False False False],\n",
       "        fill_value = ?),\n",
       " 'param_max_depth': masked_array(data = [3 3 3 3],\n",
       "              mask = [False False False False],\n",
       "        fill_value = ?),\n",
       " 'param_n_estimators': masked_array(data = [500 1000 500 1000],\n",
       "              mask = [False False False False],\n",
       "        fill_value = ?),\n",
       " 'params': ({'learning_rate': 0.01, 'max_depth': 3, 'n_estimators': 500},\n",
       "  {'learning_rate': 0.01, 'max_depth': 3, 'n_estimators': 1000},\n",
       "  {'learning_rate': 0.1, 'max_depth': 3, 'n_estimators': 500},\n",
       "  {'learning_rate': 0.1, 'max_depth': 3, 'n_estimators': 1000}),\n",
       " 'rank_test_score': array([4, 3, 1, 2]),\n",
       " 'split0_test_score': array([ 0.64068051,  0.64487247,  0.650574  ,  0.64801177]),\n",
       " 'split0_train_score': array([ 0.65067124,  0.66350147,  0.71606229,  0.75668756]),\n",
       " 'split1_test_score': array([ 0.63865365,  0.64283631,  0.64834073,  0.64655928]),\n",
       " 'split1_train_score': array([ 0.65173141,  0.66425202,  0.71573227,  0.75703608]),\n",
       " 'split2_test_score': array([ 0.63875554,  0.64310931,  0.64957657,  0.64712841]),\n",
       " 'split2_train_score': array([ 0.65246412,  0.66594548,  0.71781129,  0.75723585]),\n",
       " 'std_fit_time': array([ 1.12728116,  2.04559463,  2.81406836,  0.74636965]),\n",
       " 'std_score_time': array([ 0.07896132,  0.09095417,  0.00449698,  0.05185236]),\n",
       " 'std_test_score': array([ 0.00093239,  0.00090242,  0.00091346,  0.00059758]),\n",
       " 'std_train_score': array([ 0.000736  ,  0.00102221,  0.00091228,  0.00022657])}"
      ]
     },
     "execution_count": 127,
     "metadata": {},
     "output_type": "execute_result"
    }
   ],
   "source": [
    "gc.cv_results_"
   ]
  },
  {
   "cell_type": "code",
   "execution_count": 128,
   "metadata": {
    "collapsed": false
   },
   "outputs": [],
   "source": [
    "y_true = y_test\n",
    "y_pred = gc.predict(X_test)\n",
    "y_proba = gc.predict_proba(X_test)[:,1]"
   ]
  },
  {
   "cell_type": "code",
   "execution_count": 129,
   "metadata": {
    "collapsed": false
   },
   "outputs": [
    {
     "data": {
      "text/plain": [
       "0.6527994622189055"
      ]
     },
     "execution_count": 129,
     "metadata": {},
     "output_type": "execute_result"
    }
   ],
   "source": [
    "roc_auc_score(y_true, y_proba)"
   ]
  },
  {
   "cell_type": "code",
   "execution_count": 130,
   "metadata": {
    "collapsed": false
   },
   "outputs": [
    {
     "name": "stdout",
     "output_type": "stream",
     "text": [
      "             precision    recall  f1-score   support\n",
      "\n",
      "          0       0.57      0.16      0.24     12341\n",
      "          1       0.72      0.95      0.82     28093\n",
      "\n",
      "avg / total       0.67      0.71      0.64     40434\n",
      "\n"
     ]
    }
   ],
   "source": [
    "print (classification_report(y_true, y_pred))"
   ]
  },
  {
   "cell_type": "code",
   "execution_count": 131,
   "metadata": {
    "collapsed": false,
    "scrolled": true
   },
   "outputs": [
    {
     "name": "stdout",
     "output_type": "stream",
     "text": [
      "('loan_amnt', 0.026579050442635678)\n",
      "('term', 0.02122442414705511)\n",
      "('int_rate', 0.086148359488788656)\n",
      "('installment', 0.049657937555406421)\n",
      "('emp_length', 0.0017560104109720976)\n",
      "('annual_inc', 0.054896019248048065)\n",
      "('dti', 0.051921414204111428)\n",
      "('delinq_2yrs', 0.009619282226303618)\n",
      "('inq_last_6mths', 0.005195840827870943)\n",
      "('mths_since_last_delinq', 0.0016461527460831515)\n",
      "('mths_since_last_record', 0.0016763039608906074)\n",
      "('open_acc', 0.0061184420290275893)\n",
      "('pub_rec', 0.0031768266478438491)\n",
      "('revol_bal', 0.047863761289107187)\n",
      "('revol_util', 0.0022161183557807447)\n",
      "('total_acc', 0.021492888357869673)\n",
      "('collections_12_mths_ex_med', 0.0020516556730369993)\n",
      "('mths_since_last_major_derog', 0.00098163879798915019)\n",
      "('acc_now_delinq', 0.0002000378411898367)\n",
      "('total_rev_hi_lim', 0.032310781555116276)\n",
      "('acc_open_past_24mths', 0.021998680400577501)\n",
      "('avg_cur_bal', 8.637398820396237e-06)\n",
      "('bc_open_to_buy', 0.0027073510834937794)\n",
      "('bc_util', 0.0011150005972646402)\n",
      "('chargeoff_within_12_mths', 0.0012614017864204107)\n",
      "('delinq_amnt', 0.0020936072117182115)\n",
      "('mo_sin_old_il_acct', 0.0010864120091739215)\n",
      "('mo_sin_old_rev_tl_op', 0.045990463318638812)\n",
      "('mo_sin_rcnt_rev_tl_op', 0.026546536058982065)\n",
      "('mo_sin_rcnt_tl', 0.014233355670592305)\n",
      "('mort_acc', 0.014956963886470151)\n",
      "('mths_since_recent_bc', 0.0014725981119038942)\n",
      "('mths_since_recent_bc_dlq', 0.0013795138493612415)\n",
      "('mths_since_recent_inq', 0.0058117314491107708)\n",
      "('mths_since_recent_revol_delinq', 0.00020935953284112227)\n",
      "('num_accts_ever_120_pd', 0.0030109683733637346)\n",
      "('num_actv_bc_tl', 0.010680478674803916)\n",
      "('num_actv_rev_tl', 0.0076999816177177882)\n",
      "('num_bc_sats', 0.0151445197733666)\n",
      "('num_bc_tl', 0.017685989914771532)\n",
      "('num_il_tl', 0.017194423057558781)\n",
      "('num_op_rev_tl', 0.0077860354660771796)\n",
      "('num_rev_accts', 0.014339746536894645)\n",
      "('num_rev_tl_bal_gt_0', 0.011999707205724795)\n",
      "('num_sats', 0.0084803710277931814)\n",
      "('num_tl_120dpd_2m', 0.0021275001603310076)\n",
      "('num_tl_30dpd', 0.0002248008996401182)\n",
      "('num_tl_90g_dpd_24m', 0.00043643921855580735)\n",
      "('num_tl_op_past_12m', 0.014741088717913107)\n",
      "('pct_tl_nvr_dlq', 0.024714452255246325)\n",
      "('percent_bc_gt_75', 0.0030249080698357624)\n",
      "('pub_rec_bankruptcies', 0.0075131711359744113)\n",
      "('tax_liens', 0.0020883775346951018)\n",
      "('tot_hi_cred_lim', 0.046077368405526016)\n",
      "('total_bal_ex_mort', 0.026174729359071211)\n",
      "('total_bc_limit', 0.03969892907342934)\n",
      "('total_il_high_credit_limit', 0.035758459320900889)\n",
      "('mo_earliest_credit', 0.014265560961455856)\n",
      "('desc_bin', 0.0)\n",
      "('sub_grade_number', 0.0051539607819784681)\n",
      "('grade_A', 0.0017553654425173687)\n",
      "('grade_B', 0.0054527569032811985)\n",
      "('grade_C', 0.0025692804376330008)\n",
      "('grade_D', 0.0057598466816052123)\n",
      "('grade_E', 0.003644801268239661)\n",
      "('grade_F', 0.0)\n",
      "('grade_G', 0.0)\n",
      "('sub_grade_A1', 0.0)\n",
      "('sub_grade_A2', 0.00071700920751591429)\n",
      "('sub_grade_A3', 0.00042590189676472906)\n",
      "('sub_grade_A4', 0.00076722129143837582)\n",
      "('sub_grade_A5', 0.00026531804551660536)\n",
      "('sub_grade_B1', 0.00052305401373843434)\n",
      "('sub_grade_B2', 0.0028697594763315891)\n",
      "('sub_grade_B3', 0.00064633030914707586)\n",
      "('sub_grade_B4', 1.792289391422133e-05)\n",
      "('sub_grade_B5', 0.00052923266255323236)\n",
      "('sub_grade_C1', 0.0020119321662239661)\n",
      "('sub_grade_C2', 0.0055898570470431005)\n",
      "('sub_grade_C3', 0.0030582506514792249)\n",
      "('sub_grade_C4', 0.0042246268158972755)\n",
      "('sub_grade_C5', 0.0013849872758137573)\n",
      "('sub_grade_D1', 0.0024640115485958063)\n",
      "('sub_grade_D2', 0.0022261986508127791)\n",
      "('sub_grade_D3', 0.0005701151930617253)\n",
      "('sub_grade_D4', 0.00087873487338414218)\n",
      "('sub_grade_D5', 0.00042140895284785803)\n",
      "('sub_grade_E1', 0.00028464309575750528)\n",
      "('sub_grade_E2', 0.0015659131061300431)\n",
      "('sub_grade_E3', 0.00050060215938291426)\n",
      "('sub_grade_E4', 0.0)\n",
      "('sub_grade_E5', 0.0021034461891341863)\n",
      "('sub_grade_F1', 0.00028587696759534419)\n",
      "('sub_grade_F2', 0.00089986570315686489)\n",
      "('sub_grade_F3', 0.00087510463617121274)\n",
      "('sub_grade_F4', 0.00038364383457649973)\n",
      "('sub_grade_F5', 0.0013400548563725358)\n",
      "('sub_grade_G1', 0.00041351244424552003)\n",
      "('sub_grade_G2', 0.0)\n",
      "('sub_grade_G3', 0.0)\n",
      "('sub_grade_G4', 0.0)\n",
      "('sub_grade_G5', 0.00037432939324051867)\n",
      "('home_ownership_ANY', 0.0014303585830545106)\n",
      "('home_ownership_MORTGAGE', 0.0012396475401065742)\n",
      "('home_ownership_OWN', 0.00027129368029643212)\n",
      "('home_ownership_RENT', 0.0038468926097469593)\n",
      "('verification_status_Not Verified', 0.0043633766394424334)\n",
      "('verification_status_Source Verified', 0.0032698987114726029)\n",
      "('verification_status_Verified', 0.000978643793107392)\n",
      "('purpose_car', 0.0015422701763369603)\n",
      "('purpose_credit_card', 0.002498866538471976)\n",
      "('purpose_debt_consolidation', 0.0020779551804002649)\n",
      "('purpose_home_improvement', 0.00058530866650301314)\n",
      "('purpose_house', 0.0011201665112381253)\n",
      "('purpose_major_purchase', 0.0014014123358729107)\n",
      "('purpose_medical', 0.001957286664524932)\n",
      "('purpose_moving', 0.0031101251535613286)\n",
      "('purpose_other', 0.0038224009273911757)\n",
      "('purpose_renewable_energy', 0.00046901348902898181)\n",
      "('purpose_small_business', 0.0029197344740482583)\n",
      "('purpose_vacation', 0.00038455296795518982)\n",
      "('purpose_wedding', 0.0012833535531986879)\n"
     ]
    }
   ],
   "source": [
    "for i in zip(X_train.columns, gc.best_estimator_.feature_importances_):\n",
    "    print i"
   ]
  },
  {
   "cell_type": "code",
   "execution_count": 132,
   "metadata": {
    "collapsed": false
   },
   "outputs": [],
   "source": [
    "def inspect(X_test, true, pred, proba):\n",
    "    dfx = X_test.copy()\n",
    "    dfx['pred'] = pred\n",
    "    dfx['proba'] = proba\n",
    "    dfx['true'] = true\n",
    "    \n",
    "    return dfx"
   ]
  },
  {
   "cell_type": "code",
   "execution_count": 133,
   "metadata": {
    "collapsed": true
   },
   "outputs": [],
   "source": [
    "def grade_inspect(df, grade):\n",
    "    sliced = df[df['grade_{0}'.format(grade)]==1]\n",
    "    print classification_report(sliced['true'], sliced['pred'])"
   ]
  },
  {
   "cell_type": "code",
   "execution_count": 134,
   "metadata": {
    "collapsed": false
   },
   "outputs": [],
   "source": [
    "x = inspect(X_test, y_test, y_pred, y_proba)"
   ]
  },
  {
   "cell_type": "code",
   "execution_count": 135,
   "metadata": {
    "collapsed": false
   },
   "outputs": [
    {
     "name": "stdout",
     "output_type": "stream",
     "text": [
      "             precision    recall  f1-score   support\n",
      "\n",
      "          0       0.57      0.01      0.02      1389\n",
      "          1       0.74      1.00      0.85      3994\n",
      "\n",
      "avg / total       0.70      0.74      0.64      5383\n",
      "\n"
     ]
    }
   ],
   "source": [
    "grade_inspect(x, 'A')"
   ]
  },
  {
   "cell_type": "code",
   "execution_count": 136,
   "metadata": {
    "collapsed": false
   },
   "outputs": [
    {
     "name": "stdout",
     "output_type": "stream",
     "text": [
      "             precision    recall  f1-score   support\n",
      "\n",
      "          0       0.43      0.00      0.01      2341\n",
      "          1       0.78      1.00      0.88      8368\n",
      "\n",
      "avg / total       0.70      0.78      0.69     10709\n",
      "\n"
     ]
    }
   ],
   "source": [
    "grade_inspect(x, 'B')"
   ]
  },
  {
   "cell_type": "code",
   "execution_count": 137,
   "metadata": {
    "collapsed": false
   },
   "outputs": [
    {
     "name": "stdout",
     "output_type": "stream",
     "text": [
      "             precision    recall  f1-score   support\n",
      "\n",
      "          0       0.52      0.05      0.08      3460\n",
      "          1       0.71      0.98      0.82      8211\n",
      "\n",
      "avg / total       0.65      0.70      0.60     11671\n",
      "\n"
     ]
    }
   ],
   "source": [
    "grade_inspect(x, 'C')"
   ]
  },
  {
   "cell_type": "code",
   "execution_count": 138,
   "metadata": {
    "collapsed": false
   },
   "outputs": [
    {
     "name": "stdout",
     "output_type": "stream",
     "text": [
      "             precision    recall  f1-score   support\n",
      "\n",
      "          0       0.58      0.21      0.30      2754\n",
      "          1       0.66      0.91      0.76      4638\n",
      "\n",
      "avg / total       0.63      0.65      0.59      7392\n",
      "\n"
     ]
    }
   ],
   "source": [
    "grade_inspect(x, 'D')"
   ]
  },
  {
   "cell_type": "code",
   "execution_count": 139,
   "metadata": {
    "collapsed": false
   },
   "outputs": [
    {
     "name": "stdout",
     "output_type": "stream",
     "text": [
      "             precision    recall  f1-score   support\n",
      "\n",
      "          0       0.56      0.44      0.49      1647\n",
      "          1       0.62      0.73      0.67      2068\n",
      "\n",
      "avg / total       0.59      0.60      0.59      3715\n",
      "\n"
     ]
    }
   ],
   "source": [
    "grade_inspect(x, 'E')"
   ]
  },
  {
   "cell_type": "code",
   "execution_count": 140,
   "metadata": {
    "collapsed": false
   },
   "outputs": [
    {
     "name": "stdout",
     "output_type": "stream",
     "text": [
      "             precision    recall  f1-score   support\n",
      "\n",
      "          0       0.59      0.54      0.56       560\n",
      "          1       0.64      0.69      0.67       668\n",
      "\n",
      "avg / total       0.62      0.62      0.62      1228\n",
      "\n"
     ]
    }
   ],
   "source": [
    "grade_inspect(x, 'F')"
   ]
  },
  {
   "cell_type": "code",
   "execution_count": null,
   "metadata": {
    "collapsed": true
   },
   "outputs": [],
   "source": []
  }
 ],
 "metadata": {
  "kernelspec": {
   "display_name": "Python 2",
   "language": "python",
   "name": "python2"
  },
  "language_info": {
   "codemirror_mode": {
    "name": "ipython",
    "version": 2
   },
   "file_extension": ".py",
   "mimetype": "text/x-python",
   "name": "python",
   "nbconvert_exporter": "python",
   "pygments_lexer": "ipython2",
   "version": "2.7.13"
  }
 },
 "nbformat": 4,
 "nbformat_minor": 1
}
